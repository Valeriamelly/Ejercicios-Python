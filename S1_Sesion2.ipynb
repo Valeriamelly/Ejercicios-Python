{
 "cells": [
  {
   "cell_type": "markdown",
   "metadata": {
    "colab_type": "text",
    "id": "I4c0J82DFj5y"
   },
   "source": [
    "# Ejercicios Sesión 2"
   ]
  },
  {
   "cell_type": "markdown",
   "metadata": {
    "colab_type": "text",
    "id": "fH5VFoIGNm1Y"
   },
   "source": [
    "## Algunos conceptos útiles"
   ]
  },
  {
   "cell_type": "code",
   "execution_count": null,
   "metadata": {
    "colab": {},
    "colab_type": "code",
    "id": "fVjsw2OtGR9i"
   },
   "outputs": [],
   "source": [
    "#Crear variables\n",
    "\n",
    "x = 18"
   ]
  },
  {
   "cell_type": "code",
   "execution_count": null,
   "metadata": {
    "colab": {},
    "colab_type": "code",
    "id": "1rss0wumHHt-"
   },
   "outputs": [],
   "source": [
    "#Consultar variables\n",
    "\n",
    "x"
   ]
  },
  {
   "cell_type": "code",
   "execution_count": null,
   "metadata": {
    "colab": {},
    "colab_type": "code",
    "id": "ECaHBI3ZHN5A"
   },
   "outputs": [],
   "source": [
    "#Mostrar en pantalla\n",
    "\n",
    "print(\"La variable x vale\", x)"
   ]
  },
  {
   "cell_type": "code",
   "execution_count": null,
   "metadata": {
    "colab": {},
    "colab_type": "code",
    "id": "dxDqXxDFHYDr"
   },
   "outputs": [],
   "source": [
    "#Solicitar datos (se almacena como un string)\n",
    "\n",
    "nombre = input()"
   ]
  },
  {
   "cell_type": "code",
   "execution_count": null,
   "metadata": {
    "colab": {},
    "colab_type": "code",
    "id": "7USqa7jjIVMf"
   },
   "outputs": [],
   "source": [
    "#Eliminar una variable\n",
    "\n",
    "del nombre"
   ]
  },
  {
   "cell_type": "markdown",
   "metadata": {
    "colab_type": "text",
    "id": "rXSPSXpmJnuq"
   },
   "source": [
    "## Bool"
   ]
  },
  {
   "cell_type": "code",
   "execution_count": null,
   "metadata": {
    "colab": {},
    "colab_type": "code",
    "id": "m9Uwyn6CInVR"
   },
   "outputs": [],
   "source": [
    "b1 = True\n",
    "b2 = True\n",
    "b3 = False"
   ]
  },
  {
   "cell_type": "code",
   "execution_count": null,
   "metadata": {
    "colab": {},
    "colab_type": "code",
    "id": "4I47hQuJJ0xD"
   },
   "outputs": [],
   "source": [
    "b1"
   ]
  },
  {
   "cell_type": "code",
   "execution_count": null,
   "metadata": {
    "colab": {},
    "colab_type": "code",
    "id": "0k_GdFilJ8DA"
   },
   "outputs": [],
   "source": [
    "#Negación\n",
    "\n",
    "not b1"
   ]
  },
  {
   "cell_type": "code",
   "execution_count": null,
   "metadata": {
    "colab": {},
    "colab_type": "code",
    "id": "mnltgIYnJ_BP"
   },
   "outputs": [],
   "source": [
    "#Operador and\n",
    "\n",
    "b1 and b3"
   ]
  },
  {
   "cell_type": "code",
   "execution_count": null,
   "metadata": {
    "colab": {},
    "colab_type": "code",
    "id": "nJj333fnK8zc"
   },
   "outputs": [],
   "source": [
    "#Operador or\n",
    "\n",
    "b2 or b3"
   ]
  },
  {
   "cell_type": "code",
   "execution_count": null,
   "metadata": {
    "colab": {},
    "colab_type": "code",
    "id": "x7EOaAwzK_mB"
   },
   "outputs": [],
   "source": [
    "#Operador xor\n",
    "\n",
    "b1 ^ b3"
   ]
  },
  {
   "cell_type": "markdown",
   "metadata": {
    "colab_type": "text",
    "id": "3JgHmz_RLnUD"
   },
   "source": [
    "## Numéricos"
   ]
  },
  {
   "cell_type": "code",
   "execution_count": null,
   "metadata": {
    "colab": {},
    "colab_type": "code",
    "id": "VjvAebXALFUY"
   },
   "outputs": [],
   "source": [
    "a = 142\n",
    "b = 13"
   ]
  },
  {
   "cell_type": "code",
   "execution_count": null,
   "metadata": {
    "colab": {},
    "colab_type": "code",
    "id": "JxRvbYCBLu_3"
   },
   "outputs": [],
   "source": [
    "a + b"
   ]
  },
  {
   "cell_type": "code",
   "execution_count": null,
   "metadata": {
    "colab": {},
    "colab_type": "code",
    "id": "AEA8ZgiILx6Q"
   },
   "outputs": [],
   "source": [
    "a - b"
   ]
  },
  {
   "cell_type": "code",
   "execution_count": null,
   "metadata": {
    "colab": {},
    "colab_type": "code",
    "id": "zqW3ooW6Lz7w"
   },
   "outputs": [],
   "source": [
    "a * b"
   ]
  },
  {
   "cell_type": "code",
   "execution_count": null,
   "metadata": {
    "colab": {},
    "colab_type": "code",
    "id": "3OpOSiXFL1lv"
   },
   "outputs": [],
   "source": [
    "#División real\n",
    "\n",
    "a / b"
   ]
  },
  {
   "cell_type": "code",
   "execution_count": null,
   "metadata": {
    "colab": {},
    "colab_type": "code",
    "id": "PBXTk-hcL5vG"
   },
   "outputs": [],
   "source": [
    "#División entera\n",
    "\n",
    "a // b"
   ]
  },
  {
   "cell_type": "code",
   "execution_count": null,
   "metadata": {
    "colab": {},
    "colab_type": "code",
    "id": "bQKw57eLMPQs"
   },
   "outputs": [],
   "source": [
    "#Residuo (Operador módulo)\n",
    "\n",
    "a % b"
   ]
  },
  {
   "cell_type": "markdown",
   "metadata": {
    "colab_type": "text",
    "id": "NGV5PVEmN3IR"
   },
   "source": [
    "Al tener diversas operaciones y consultas dentro de una misma celda de código, todas las operaciones son ejecutadas pero solo la última consulta será visible en el output."
   ]
  },
  {
   "cell_type": "code",
   "execution_count": null,
   "metadata": {
    "colab": {},
    "colab_type": "code",
    "id": "wpitkfm1Maye"
   },
   "outputs": [],
   "source": [
    "c = a / b\n",
    "\n",
    "a\n",
    "b\n",
    "c"
   ]
  },
  {
   "cell_type": "code",
   "execution_count": null,
   "metadata": {
    "colab": {},
    "colab_type": "code",
    "id": "Bl_FgPvqM6kK"
   },
   "outputs": [],
   "source": [
    "#Consultar el tipo de dato de una variable\n",
    "\n",
    "type(a), type(c), type(b1)"
   ]
  },
  {
   "cell_type": "code",
   "execution_count": null,
   "metadata": {
    "colab": {},
    "colab_type": "code",
    "id": "wOAZvXk5NZ_d"
   },
   "outputs": [],
   "source": [
    "#Operador exponencial\n",
    "\n",
    "24 ** 7"
   ]
  },
  {
   "cell_type": "code",
   "execution_count": null,
   "metadata": {
    "colab": {},
    "colab_type": "code",
    "id": "tp71DFIYNt-k"
   },
   "outputs": [],
   "source": [
    "#Números muy grandes son soportados en Python\n",
    "\n",
    "54241574455 ** 10"
   ]
  },
  {
   "cell_type": "code",
   "execution_count": null,
   "metadata": {
    "colab": {},
    "colab_type": "code",
    "id": "Xq_rFyOhNyEH"
   },
   "outputs": [],
   "source": [
    "#Calculando una raiz como la inversa de la exponencial\n",
    "\n",
    "36 ** (1/5)"
   ]
  },
  {
   "cell_type": "code",
   "execution_count": null,
   "metadata": {
    "colab": {},
    "colab_type": "code",
    "id": "QxQuo7UGOAGe"
   },
   "outputs": [],
   "source": [
    "#Llamando a la función log que se encuentra en numpy (alias np)\n",
    "\n",
    "np.log(47)"
   ]
  },
  {
   "cell_type": "code",
   "execution_count": null,
   "metadata": {
    "colab": {},
    "colab_type": "code",
    "id": "_91o2DdDOad4"
   },
   "outputs": [],
   "source": [
    "#Llamando a la función sqrt con el alias de raiz (declarado en la importación de librerías)\n",
    "\n",
    "raiz(100)"
   ]
  },
  {
   "cell_type": "markdown",
   "metadata": {
    "colab_type": "text",
    "id": "08gs7n1zPvEM"
   },
   "source": [
    "## String"
   ]
  },
  {
   "cell_type": "code",
   "execution_count": null,
   "metadata": {
    "colab": {},
    "colab_type": "code",
    "id": "Rz_cQEi1PSQw"
   },
   "outputs": [],
   "source": [
    "s1 = 'Hola, soy un string.'\n",
    "s2 = \"Fundamentos de Programación en Python.\""
   ]
  },
  {
   "cell_type": "code",
   "execution_count": null,
   "metadata": {
    "colab": {},
    "colab_type": "code",
    "id": "5mIvqhi0P1xd"
   },
   "outputs": [],
   "source": [
    "type(s2)"
   ]
  },
  {
   "cell_type": "code",
   "execution_count": null,
   "metadata": {
    "colab": {},
    "colab_type": "code",
    "id": "mXCNHqxdP4pa"
   },
   "outputs": [],
   "source": [
    "#Concatenar strings\n",
    "\n",
    "s1 + s2"
   ]
  },
  {
   "cell_type": "code",
   "execution_count": null,
   "metadata": {
    "colab": {},
    "colab_type": "code",
    "id": "zj_lV-xSQDUc"
   },
   "outputs": [],
   "source": [
    "#Cantidad de caracteres de un string\n",
    "\n",
    "len(s1)"
   ]
  },
  {
   "cell_type": "code",
   "execution_count": null,
   "metadata": {
    "colab": {},
    "colab_type": "code",
    "id": "JWimUyIXQMq7"
   },
   "outputs": [],
   "source": [
    "#String convertido a mayúsculas\n",
    "\n",
    "s1.upper()"
   ]
  },
  {
   "cell_type": "code",
   "execution_count": null,
   "metadata": {
    "colab": {},
    "colab_type": "code",
    "id": "bchH66syQnRR"
   },
   "outputs": [],
   "source": [
    "#Réplica de un string n veces\n",
    "\n",
    "s1 * 4"
   ]
  },
  {
   "cell_type": "markdown",
   "metadata": {
    "colab_type": "text",
    "id": "S0Xuw1NVRbu8"
   },
   "source": [
    "## Cast\n",
    "\n",
    "Es la operación de cambio de tipo de dato entre variables:\n",
    "- De int a float\n",
    "- De int a str\n",
    "- De float a str\n",
    "- Viceversa\n",
    "\n",
    "Tener en cuenta que un str se puede convertir a número (int o float) siempre que no tenga otros caracteres, es decir, solo puede estar compuesto por dígitos.\n"
   ]
  },
  {
   "cell_type": "code",
   "execution_count": null,
   "metadata": {
    "colab": {},
    "colab_type": "code",
    "id": "r9D-S2JdREhm"
   },
   "outputs": [],
   "source": [
    "a"
   ]
  },
  {
   "cell_type": "code",
   "execution_count": null,
   "metadata": {
    "colab": {},
    "colab_type": "code",
    "id": "G_9yzswYRkZE"
   },
   "outputs": [],
   "source": [
    "#De int a float\n",
    "\n",
    "float(a)"
   ]
  },
  {
   "cell_type": "code",
   "execution_count": null,
   "metadata": {
    "colab": {},
    "colab_type": "code",
    "id": "Jcp9DXroRtXk"
   },
   "outputs": [],
   "source": [
    "#De int a str\n",
    "\n",
    "str(a)"
   ]
  },
  {
   "cell_type": "code",
   "execution_count": null,
   "metadata": {
    "colab": {},
    "colab_type": "code",
    "id": "6PA9hicfRxQY"
   },
   "outputs": [],
   "source": [
    "s1"
   ]
  },
  {
   "cell_type": "code",
   "execution_count": null,
   "metadata": {
    "colab": {},
    "colab_type": "code",
    "id": "unNVJh8lR3LT"
   },
   "outputs": [],
   "source": [
    "#Error, no se puede convertir a int\n",
    "\n",
    "int(s1)"
   ]
  },
  {
   "cell_type": "code",
   "execution_count": null,
   "metadata": {
    "colab": {},
    "colab_type": "code",
    "id": "Z7jeUlGHO7wi"
   },
   "outputs": [],
   "source": [
    "edad = input(\"Ingrese la edad: \")"
   ]
  },
  {
   "cell_type": "code",
   "execution_count": null,
   "metadata": {
    "colab": {},
    "colab_type": "code",
    "id": "G9LwTI3JO-nW"
   },
   "outputs": [],
   "source": [
    "edad + 5"
   ]
  },
  {
   "cell_type": "code",
   "execution_count": null,
   "metadata": {
    "colab": {},
    "colab_type": "code",
    "id": "7K9SqXaPR5Fe"
   },
   "outputs": [],
   "source": [
    "#Solicitamos la edad y convertimos a int, puesto que la función input() siempre devuelve un str\n",
    "\n",
    "edad = int(input(\"Ingrese la edad: \"))"
   ]
  },
  {
   "cell_type": "code",
   "execution_count": null,
   "metadata": {
    "colab": {},
    "colab_type": "code",
    "id": "4eMrsQX_SDcP"
   },
   "outputs": [],
   "source": [
    "edad + 5"
   ]
  },
  {
   "cell_type": "code",
   "execution_count": null,
   "metadata": {
    "colab": {},
    "colab_type": "code",
    "id": "8IDFB0rPSJZR"
   },
   "outputs": [],
   "source": [
    "c"
   ]
  },
  {
   "cell_type": "markdown",
   "metadata": {
    "colab_type": "text",
    "id": "TxYDSkblYp6c"
   },
   "source": [
    "## Ejercicio 1\n",
    "\n",
    "Solicitar por pantalla 'n' segundos e imprimir la cantidad de horas, minutos y segundos que representa.\n",
    "\n",
    "**Ejemplo:**\n",
    "\n",
    "315\n",
    "\n",
    "\n",
    "0 horas\n",
    "5 minutos\n",
    "15 segundos"
   ]
  },
  {
   "cell_type": "code",
   "execution_count": null,
   "metadata": {
    "colab": {},
    "colab_type": "code",
    "id": "jczvtg2_P0OP"
   },
   "outputs": [],
   "source": [
    "#Inserte su solución aquí :)"
   ]
  },
  {
   "cell_type": "markdown",
   "metadata": {
    "colab_type": "text",
    "id": "afJBoMWrPP1z"
   },
   "source": [
    "## Ejercicio 2\n",
    "\n",
    "Solicitar el peso y la altura de un usuario para informarle cuál es su IMC (Índice de Masa Corporal).\n",
    "\n",
    "**Obs: El IMC se calcula como peso/altura^2**"
   ]
  },
  {
   "cell_type": "code",
   "execution_count": null,
   "metadata": {
    "colab": {},
    "colab_type": "code",
    "id": "kv5vRMNHUUeR"
   },
   "outputs": [],
   "source": [
    "#Inserte su solución aquí :)"
   ]
  },
  {
   "cell_type": "markdown",
   "metadata": {
    "colab_type": "text",
    "id": "jjUhPKW0UICg"
   },
   "source": [
    "## Ejercicio 3\n",
    "\n",
    "Calcular el producto de 444...444 (150 dígitos) por 777...777 (300 dígitos). Sin escribir el número completo."
   ]
  },
  {
   "cell_type": "code",
   "execution_count": null,
   "metadata": {
    "colab": {},
    "colab_type": "code",
    "id": "KMT-oQ1wUMuv"
   },
   "outputs": [],
   "source": [
    "#Inserte su solución aquí :)"
   ]
  }
 ],
 "metadata": {
  "colab": {
   "collapsed_sections": [
    "I4c0J82DFj5y",
    "fH5VFoIGNm1Y",
    "rXSPSXpmJnuq",
    "3JgHmz_RLnUD",
    "08gs7n1zPvEM",
    "S0Xuw1NVRbu8",
    "TxYDSkblYp6c",
    "afJBoMWrPP1z",
    "jjUhPKW0UICg"
   ],
   "name": "Sesión01_FDP_OG5.ipynb",
   "provenance": []
  },
  "kernelspec": {
   "display_name": "Python 3 (ipykernel)",
   "language": "python",
   "name": "python3"
  },
  "language_info": {
   "codemirror_mode": {
    "name": "ipython",
    "version": 3
   },
   "file_extension": ".py",
   "mimetype": "text/x-python",
   "name": "python",
   "nbconvert_exporter": "python",
   "pygments_lexer": "ipython3",
   "version": "3.9.12"
  }
 },
 "nbformat": 4,
 "nbformat_minor": 1
}
