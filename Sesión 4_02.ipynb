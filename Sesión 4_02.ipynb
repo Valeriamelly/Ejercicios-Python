{
 "cells": [
  {
   "cell_type": "markdown",
   "metadata": {},
   "source": [
    "# Sesión 1: Estructuras de control"
   ]
  },
  {
   "cell_type": "markdown",
   "metadata": {},
   "source": [
    "## Identación"
   ]
  },
  {
   "cell_type": "raw",
   "metadata": {},
   "source": [
    "inicio de la estructura de control:\n",
    "    expresiones"
   ]
  },
  {
   "cell_type": "markdown",
   "metadata": {},
   "source": [
    "La identación es lo que se conoce como sangría, en Python es obligatoria ya que de ella dependerá su estructura"
   ]
  },
  {
   "cell_type": "markdown",
   "metadata": {},
   "source": [
    "## Estructuras de control"
   ]
  },
  {
   "cell_type": "markdown",
   "metadata": {},
   "source": [
    "### Estructuras de control de flujo condicionales"
   ]
  },
  {
   "cell_type": "markdown",
   "metadata": {},
   "source": [
    "Las estructuras de control de flujo condicionales, se definen mediante el uso de tres palabras claves reservadas, del lenguaje: if (si), elif (sino, si) y else (sino)."
   ]
  },
  {
   "cell_type": "markdown",
   "metadata": {},
   "source": [
    "Ejemplo 1:\n",
    "Si semáforo esta en verde, cruzar la calle. Sino, esperar"
   ]
  },
  {
   "cell_type": "raw",
   "metadata": {},
   "source": [
    "if semaforo == 'verde': \n",
    "    print(\"Cruzar la calle\")\n",
    "else: \n",
    "    print(\"Esperar\")"
   ]
  },
  {
   "cell_type": "markdown",
   "metadata": {},
   "source": [
    "Aplicando para semaforo rojo"
   ]
  },
  {
   "cell_type": "code",
   "execution_count": 1,
   "metadata": {},
   "outputs": [],
   "source": [
    "semaforo = 'rojo'"
   ]
  },
  {
   "cell_type": "code",
   "execution_count": 2,
   "metadata": {},
   "outputs": [
    {
     "name": "stdout",
     "output_type": "stream",
     "text": [
      "Esperar\n"
     ]
    }
   ],
   "source": [
    "if semaforo == 'verde': \n",
    "    print(\"Cruzar la calle\")\n",
    "else: \n",
    "    print(\"Esperar\")"
   ]
  },
  {
   "cell_type": "code",
   "execution_count": 3,
   "metadata": {},
   "outputs": [
    {
     "name": "stdout",
     "output_type": "stream",
     "text": [
      "Esperar\n"
     ]
    }
   ],
   "source": [
    "print(\"Cruzar la calle\") if semaforo == 'verde' else print(\"Esperar\")"
   ]
  },
  {
   "cell_type": "markdown",
   "metadata": {},
   "source": [
    "Ejemplo 2:\n",
    "Si gasto hasta S/.100, pago con dinero en efectivo. Si no, si gasto más de S/.100 pero menos de S/.300, pago con tarjeta de débito. Si no, pago con tarjeta de crédito."
   ]
  },
  {
   "cell_type": "markdown",
   "metadata": {},
   "source": [
    "#### Pregunta: ¿Si gaste S/.210, con que pago?"
   ]
  },
  {
   "cell_type": "code",
   "execution_count": 4,
   "metadata": {},
   "outputs": [
    {
     "name": "stdout",
     "output_type": "stream",
     "text": [
      "Pago con tarjeta de débito\n"
     ]
    }
   ],
   "source": [
    "compra = 210\n",
    "if compra <= 100: \n",
    "    print(\"Pago en efectivo\")\n",
    "elif compra > 100 and compra < 300: \n",
    "    print(\"Pago con tarjeta de débito\")\n",
    "else: \n",
    "    print(\"Pago con tarjeta de crédito\")"
   ]
  },
  {
   "cell_type": "markdown",
   "metadata": {},
   "source": [
    "Ejemplo 3:\n",
    "Si la compra es mayor a S/.100, obtengo un descuento del 10%."
   ]
  },
  {
   "cell_type": "code",
   "execution_count": 5,
   "metadata": {},
   "outputs": [
    {
     "data": {
      "text/plain": [
       "360.0"
      ]
     },
     "execution_count": 5,
     "metadata": {},
     "output_type": "execute_result"
    }
   ],
   "source": [
    "total_compra = 400\n",
    "if total_compra > 100: \n",
    "    tasa_descuento = 10 \n",
    "    importe_descuento = total_compra * tasa_descuento / 100 \n",
    "    importe_a_pagar = total_compra - importe_descuento\n",
    "importe_a_pagar"
   ]
  },
  {
   "cell_type": "code",
   "execution_count": 7,
   "metadata": {},
   "outputs": [
    {
     "name": "stdout",
     "output_type": "stream",
     "text": [
      "2\n",
      "Positivo\n",
      "Positivo\n",
      "Positivo\n",
      "Positivo\n"
     ]
    }
   ],
   "source": [
    "numero = 1\n",
    "numero = numero + 1\n",
    "print(numero)\n",
    "if numero < 0:\n",
    "    print(\"negativo\")\n",
    "elif numero > 0:\n",
    "    print(\"Positivo\")\n",
    "    print(\"Positivo\")\n",
    "    print(\"Positivo\")\n",
    "    print(\"Positivo\")\n",
    "else:\n",
    "    print(\"Cero\")"
   ]
  },
  {
   "cell_type": "markdown",
   "metadata": {},
   "source": [
    "### Otros ejemplos"
   ]
  },
  {
   "cell_type": "code",
   "execution_count": 8,
   "metadata": {},
   "outputs": [],
   "source": [
    "edad = 30"
   ]
  },
  {
   "cell_type": "code",
   "execution_count": 9,
   "metadata": {},
   "outputs": [
    {
     "name": "stdout",
     "output_type": "stream",
     "text": [
      "Es mayor de edad\n"
     ]
    }
   ],
   "source": [
    "if edad >= 18:\n",
    "    print('Es mayor de edad')"
   ]
  },
  {
   "cell_type": "code",
   "execution_count": 10,
   "metadata": {},
   "outputs": [
    {
     "name": "stdout",
     "output_type": "stream",
     "text": [
      "Es mayor de edad\n"
     ]
    }
   ],
   "source": [
    "if edad >= 18:\n",
    "    print('Es mayor de edad')\n",
    "else:\n",
    "    print('Es menor de edad')"
   ]
  },
  {
   "cell_type": "code",
   "execution_count": 11,
   "metadata": {},
   "outputs": [
    {
     "name": "stdout",
     "output_type": "stream",
     "text": [
      "Adulto\n"
     ]
    }
   ],
   "source": [
    "if edad < 18:\n",
    "    print('Niño')\n",
    "elif edad < 30:\n",
    "    print('Adulto joven')\n",
    "elif edad < 60:\n",
    "    print('Adulto')\n",
    "else:\n",
    "    print('Anciano')"
   ]
  },
  {
   "cell_type": "code",
   "execution_count": 12,
   "metadata": {},
   "outputs": [
    {
     "name": "stdout",
     "output_type": "stream",
     "text": [
      "Sleep in\n"
     ]
    }
   ],
   "source": [
    "day = \"Sunday\"\n",
    "if day == \"Sunday\":\n",
    "    print(\"Sleep in\")\n",
    "elif day == \"Saturday\":\n",
    "    print(\"Do chores\")\n",
    "else:\n",
    "    print(\"Go to work\")"
   ]
  },
  {
   "cell_type": "code",
   "execution_count": 16,
   "metadata": {},
   "outputs": [
    {
     "name": "stdout",
     "output_type": "stream",
     "text": [
      "Es menor de edad\n",
      "None\n"
     ]
    }
   ],
   "source": [
    "#operación ternaria en una fila\n",
    "edad=15\n",
    "mensaje = 'Es mayor de edad' if edad >= 18 else print('Es menor de edad') \n",
    "print(mensaje)"
   ]
  },
  {
   "cell_type": "markdown",
   "metadata": {},
   "source": [
    "### Estructuras de control iterativas"
   ]
  },
  {
   "cell_type": "markdown",
   "metadata": {},
   "source": [
    "#### Bucle while"
   ]
  },
  {
   "cell_type": "code",
   "execution_count": 17,
   "metadata": {},
   "outputs": [
    {
     "name": "stdout",
     "output_type": "stream",
     "text": [
      "Informes del Año 2005\n",
      "Informes del Año 2006\n",
      "Informes del Año 2007\n",
      "Informes del Año 2008\n",
      "Informes del Año 2009\n",
      "Informes del Año 2010\n",
      "Informes del Año 2011\n",
      "Informes del Año 2012\n",
      "Informes del Año 2013\n",
      "Informes del Año 2014\n",
      "Informes del Año 2015\n",
      "Informes del Año 2016\n",
      "Informes del Año 2017\n",
      "Informes del Año 2018\n"
     ]
    }
   ],
   "source": [
    "anio = 2005 \n",
    "while anio <= 2018: \n",
    "    print(\"Informes del Año\", str(anio))\n",
    "    anio += 1"
   ]
  },
  {
   "cell_type": "markdown",
   "metadata": {},
   "source": [
    "Este bucle, se encarga de ejecutar una misma acción \"mientras que\" una determinada condición se cumpla."
   ]
  },
  {
   "cell_type": "code",
   "execution_count": 18,
   "metadata": {},
   "outputs": [
    {
     "name": "stdout",
     "output_type": "stream",
     "text": [
      "valor -5\n",
      "valor -4\n",
      "valor -3\n",
      "valor -2\n",
      "valor -1\n",
      "valor 0\n",
      "valor 1\n",
      "valor 2\n",
      "valor 3\n",
      "valor 4\n",
      "Fin del while\n"
     ]
    }
   ],
   "source": [
    "valor = -5\n",
    "while (valor < 5):\n",
    "    print(\"valor \"+str(valor))\n",
    "    valor+=1\n",
    "#end while\n",
    "print(\"Fin del while\")"
   ]
  },
  {
   "cell_type": "markdown",
   "metadata": {},
   "source": [
    "#### Bucle for"
   ]
  },
  {
   "cell_type": "markdown",
   "metadata": {},
   "source": [
    "El bucle for, en Python, es aquel que nos permitirá iterar sobre una variable compleja, del tipo lista o tupla"
   ]
  },
  {
   "cell_type": "code",
   "execution_count": 19,
   "metadata": {},
   "outputs": [
    {
     "name": "stdout",
     "output_type": "stream",
     "text": [
      "1\n",
      "2\n",
      "3\n",
      "4\n",
      "5\n",
      "6\n",
      "7\n",
      "8\n",
      "9\n",
      "10\n"
     ]
    }
   ],
   "source": [
    "for i in range(1, 11):\n",
    "    print(i)"
   ]
  },
  {
   "cell_type": "code",
   "execution_count": 20,
   "metadata": {},
   "outputs": [
    {
     "name": "stdout",
     "output_type": "stream",
     "text": [
      "50005000\n"
     ]
    }
   ],
   "source": [
    "#codigo usando for\n",
    "acum = 0\n",
    "for i in range(1, 10001):\n",
    "    acum = acum + i\n",
    "    \n",
    "print(acum)"
   ]
  },
  {
   "cell_type": "code",
   "execution_count": 21,
   "metadata": {},
   "outputs": [
    {
     "name": "stdout",
     "output_type": "stream",
     "text": [
      "50005000\n"
     ]
    }
   ],
   "source": [
    "#codigo usando while\n",
    "acum = 0\n",
    "i = 1\n",
    "while (i < 10001):\n",
    "    acum = acum + i\n",
    "    i = i+1\n",
    "print(acum)"
   ]
  },
  {
   "cell_type": "code",
   "execution_count": 22,
   "metadata": {},
   "outputs": [
    {
     "name": "stdout",
     "output_type": "stream",
     "text": [
      "1 1\n",
      "2 2\n",
      "3 6\n",
      "4 24\n",
      "5 120\n",
      "6 720\n",
      "7 5040\n",
      "8 40320\n",
      "9 362880\n",
      "10 3628800\n"
     ]
    }
   ],
   "source": [
    "fact = 1\n",
    "\n",
    "for i in range(1, 11):\n",
    "    fact = fact*i\n",
    "    print(i, fact)"
   ]
  },
  {
   "cell_type": "code",
   "execution_count": 23,
   "metadata": {},
   "outputs": [
    {
     "name": "stdout",
     "output_type": "stream",
     "text": [
      "Juan\n",
      "Antonio\n",
      "Pedro\n",
      "Herminio\n"
     ]
    }
   ],
   "source": [
    "lista_1 = ['Juan', 'Antonio', 'Pedro', 'Herminio'] \n",
    "for nombre in lista_1: \n",
    "    print(nombre)"
   ]
  },
  {
   "cell_type": "code",
   "execution_count": 24,
   "metadata": {},
   "outputs": [
    {
     "name": "stdout",
     "output_type": "stream",
     "text": [
      "rosa\n",
      "verde\n",
      "celeste\n",
      "amarillo\n"
     ]
    }
   ],
   "source": [
    "tupla_1 = ('rosa', 'verde', 'celeste', 'amarillo') \n",
    "for color in tupla_1: \n",
    "    print(color)"
   ]
  },
  {
   "cell_type": "markdown",
   "metadata": {},
   "source": [
    "En los ejemplos anteriores, nombre y color, son dos variables declaradas en tiempo de ejecución (es decir, se declaran dinámicamente durante el bucle), asumiendo como valor, el de cada elemento de la lista (o tupla) en cada iteración."
   ]
  },
  {
   "cell_type": "code",
   "execution_count": 25,
   "metadata": {},
   "outputs": [],
   "source": [
    "days_of_the_week = ['Monday','Tuesday','Wednesday','Thursday','Friday','Saturday','Sunday']"
   ]
  },
  {
   "cell_type": "code",
   "execution_count": 26,
   "metadata": {},
   "outputs": [
    {
     "name": "stdout",
     "output_type": "stream",
     "text": [
      "Monday\n",
      "Tuesday\n",
      "Wednesday\n",
      "Thursday\n",
      "Friday\n",
      "Saturday\n",
      "Sunday\n"
     ]
    }
   ],
   "source": [
    "for day in days_of_the_week:\n",
    "    print(day)"
   ]
  },
  {
   "cell_type": "code",
   "execution_count": 27,
   "metadata": {},
   "outputs": [
    {
     "name": "stdout",
     "output_type": "stream",
     "text": [
      "Today is Monday\n",
      "Today is Tuesday\n",
      "Today is Wednesday\n",
      "Today is Thursday\n",
      "Today is Friday\n",
      "Today is Saturday\n",
      "Today is Sunday\n"
     ]
    }
   ],
   "source": [
    "for day in days_of_the_week:\n",
    "    statement = \"Today is \" + day\n",
    "    print(statement)"
   ]
  },
  {
   "cell_type": "code",
   "execution_count": 28,
   "metadata": {},
   "outputs": [
    {
     "name": "stdout",
     "output_type": "stream",
     "text": [
      "The square of  0  is  0\n",
      "The square of  1  is  1\n",
      "The square of  2  is  4\n",
      "The square of  3  is  9\n",
      "The square of  4  is  16\n",
      "The square of  5  is  25\n",
      "The square of  6  is  36\n",
      "The square of  7  is  49\n",
      "The square of  8  is  64\n",
      "The square of  9  is  81\n",
      "The square of  10  is  100\n",
      "The square of  11  is  121\n",
      "The square of  12  is  144\n",
      "The square of  13  is  169\n",
      "The square of  14  is  196\n",
      "The square of  15  is  225\n",
      "The square of  16  is  256\n",
      "The square of  17  is  289\n",
      "The square of  18  is  324\n",
      "The square of  19  is  361\n"
     ]
    }
   ],
   "source": [
    "for i in range (20):\n",
    "    print(\"The square of \",i,\" is \",i*i)"
   ]
  },
  {
   "cell_type": "code",
   "execution_count": 29,
   "metadata": {},
   "outputs": [
    {
     "name": "stdout",
     "output_type": "stream",
     "text": [
      "S\n",
      "u\n",
      "n\n",
      "d\n",
      "a\n",
      "y\n"
     ]
    }
   ],
   "source": [
    "for letter in \"Sunday\":\n",
    "    print(letter)"
   ]
  },
  {
   "cell_type": "code",
   "execution_count": 30,
   "metadata": {},
   "outputs": [
    {
     "name": "stdout",
     "output_type": "stream",
     "text": [
      "Today is Monday\n",
      "Go to work\n",
      "Today is Tuesday\n",
      "Go to work\n",
      "Today is Wednesday\n",
      "Go to work\n",
      "Today is Thursday\n",
      "Go to work\n",
      "Today is Friday\n",
      "Go to work\n",
      "Today is Saturday\n",
      "Do chores\n",
      "Today is Sunday\n",
      "Sleep in\n"
     ]
    }
   ],
   "source": [
    "for day in days_of_the_week:\n",
    "    print(\"Today is\",day)\n",
    "    if day == \"Sunday\":\n",
    "        print(\"Sleep in\")\n",
    "    elif day == \"Saturday\":\n",
    "        print(\"Do chores\")\n",
    "    else:\n",
    "        print(\"Go to work\")"
   ]
  },
  {
   "cell_type": "code",
   "execution_count": 31,
   "metadata": {},
   "outputs": [
    {
     "name": "stdout",
     "output_type": "stream",
     "text": [
      "[0, 1, 1, 2, 3, 5, 8, 13, 21, 34]\n"
     ]
    }
   ],
   "source": [
    "# Fibonacci\n",
    "n = 10\n",
    "sequence = [0,1]  #es una lista de numeros\n",
    "for i in range(2,n): # Para todo n<=2\n",
    "    sequence.append(sequence[i-1]+sequence[i-2])\n",
    "print(sequence)"
   ]
  },
  {
   "cell_type": "code",
   "execution_count": 32,
   "metadata": {},
   "outputs": [
    {
     "name": "stdout",
     "output_type": "stream",
     "text": [
      "[0, 1, 1, 2, 4, 7, 13, 24, 44, 81]\n"
     ]
    }
   ],
   "source": [
    "n = 10\n",
    "sequence = [0,1,1]\n",
    "for i in range(3,n): # Para todo n<=2\n",
    "    sequence.append(sequence[i-1]+sequence[i-2]+sequence[i-3])\n",
    "print(sequence)"
   ]
  },
  {
   "cell_type": "code",
   "execution_count": 33,
   "metadata": {},
   "outputs": [
    {
     "name": "stdout",
     "output_type": "stream",
     "text": [
      "0\n",
      "2\n",
      "4\n",
      "6\n",
      "8\n"
     ]
    }
   ],
   "source": [
    "#Bucles\n",
    "list = range(0,10,2)\n",
    "\n",
    "for valor in range(0,10,2):\n",
    "    print(valor)\n",
    "    \n",
    "valor=0"
   ]
  },
  {
   "cell_type": "code",
   "execution_count": 34,
   "metadata": {},
   "outputs": [
    {
     "name": "stdout",
     "output_type": "stream",
     "text": [
      "5\n",
      "10\n",
      "15\n",
      "20\n",
      "25\n",
      "30\n",
      "35\n",
      "40\n",
      "45\n",
      "50\n",
      "55\n",
      "60\n",
      "65\n",
      "70\n",
      "75\n",
      "80\n",
      "85\n",
      "90\n",
      "95\n"
     ]
    }
   ],
   "source": [
    "#Programa que escriba los múltiplos de 5 del 1 al 100\n",
    "for i in range(1,100):\n",
    "    if i%5 == 0:\n",
    "        print(i)"
   ]
  },
  {
   "cell_type": "code",
   "execution_count": 35,
   "metadata": {},
   "outputs": [
    {
     "name": "stdout",
     "output_type": "stream",
     "text": [
      "la media en la iteración 1 es 0.0\n",
      "la media en la iteración 2 es 0.5\n",
      "la media en la iteración 3 es 1.0\n",
      "la media en la iteración 4 es 1.5\n",
      "la media en la iteración 5 es 2.0\n",
      "la media en la iteración 6 es 2.5\n",
      "la media en la iteración 7 es 3.0\n",
      "la media en la iteración 8 es 3.5\n",
      "la media en la iteración 9 es 4.0\n"
     ]
    }
   ],
   "source": [
    "#Programa que va creando la media de los valores que va iterando\n",
    "suma = 0\n",
    "elementos = 0\n",
    "for i in range(9):\n",
    "    suma = suma + i\n",
    "    elementos = elementos + 1\n",
    "    print(\"la media en la iteración \" +str(elementos)+\" es \"+str(suma/elementos))"
   ]
  },
  {
   "cell_type": "code",
   "execution_count": 36,
   "metadata": {},
   "outputs": [
    {
     "name": "stdout",
     "output_type": "stream",
     "text": [
      "2\n",
      "3\n",
      "5\n",
      "7\n",
      "11\n",
      "13\n",
      "17\n",
      "19\n",
      "23\n",
      "29\n",
      "31\n",
      "37\n",
      "41\n",
      "43\n",
      "47\n",
      "53\n",
      "59\n",
      "61\n",
      "67\n",
      "71\n",
      "73\n",
      "79\n",
      "83\n",
      "89\n",
      "97\n"
     ]
    }
   ],
   "source": [
    "#que hace el siguiente programa?\n",
    "valor = 100\n",
    "i = 2\n",
    "while (i <= valor):\n",
    "    k = 0\n",
    "    for j in range(2,i+1):\n",
    "        if i%j == 0:\n",
    "            k = k+1\n",
    "    if k <= 1:\n",
    "        print(i)\n",
    "    i = i+1"
   ]
  },
  {
   "cell_type": "markdown",
   "metadata": {},
   "source": [
    "### Control de errores"
   ]
  },
  {
   "cell_type": "code",
   "execution_count": 37,
   "metadata": {},
   "outputs": [
    {
     "name": "stdout",
     "output_type": "stream",
     "text": [
      "mayor que 5\n"
     ]
    }
   ],
   "source": [
    "x = 7\n",
    "if x>5:\n",
    "    print('mayor que 5')\n",
    "else:\n",
    "    print('menos o igual que 5')\n"
   ]
  },
  {
   "cell_type": "code",
   "execution_count": 38,
   "metadata": {},
   "outputs": [
    {
     "ename": "TypeError",
     "evalue": "'>' not supported between instances of 'str' and 'int'",
     "output_type": "error",
     "traceback": [
      "\u001b[1;31m---------------------------------------------------------------------------\u001b[0m",
      "\u001b[1;31mTypeError\u001b[0m                                 Traceback (most recent call last)",
      "\u001b[1;32m<ipython-input-38-cb311f52c530>\u001b[0m in \u001b[0;36m<module>\u001b[1;34m\u001b[0m\n\u001b[0;32m      1\u001b[0m \u001b[0mx\u001b[0m \u001b[1;33m=\u001b[0m \u001b[1;34m'Hola'\u001b[0m\u001b[1;33m\u001b[0m\u001b[1;33m\u001b[0m\u001b[0m\n\u001b[1;32m----> 2\u001b[1;33m \u001b[1;32mif\u001b[0m \u001b[0mx\u001b[0m\u001b[1;33m>\u001b[0m\u001b[1;36m5\u001b[0m\u001b[1;33m:\u001b[0m\u001b[1;33m\u001b[0m\u001b[1;33m\u001b[0m\u001b[0m\n\u001b[0m\u001b[0;32m      3\u001b[0m     \u001b[0mprint\u001b[0m\u001b[1;33m(\u001b[0m\u001b[1;34m'mayor que 5'\u001b[0m\u001b[1;33m)\u001b[0m\u001b[1;33m\u001b[0m\u001b[1;33m\u001b[0m\u001b[0m\n\u001b[0;32m      4\u001b[0m \u001b[1;32melse\u001b[0m\u001b[1;33m:\u001b[0m\u001b[1;33m\u001b[0m\u001b[1;33m\u001b[0m\u001b[0m\n\u001b[0;32m      5\u001b[0m     \u001b[0mprint\u001b[0m\u001b[1;33m(\u001b[0m\u001b[1;34m'menor o igual que 5'\u001b[0m\u001b[1;33m)\u001b[0m\u001b[1;33m\u001b[0m\u001b[1;33m\u001b[0m\u001b[0m\n",
      "\u001b[1;31mTypeError\u001b[0m: '>' not supported between instances of 'str' and 'int'"
     ]
    }
   ],
   "source": [
    "x = 'Hola'\n",
    "if x>5:\n",
    "    print('mayor que 5')\n",
    "else:\n",
    "    print('menor o igual que 5')\n"
   ]
  },
  {
   "cell_type": "code",
   "execution_count": 39,
   "metadata": {},
   "outputs": [
    {
     "name": "stdout",
     "output_type": "stream",
     "text": [
      "número incorrecto\n"
     ]
    }
   ],
   "source": [
    "x = 'Hola'\n",
    "try:\n",
    "    if x>5:\n",
    "        print('mayor que 5')\n",
    "    else:\n",
    "        print('menor o igual que 5')\n",
    "except:\n",
    "    print('número incorrecto')"
   ]
  },
  {
   "cell_type": "code",
   "execution_count": 40,
   "metadata": {},
   "outputs": [
    {
     "name": "stdout",
     "output_type": "stream",
     "text": [
      "igual a 5\n"
     ]
    }
   ],
   "source": [
    "x = 5\n",
    "try:\n",
    "    if x>5:\n",
    "        print('mayor que 5')\n",
    "    elif x<5:\n",
    "        print('menor que 5')\n",
    "    else:\n",
    "        print('igual a 5')\n",
    "except:\n",
    "    print('número incorrecto')"
   ]
  },
  {
   "cell_type": "code",
   "execution_count": null,
   "metadata": {},
   "outputs": [],
   "source": []
  }
 ],
 "metadata": {
  "kernelspec": {
   "display_name": "Python 3 (ipykernel)",
   "language": "python",
   "name": "python3"
  },
  "language_info": {
   "codemirror_mode": {
    "name": "ipython",
    "version": 3
   },
   "file_extension": ".py",
   "mimetype": "text/x-python",
   "name": "python",
   "nbconvert_exporter": "python",
   "pygments_lexer": "ipython3",
   "version": "3.9.12"
  }
 },
 "nbformat": 4,
 "nbformat_minor": 2
}
