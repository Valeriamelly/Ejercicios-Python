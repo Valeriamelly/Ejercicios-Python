{
 "cells": [
  {
   "cell_type": "markdown",
   "metadata": {
    "colab_type": "text",
    "id": "IQuZ8-Y3spHv"
   },
   "source": [
    "# Estructuras Datos"
   ]
  },
  {
   "cell_type": "markdown",
   "metadata": {
    "colab_type": "text",
    "id": "BSdZ2tu33qW1"
   },
   "source": [
    "## Listas"
   ]
  },
  {
   "cell_type": "code",
   "execution_count": 97,
   "metadata": {
    "colab": {},
    "colab_type": "code",
    "id": "0ifmObAs3a6F"
   },
   "outputs": [],
   "source": [
    "#Creación\n",
    "\n",
    "lista_inicial = [24, 'comercial', False, 3.14]"
   ]
  },
  {
   "cell_type": "code",
   "execution_count": 98,
   "metadata": {
    "colab": {},
    "colab_type": "code",
    "id": "5ZKCcvb13xtk"
   },
   "outputs": [
    {
     "data": {
      "text/plain": [
       "'comercial'"
      ]
     },
     "execution_count": 98,
     "metadata": {},
     "output_type": "execute_result"
    }
   ],
   "source": [
    "#Acceso\n",
    "\n",
    "lista_inicial[1]"
   ]
  },
  {
   "cell_type": "code",
   "execution_count": 99,
   "metadata": {
    "colab": {},
    "colab_type": "code",
    "id": "0OemMI2W4RrU"
   },
   "outputs": [
    {
     "data": {
      "text/plain": [
       "3.14"
      ]
     },
     "execution_count": 99,
     "metadata": {},
     "output_type": "execute_result"
    }
   ],
   "source": [
    "lista_inicial[-1]"
   ]
  },
  {
   "cell_type": "code",
   "execution_count": 100,
   "metadata": {
    "colab": {},
    "colab_type": "code",
    "id": "XbxJlMFV4WXK"
   },
   "outputs": [
    {
     "data": {
      "text/plain": [
       "4"
      ]
     },
     "execution_count": 100,
     "metadata": {},
     "output_type": "execute_result"
    }
   ],
   "source": [
    "#Cantidad de elementos\n",
    "\n",
    "len(lista_inicial)"
   ]
  },
  {
   "cell_type": "code",
   "execution_count": 101,
   "metadata": {
    "colab": {},
    "colab_type": "code",
    "id": "zFuwaXc14n85"
   },
   "outputs": [
    {
     "data": {
      "text/plain": [
       "3.14"
      ]
     },
     "execution_count": 101,
     "metadata": {},
     "output_type": "execute_result"
    }
   ],
   "source": [
    "lista_inicial[len(lista_inicial)-1]"
   ]
  },
  {
   "cell_type": "code",
   "execution_count": 102,
   "metadata": {
    "colab": {},
    "colab_type": "code",
    "id": "JjSWD2Mp4_9_"
   },
   "outputs": [],
   "source": [
    "lista_inicial.append('ultimo')"
   ]
  },
  {
   "cell_type": "code",
   "execution_count": 103,
   "metadata": {
    "colab": {},
    "colab_type": "code",
    "id": "tAXJLe8tgcXS"
   },
   "outputs": [
    {
     "data": {
      "text/plain": [
       "[24, 'comercial', False, 3.14, 'ultimo']"
      ]
     },
     "execution_count": 103,
     "metadata": {},
     "output_type": "execute_result"
    }
   ],
   "source": [
    "lista_inicial"
   ]
  },
  {
   "cell_type": "code",
   "execution_count": 104,
   "metadata": {
    "colab": {},
    "colab_type": "code",
    "id": "rxV8fzsa52lM"
   },
   "outputs": [],
   "source": [
    "lista_inicial.insert?"
   ]
  },
  {
   "cell_type": "code",
   "execution_count": 105,
   "metadata": {
    "colab": {},
    "colab_type": "code",
    "id": "5u7CWkCY6Kap"
   },
   "outputs": [
    {
     "data": {
      "text/plain": [
       "['primero', 24, 'comercial', False, 3.14, 'ultimo']"
      ]
     },
     "execution_count": 105,
     "metadata": {},
     "output_type": "execute_result"
    }
   ],
   "source": [
    "lista_inicial.insert(0, 'primero')\n",
    "lista_inicial"
   ]
  },
  {
   "cell_type": "code",
   "execution_count": 106,
   "metadata": {
    "colab": {},
    "colab_type": "code",
    "id": "6kjBaCeu6UB5"
   },
   "outputs": [
    {
     "data": {
      "text/plain": [
       "True"
      ]
     },
     "execution_count": 106,
     "metadata": {},
     "output_type": "execute_result"
    }
   ],
   "source": [
    "'ultimo' in lista_inicial"
   ]
  },
  {
   "cell_type": "code",
   "execution_count": 107,
   "metadata": {
    "colab": {},
    "colab_type": "code",
    "id": "TN28Wruv8ZbY"
   },
   "outputs": [
    {
     "data": {
      "text/plain": [
       "list"
      ]
     },
     "execution_count": 107,
     "metadata": {},
     "output_type": "execute_result"
    }
   ],
   "source": [
    "type(lista_inicial)"
   ]
  },
  {
   "cell_type": "code",
   "execution_count": 108,
   "metadata": {
    "colab": {},
    "colab_type": "code",
    "id": "qBkjisI17pAg"
   },
   "outputs": [],
   "source": [
    "lista_nombres = ['Maria', 'Jose', 'Jesus', 'Paolo']"
   ]
  },
  {
   "cell_type": "code",
   "execution_count": 109,
   "metadata": {
    "colab": {},
    "colab_type": "code",
    "id": "nlugVGtM-A8N"
   },
   "outputs": [],
   "source": [
    "lista_nombres.reverse()"
   ]
  },
  {
   "cell_type": "code",
   "execution_count": 110,
   "metadata": {
    "colab": {},
    "colab_type": "code",
    "id": "V9hpsSyT-UL9"
   },
   "outputs": [
    {
     "data": {
      "text/plain": [
       "['Paolo', 'Jesus', 'Jose', 'Maria']"
      ]
     },
     "execution_count": 110,
     "metadata": {},
     "output_type": "execute_result"
    }
   ],
   "source": [
    "lista_nombres"
   ]
  },
  {
   "cell_type": "code",
   "execution_count": 111,
   "metadata": {
    "colab": {},
    "colab_type": "code",
    "id": "KKItq3Uf-h2K"
   },
   "outputs": [],
   "source": [
    "lista_nombres.sort(reverse=True)"
   ]
  },
  {
   "cell_type": "code",
   "execution_count": 112,
   "metadata": {
    "colab": {},
    "colab_type": "code",
    "id": "q3wttvUU-pNP"
   },
   "outputs": [
    {
     "data": {
      "text/plain": [
       "['Paolo', 'Maria', 'Jose', 'Jesus']"
      ]
     },
     "execution_count": 112,
     "metadata": {},
     "output_type": "execute_result"
    }
   ],
   "source": [
    "lista_nombres"
   ]
  },
  {
   "cell_type": "code",
   "execution_count": 113,
   "metadata": {
    "colab": {},
    "colab_type": "code",
    "id": "AtiOfIIl_cbx"
   },
   "outputs": [
    {
     "data": {
      "text/plain": [
       "'Maria'"
      ]
     },
     "execution_count": 113,
     "metadata": {},
     "output_type": "execute_result"
    }
   ],
   "source": [
    "lista_nombres.pop(1)"
   ]
  },
  {
   "cell_type": "code",
   "execution_count": 114,
   "metadata": {
    "colab": {},
    "colab_type": "code",
    "id": "HXruh4Xj_wYa"
   },
   "outputs": [
    {
     "data": {
      "text/plain": [
       "['Paolo', 'Jose', 'Jesus']"
      ]
     },
     "execution_count": 114,
     "metadata": {},
     "output_type": "execute_result"
    }
   ],
   "source": [
    "lista_nombres"
   ]
  },
  {
   "cell_type": "markdown",
   "metadata": {
    "colab_type": "text",
    "id": "aSD6EKcJq9vf"
   },
   "source": [
    "**Ejemplo:**\n",
    "\n",
    "Realizar un programa que según sea la opción ingresada ejecute la operación:\n",
    "\n",
    "1. Solicite el código de proveedor y lo añada a la lista de proveedores.\n",
    "2. Solicite el código de proveedor a eliminar y proceda a borrarlo de la lista.\n",
    "3. Muestre todos los códigos de proveedores registrados.\n",
    "4. Salir del programa."
   ]
  },
  {
   "cell_type": "code",
   "execution_count": null,
   "metadata": {
    "colab": {},
    "colab_type": "code",
    "id": "FhMAtnGtq9Pz"
   },
   "outputs": [],
   "source": [
    "#Solución\n",
    "lista_proveedor = []\n",
    "while True:\n",
    "    opcion = int(input(\"Ingrese la opcion: \",))\n",
    "    if opcion==1:\n",
    "        codigo=input(\"Ingrese el codigo del proveedor para añadir: \")\n",
    "        lista_proveedor.append(codigo)\n",
    "    elif opcion==2:\n",
    "        codigo=input(\"Ingrese el codigo del proveedor para eliminar: \")\n",
    "        lista_proveedor.remove(codigo)\n",
    "    elif opcion==3:\n",
    "        print(lista_proveedor)\n",
    "    elif opcion==4:\n",
    "        break\n",
    "    else:\n",
    "        print(\"Opcion invalidad\")\n",
    "            \n",
    "        \n",
    "        "
   ]
  },
  {
   "cell_type": "markdown",
   "metadata": {
    "colab_type": "text",
    "id": "IzAGzkp0ACKr"
   },
   "source": [
    "## Tuplas"
   ]
  },
  {
   "cell_type": "code",
   "execution_count": null,
   "metadata": {
    "colab": {},
    "colab_type": "code",
    "id": "DDAkmJtC_xtN"
   },
   "outputs": [],
   "source": [
    "tuple()"
   ]
  },
  {
   "cell_type": "code",
   "execution_count": null,
   "metadata": {
    "colab": {},
    "colab_type": "code",
    "id": "sLpwQU5wAFVx"
   },
   "outputs": [],
   "source": [
    "tupla_inicial_1 = (24, 'comercial', False, 3.14)\n",
    "\n",
    "tupla_inicial_2 = 24, 'comercial', False, 3.14"
   ]
  },
  {
   "cell_type": "code",
   "execution_count": null,
   "metadata": {
    "colab": {},
    "colab_type": "code",
    "id": "QCW4A5biAVcu"
   },
   "outputs": [],
   "source": [
    "type(tupla_inicial_2)"
   ]
  },
  {
   "cell_type": "code",
   "execution_count": null,
   "metadata": {
    "colab": {},
    "colab_type": "code",
    "id": "sxrA0RFAAd5k"
   },
   "outputs": [],
   "source": [
    "tupla_inicial_1[3]"
   ]
  },
  {
   "cell_type": "code",
   "execution_count": null,
   "metadata": {
    "colab": {},
    "colab_type": "code",
    "id": "wQITuxjoA39g"
   },
   "outputs": [],
   "source": [
    "tupla_inicial_1[-2]"
   ]
  },
  {
   "cell_type": "code",
   "execution_count": null,
   "metadata": {
    "colab": {},
    "colab_type": "code",
    "id": "85uQkLqJA7hk"
   },
   "outputs": [],
   "source": [
    "tupla_inicial_1[0] = 50"
   ]
  },
  {
   "cell_type": "markdown",
   "metadata": {
    "colab_type": "text",
    "id": "VWb17vLXBNAj"
   },
   "source": [
    "## Diccionarios"
   ]
  },
  {
   "cell_type": "code",
   "execution_count": null,
   "metadata": {
    "colab": {},
    "colab_type": "code",
    "id": "UtzHlZ06BbH1"
   },
   "outputs": [],
   "source": [
    "diccionario_1 = {'Maria':3000, 'Jose':6200, 'Olivia':850}"
   ]
  },
  {
   "cell_type": "code",
   "execution_count": null,
   "metadata": {
    "colab": {},
    "colab_type": "code",
    "id": "3kJBMohtBx0i"
   },
   "outputs": [],
   "source": [
    "diccionario_1"
   ]
  },
  {
   "cell_type": "code",
   "execution_count": null,
   "metadata": {
    "colab": {},
    "colab_type": "code",
    "id": "gvMx1xEtBz01"
   },
   "outputs": [],
   "source": [
    "len(diccionario_1)"
   ]
  },
  {
   "cell_type": "code",
   "execution_count": null,
   "metadata": {
    "colab": {},
    "colab_type": "code",
    "id": "i9UIU0haB_tB"
   },
   "outputs": [],
   "source": [
    "diccionario_1[2]\n",
    "#no se accede por posicion, si no por clave"
   ]
  },
  {
   "cell_type": "code",
   "execution_count": null,
   "metadata": {
    "colab": {},
    "colab_type": "code",
    "id": "wSWu4Jp4CF8q"
   },
   "outputs": [],
   "source": [
    "diccionario_1['Olivia'] = 1800\n",
    "diccionario_1"
   ]
  },
  {
   "cell_type": "code",
   "execution_count": null,
   "metadata": {
    "colab": {},
    "colab_type": "code",
    "id": "Y_Yi9d9RCaXn"
   },
   "outputs": [],
   "source": [
    "diccionario_1['Pedro'] = 4500\n",
    "diccionario_1"
   ]
  },
  {
   "cell_type": "code",
   "execution_count": null,
   "metadata": {
    "colab": {},
    "colab_type": "code",
    "id": "G8-pqioTCu8c"
   },
   "outputs": [],
   "source": [
    "diccionario_1.keys()"
   ]
  },
  {
   "cell_type": "code",
   "execution_count": null,
   "metadata": {
    "colab": {},
    "colab_type": "code",
    "id": "t8PiJE4GDJ86"
   },
   "outputs": [],
   "source": [
    "for key in diccionario_1.keys():\n",
    "  print(key)"
   ]
  },
  {
   "cell_type": "code",
   "execution_count": null,
   "metadata": {
    "colab": {},
    "colab_type": "code",
    "id": "aBWLLR2MD-Kc"
   },
   "outputs": [],
   "source": [
    "'Pedro' in diccionario_1.keys()"
   ]
  },
  {
   "cell_type": "code",
   "execution_count": null,
   "metadata": {
    "colab": {},
    "colab_type": "code",
    "id": "LrquBHXDDoJW"
   },
   "outputs": [],
   "source": [
    "diccionario_1.values()"
   ]
  },
  {
   "cell_type": "code",
   "execution_count": null,
   "metadata": {
    "colab": {},
    "colab_type": "code",
    "id": "eUFG2VTyHDP6"
   },
   "outputs": [],
   "source": [
    "import pandas as pd"
   ]
  },
  {
   "cell_type": "code",
   "execution_count": null,
   "metadata": {
    "colab": {},
    "colab_type": "code",
    "id": "5SIwGNUAHVW5"
   },
   "outputs": [],
   "source": [
    "dict_pandas = {\n",
    "    'Nombre': ['Maria', 'Juan', 'Jose'],\n",
    "    'Edad'  : [24, 50, 30],\n",
    "    'Genero': ['F', 'M', 'M']\n",
    "}"
   ]
  },
  {
   "cell_type": "code",
   "execution_count": null,
   "metadata": {
    "colab": {},
    "colab_type": "code",
    "id": "PerxpT2rHVY0"
   },
   "outputs": [],
   "source": [
    "dict_tabla = pd.DataFrame(dict_pandas)"
   ]
  },
  {
   "cell_type": "code",
   "execution_count": null,
   "metadata": {
    "colab": {},
    "colab_type": "code",
    "id": "NoYfONmVHVbG"
   },
   "outputs": [],
   "source": [
    "dict_tabla"
   ]
  },
  {
   "cell_type": "code",
   "execution_count": null,
   "metadata": {
    "colab": {},
    "colab_type": "code",
    "id": "U63sRVO2IOZy"
   },
   "outputs": [],
   "source": [
    "dict_tabla.describe()"
   ]
  },
  {
   "cell_type": "code",
   "execution_count": null,
   "metadata": {
    "colab": {},
    "colab_type": "code",
    "id": "dKwVbcvNI0G_"
   },
   "outputs": [],
   "source": [
    "type(dict_tabla)"
   ]
  },
  {
   "cell_type": "markdown",
   "metadata": {
    "colab_type": "text",
    "id": "xLSf7j-9rv4R"
   },
   "source": [
    "**Ejemplo:**\n",
    "\n",
    "Escribir un programa que guarde en un diccionario la relación **divisa : simbolo** y que al solicitar una divisa muestre su símbolo o un mensaje de aviso si la divisa no está en el diccionario y solicite la información para agregarla.\n",
    "- Euro -> €\n",
    "- Dólar -> $\n",
    "- Yen -> ¥"
   ]
  },
  {
   "cell_type": "code",
   "execution_count": null,
   "metadata": {
    "colab": {},
    "colab_type": "code",
    "id": "3egAqLpCrv_5"
   },
   "outputs": [],
   "source": [
    "#Solución\n",
    "dict_divisas = {'Euro':'€', 'Dolar':'$', 'Yen':'¥'}\n",
    "divisa = input('Ingrese la divisa: ')\n",
    "if divisa in dict_divisas.keys():\n",
    "    print(dict_divisas[divisa])\n",
    "else:\n",
    "    simbolo = input('Ingrese simbolo: ')\n",
    "    dict_divisas[divisa] = simbolo"
   ]
  },
  {
   "cell_type": "code",
   "execution_count": null,
   "metadata": {},
   "outputs": [],
   "source": [
    "dict_divisas"
   ]
  },
  {
   "cell_type": "markdown",
   "metadata": {
    "colab_type": "text",
    "id": "wYiWkIWWG8vP"
   },
   "source": [
    "## Set"
   ]
  },
  {
   "cell_type": "code",
   "execution_count": null,
   "metadata": {
    "colab": {},
    "colab_type": "code",
    "id": "M3KQnhwWJqwb"
   },
   "outputs": [],
   "source": [
    "set_1 = {'Los Olivos', 'SMP', 'Rimac', 'SMP', 'La Molina', 'Los Olivos'}\n",
    "set_2 = {'SJL', 'SJM', 'Los Olivos', 'Callao', 'San Isidro', 'SMP'}"
   ]
  },
  {
   "cell_type": "code",
   "execution_count": null,
   "metadata": {
    "colab": {},
    "colab_type": "code",
    "id": "_ol8_sy8KFpJ"
   },
   "outputs": [],
   "source": [
    "set_1"
   ]
  },
  {
   "cell_type": "code",
   "execution_count": null,
   "metadata": {
    "colab": {},
    "colab_type": "code",
    "id": "QVVXTk8PKIji"
   },
   "outputs": [],
   "source": [
    "set_1.intersection(set_2)"
   ]
  },
  {
   "cell_type": "code",
   "execution_count": null,
   "metadata": {
    "colab": {},
    "colab_type": "code",
    "id": "etF-lB_BKtWC"
   },
   "outputs": [],
   "source": [
    "set_1 & set_2"
   ]
  },
  {
   "cell_type": "code",
   "execution_count": null,
   "metadata": {
    "colab": {},
    "colab_type": "code",
    "id": "9IZOnDCoKxE-"
   },
   "outputs": [],
   "source": [
    "set_1 | set_2"
   ]
  },
  {
   "cell_type": "code",
   "execution_count": null,
   "metadata": {
    "colab": {},
    "colab_type": "code",
    "id": "vYRsBTlzK3zQ"
   },
   "outputs": [],
   "source": [
    "set_1 - set_2"
   ]
  },
  {
   "cell_type": "code",
   "execution_count": null,
   "metadata": {
    "colab": {},
    "colab_type": "code",
    "id": "F5h7wA_ULA4V"
   },
   "outputs": [],
   "source": [
    "for i in set_1:\n",
    "  print(i)"
   ]
  },
  {
   "cell_type": "code",
   "execution_count": null,
   "metadata": {
    "colab": {},
    "colab_type": "code",
    "id": "SjzPNxnscg3K"
   },
   "outputs": [],
   "source": [
    "set_1.add('Otro')"
   ]
  },
  {
   "cell_type": "code",
   "execution_count": null,
   "metadata": {
    "colab": {},
    "colab_type": "code",
    "id": "i3rwrchscj85"
   },
   "outputs": [],
   "source": [
    "set_1"
   ]
  },
  {
   "cell_type": "markdown",
   "metadata": {
    "colab_type": "text",
    "id": "1nATE1WneWtS"
   },
   "source": [
    "# Ejercicio - Estructura Datos\n"
   ]
  },
  {
   "cell_type": "markdown",
   "metadata": {
    "colab_type": "text",
    "id": "3MNFFnVrybMh"
   },
   "source": [
    "## Parte 1. Operadores"
   ]
  },
  {
   "cell_type": "markdown",
   "metadata": {
    "colab_type": "text",
    "id": "q6sC9dYSybKB"
   },
   "source": [
    "#### 1.1 Si cuentas con los sgtes datos:\n",
    "\n",
    "a = '11.2'\n",
    "\n",
    "b = 50\n",
    "\n",
    "c = '8'\n",
    "\n",
    "Imprimir por separados los valores de la parte entera y el residuo de la sgte división:\n",
    "\n",
    "(b - c)/(a + c)"
   ]
  },
  {
   "cell_type": "code",
   "execution_count": 10,
   "metadata": {
    "colab": {},
    "colab_type": "code",
    "id": "VzaDYNSC2aGP"
   },
   "outputs": [
    {
     "name": "stdout",
     "output_type": "stream",
     "text": [
      "El número es:  2.1875\n",
      "Su parte entera es 2.0 y su parte decimal es 0.1875\n"
     ]
    }
   ],
   "source": [
    "a = '11.2'\n",
    "b = 50\n",
    "c = '8'\n",
    "\n",
    "#Ingrese su solución aquí\n",
    "import math\n",
    "\n",
    "a1=float(a) ##convertimos de str a float para poder realizar la operación matemática\n",
    "c1=float(c)\n",
    "\n",
    "resultado = (b - c1)/(a1 + c1)\n",
    "print(\"El número es: \",resultado)\n",
    "\n",
    "parte_decimal, parte_entera = math.modf(resultado) #math.modf devuelve la parte fraccionaria y la parte entera del número incluido como argumento.\n",
    "print(\"Su parte entera es {} y su parte decimal es {}\".format(parte_entera, parte_decimal))"
   ]
  },
  {
   "cell_type": "markdown",
   "metadata": {
    "colab_type": "text",
    "id": "PtQ7zQmuybHw"
   },
   "source": [
    "#### 1.2 Si:\n",
    "\n",
    "a = 15\n",
    "\n",
    "b = 4\n",
    "\n",
    "Calcular:\n",
    "\n",
    "-- EL valor de exacto de a/b\n",
    "\n",
    "-- La parte entera de a/b\n",
    "\n",
    "-- El residuo de a/b\n",
    "\n",
    "Y ahora para a = 20 y b = 5 ?"
   ]
  },
  {
   "cell_type": "code",
   "execution_count": 11,
   "metadata": {
    "colab": {},
    "colab_type": "code",
    "id": "gw1WQWAu2azP"
   },
   "outputs": [
    {
     "name": "stdout",
     "output_type": "stream",
     "text": [
      "Ingrese primer numero: 20\n",
      "Ingrese segundo numero: 5\n",
      "Valor exacto:  4.0\n",
      "Su parte entera es 4.0\n",
      "Su parte decimal es 0.0\n"
     ]
    }
   ],
   "source": [
    "import math\n",
    "a = float(input(\"Ingrese primer numero: \"))\n",
    "b = float(input(\"Ingrese segundo numero: \"))\n",
    "resultado = a / b\n",
    "parte_decimal, parte_entera = math.modf(resultado) #math.modf devuelve la parte fraccionaria y la parte entera del número incluido como argumento.\n",
    "\n",
    "print(\"Valor exacto: \", resultado)\n",
    "print(\"Su parte entera es {}\".format(parte_entera)) #formatea los valores especificados y los inserta dentro del marcador de posición de la cadena.\"\n",
    "print(\"Su parte decimal es {}\".format(parte_decimal))\n"
   ]
  },
  {
   "cell_type": "markdown",
   "metadata": {
    "colab_type": "text",
    "id": "hYoYxrBjybFB"
   },
   "source": [
    "## Parte 2. Listas"
   ]
  },
  {
   "cell_type": "markdown",
   "metadata": {
    "colab_type": "text",
    "id": "FZq9niyx2dT6"
   },
   "source": [
    "a. Crear una lista con los nombres de tus familiares incluido el tuyo"
   ]
  },
  {
   "cell_type": "code",
   "execution_count": 12,
   "metadata": {
    "colab": {},
    "colab_type": "code",
    "id": "CuBBjPMw4pI7"
   },
   "outputs": [
    {
     "data": {
      "text/plain": [
       "['Monica', 'Flaco', 'Gordo', 'Vale']"
      ]
     },
     "execution_count": 12,
     "metadata": {},
     "output_type": "execute_result"
    }
   ],
   "source": [
    "lista_familia = ['Monica', 'Flaco', 'Gordo', 'Vale']  #creamos una lista\n",
    "lista_familia"
   ]
  },
  {
   "cell_type": "markdown",
   "metadata": {
    "colab_type": "text",
    "id": "gM4gnWNw2z9T"
   },
   "source": [
    "b. Agrega el nombre de tus 2 mejores amig@s a la lista creada."
   ]
  },
  {
   "cell_type": "code",
   "execution_count": 13,
   "metadata": {
    "colab": {},
    "colab_type": "code",
    "id": "JyHGDZUF4pd8"
   },
   "outputs": [
    {
     "data": {
      "text/plain": [
       "['Ricardo', 'Nardys', 'Monica', 'Flaco', 'Gordo', 'Vale']"
      ]
     },
     "execution_count": 13,
     "metadata": {},
     "output_type": "execute_result"
    }
   ],
   "source": [
    "lista_familia.insert(0, 'Ricardo') #insertamos indicando la posición\n",
    "lista_familia.insert(1, 'Nardys')\n",
    "lista_familia"
   ]
  },
  {
   "cell_type": "markdown",
   "metadata": {
    "colab_type": "text",
    "id": "EZVk9RVx21Pb"
   },
   "source": [
    "c. Selecciona un sublista desde la posición 2 a la posición 4 ([pos1, pos2, pos3, pos4, pos5, pos6 , ...]) de tu lista"
   ]
  },
  {
   "cell_type": "code",
   "execution_count": 14,
   "metadata": {
    "colab": {},
    "colab_type": "code",
    "id": "1X4aMsH64p7q"
   },
   "outputs": [
    {
     "data": {
      "text/plain": [
       "('Nardys', 'Monica', 'Flaco')"
      ]
     },
     "execution_count": 14,
     "metadata": {},
     "output_type": "execute_result"
    }
   ],
   "source": [
    "(lista_familia[1],lista_familia[2],lista_familia[3])  #indicamos la posición"
   ]
  },
  {
   "cell_type": "markdown",
   "metadata": {
    "colab_type": "text",
    "id": "TZwJp_YA22wO"
   },
   "source": [
    "d. Elimina de la lista tu nombre"
   ]
  },
  {
   "cell_type": "code",
   "execution_count": 15,
   "metadata": {
    "colab": {},
    "colab_type": "code",
    "id": "jJfh0vxg4qk6"
   },
   "outputs": [
    {
     "data": {
      "text/plain": [
       "['Ricardo', 'Nardys', 'Monica', 'Flaco', 'Gordo']"
      ]
     },
     "execution_count": 15,
     "metadata": {},
     "output_type": "execute_result"
    }
   ],
   "source": [
    "lista_familia.remove('Vale') #limina UNICAMENTE la primera ocurrencia de un valor dentro de la lista..\n",
    "lista_familia"
   ]
  },
  {
   "cell_type": "markdown",
   "metadata": {
    "colab_type": "text",
    "id": "zI6Pgo8B22rD"
   },
   "source": [
    "e. Elimina de la lista el elemento de la posición 3."
   ]
  },
  {
   "cell_type": "code",
   "execution_count": 16,
   "metadata": {
    "colab": {},
    "colab_type": "code",
    "id": "RdeSIs0L4q85"
   },
   "outputs": [
    {
     "data": {
      "text/plain": [
       "'Monica'"
      ]
     },
     "execution_count": 16,
     "metadata": {},
     "output_type": "execute_result"
    }
   ],
   "source": [
    "lista_familia.pop(2)"
   ]
  },
  {
   "cell_type": "markdown",
   "metadata": {
    "colab_type": "text",
    "id": "WAtYtmsz22nL"
   },
   "source": [
    "f. Calcula el tamaño final de tu lista."
   ]
  },
  {
   "cell_type": "code",
   "execution_count": 17,
   "metadata": {
    "colab": {},
    "colab_type": "code",
    "id": "CyFUX3s84rgh"
   },
   "outputs": [
    {
     "name": "stdout",
     "output_type": "stream",
     "text": [
      " Tamaño final de la lista: 4\n"
     ]
    }
   ],
   "source": [
    "print(f' Tamaño final de la lista: {len(lista_familia)}') #len permite saber el tamaño de la lista"
   ]
  },
  {
   "cell_type": "markdown",
   "metadata": {
    "colab_type": "text",
    "id": "vjANcDBg19iM"
   },
   "source": [
    "## Parte 3. Tuplas"
   ]
  },
  {
   "cell_type": "markdown",
   "metadata": {
    "colab_type": "text",
    "id": "ZTz5ACas3Tun"
   },
   "source": [
    "a. Crear una tupla con las edades de tus familiares incluido el tuyo"
   ]
  },
  {
   "cell_type": "code",
   "execution_count": 18,
   "metadata": {
    "colab": {},
    "colab_type": "code",
    "id": "Z2wS_9O94sLh"
   },
   "outputs": [
    {
     "data": {
      "text/plain": [
       "(59, 36, 36, 19)"
      ]
     },
     "execution_count": 18,
     "metadata": {},
     "output_type": "execute_result"
    }
   ],
   "source": [
    "tupla_inicial_1 = (59, 36, 36, 19) #colocamos los items dentro de un paréntesis\n",
    "tupla_inicial_1"
   ]
  },
  {
   "cell_type": "markdown",
   "metadata": {
    "colab_type": "text",
    "id": "d2Tg7b_n28M0"
   },
   "source": [
    "b. Agrega el nombre de tus 2 mejores amig@s a la lista creada. Se puede?"
   ]
  },
  {
   "cell_type": "code",
   "execution_count": 19,
   "metadata": {
    "colab": {},
    "colab_type": "code",
    "id": "bYEYEMFS4tEB"
   },
   "outputs": [
    {
     "data": {
      "text/plain": [
       "(59, 36, 36, 19, 'Nardys', 'Ricardo')"
      ]
     },
     "execution_count": 19,
     "metadata": {},
     "output_type": "execute_result"
    }
   ],
   "source": [
    "L1=list(tupla_inicial_1) #convertimos la tupla en una lista para agregar items con el método append\n",
    "L1.append('Nardys')\n",
    "L1.append('Ricardo')\n",
    "edades_tupla = tuple(L1) #convertimos la lista a tupla y reportamos\n",
    "edades_tupla"
   ]
  },
  {
   "cell_type": "markdown",
   "metadata": {
    "colab_type": "text",
    "id": "8s-J4NcV28Kk"
   },
   "source": [
    "c. Crea una nueva tupla con las edades de tus 2 mejores amig@s adicional a la tupla creada. Se puede?"
   ]
  },
  {
   "cell_type": "code",
   "execution_count": 20,
   "metadata": {
    "colab": {},
    "colab_type": "code",
    "id": "rJqmwwoz4tei"
   },
   "outputs": [
    {
     "data": {
      "text/plain": [
       "(59, 36, 36, 19, 19, 20)"
      ]
     },
     "execution_count": 20,
     "metadata": {},
     "output_type": "execute_result"
    }
   ],
   "source": [
    "amigos = (19, 20) \n",
    "\n",
    "t1=tupla_inicial_1 + amigos #Operador(+): concatena tuplas\n",
    "t1"
   ]
  },
  {
   "cell_type": "markdown",
   "metadata": {
    "colab_type": "text",
    "id": "3Z-VievI28Hz"
   },
   "source": [
    "d. Selecciona un subtupla desde la posición -3 a la posición -1 de tu tupla."
   ]
  },
  {
   "cell_type": "code",
   "execution_count": 21,
   "metadata": {
    "colab": {},
    "colab_type": "code",
    "id": "5DNuxYLc4twB"
   },
   "outputs": [
    {
     "data": {
      "text/plain": [
       "(36, 36, 19)"
      ]
     },
     "execution_count": 21,
     "metadata": {},
     "output_type": "execute_result"
    }
   ],
   "source": [
    "#seleccionamos la subtupla\n",
    "(tupla_inicial_1[-3],tupla_inicial_1[-2],tupla_inicial_1[-1]) \n",
    "\n"
   ]
  },
  {
   "cell_type": "markdown",
   "metadata": {},
   "source": [
    "e. Elimina de la tupla la mayor edad. Se puede? Qué podrías hacer?"
   ]
  },
  {
   "cell_type": "code",
   "execution_count": 22,
   "metadata": {
    "colab": {},
    "colab_type": "code",
    "id": "JspvYiZq28Ac"
   },
   "outputs": [
    {
     "data": {
      "text/plain": [
       "(19, 36, 36)"
      ]
     },
     "execution_count": 22,
     "metadata": {},
     "output_type": "execute_result"
    }
   ],
   "source": [
    "edad_list = list(tupla_inicial_1) #convertimos de tupla a lista\n",
    "edad_list.sort() #ordenamos la lista de menor a mayor\n",
    "edad_list.pop() #eliminamos el último item\n",
    "edad_tupla = tuple(edad_list) #convertimos nuevamente de lista a tupla\n",
    "edad_tupla"
   ]
  },
  {
   "cell_type": "markdown",
   "metadata": {
    "colab_type": "text",
    "id": "TnZLKKWA19gT"
   },
   "source": [
    "## Parte 4. Sets"
   ]
  },
  {
   "cell_type": "markdown",
   "metadata": {
    "colab_type": "text",
    "id": "RTZcIssr3Hw9"
   },
   "source": [
    "a. Crea un conjunto con los siguientes valores: \"Comercial\", \"Riesgos\", \"Finanzas\", \"RRHH\""
   ]
  },
  {
   "cell_type": "code",
   "execution_count": 23,
   "metadata": {
    "colab": {},
    "colab_type": "code",
    "id": "4G2Hif2-4ueS"
   },
   "outputs": [
    {
     "data": {
      "text/plain": [
       "{'Comercial', 'Finanzas', 'RRHH', 'Riesgos'}"
      ]
     },
     "execution_count": 23,
     "metadata": {},
     "output_type": "execute_result"
    }
   ],
   "source": [
    "s1 = {'Comercial', 'Riesgos', 'Finanzas', 'RRHH'} #llaves {} se utilizan para sets, no admite elementos repetidos\n",
    "s1"
   ]
  },
  {
   "cell_type": "markdown",
   "metadata": {
    "colab_type": "text",
    "id": "tbDDibpC3B96"
   },
   "source": [
    "b. Crea otro conjunto con los siguientes valores: \"Finanzas\", \"Gerencia\", \"Ventas\", \"Riesgos\", \"Logística\")"
   ]
  },
  {
   "cell_type": "code",
   "execution_count": 24,
   "metadata": {
    "colab": {},
    "colab_type": "code",
    "id": "vwWRPNkF4uuZ"
   },
   "outputs": [
    {
     "data": {
      "text/plain": [
       "{'Finanzas', 'Gerencia', 'Logística', 'Riesgos', 'Ventas'}"
      ]
     },
     "execution_count": 24,
     "metadata": {},
     "output_type": "execute_result"
    }
   ],
   "source": [
    "s2= {\"Finanzas\", \"Gerencia\", \"Ventas\", \"Riesgos\", \"Logística\"} #creamos otro set y entre comillas colocamos las palabras\n",
    "s2"
   ]
  },
  {
   "cell_type": "markdown",
   "metadata": {
    "colab_type": "text",
    "id": "rtzYr0pA3B79"
   },
   "source": [
    "c. Genera la unión de ambos conjuntos. Y convertirlo en una lista."
   ]
  },
  {
   "cell_type": "code",
   "execution_count": 25,
   "metadata": {
    "colab": {},
    "colab_type": "code",
    "id": "-3uE5X_N4vdZ"
   },
   "outputs": [
    {
     "data": {
      "text/plain": [
       "['Gerencia', 'Logística', 'Finanzas', 'RRHH', 'Comercial', 'Ventas', 'Riesgos']"
      ]
     },
     "execution_count": 25,
     "metadata": {},
     "output_type": "execute_result"
    }
   ],
   "source": [
    "list=list(s1.union(s2)) #método unión suma dos conjuntos y con list() lo convertimos a lista\n",
    "list"
   ]
  },
  {
   "cell_type": "markdown",
   "metadata": {
    "colab_type": "text",
    "id": "6xKGefVw3B5c"
   },
   "source": [
    "d. Genera la interseccion de ambos conjuntos. Y convertirlo en una tupla."
   ]
  },
  {
   "cell_type": "code",
   "execution_count": 26,
   "metadata": {
    "colab": {},
    "colab_type": "code",
    "id": "aVA1qXdt4v_B"
   },
   "outputs": [
    {
     "data": {
      "text/plain": [
       "('Finanzas', 'Riesgos')"
      ]
     },
     "execution_count": 26,
     "metadata": {},
     "output_type": "execute_result"
    }
   ],
   "source": [
    "tupla=tuple(s1.intersection(s2)) #Devuelve los elementos comunes a dos conjuntos y con tuple() lo convertimos a tupla\n",
    "tupla"
   ]
  },
  {
   "cell_type": "markdown",
   "metadata": {
    "colab_type": "text",
    "id": "Hz2BHlOm3B22"
   },
   "source": [
    "e. Genera una lista con los elementos que están en el 1er conjunto pero no en el 2do conjunto. [No usar \"if\"s ni \"for\"s]"
   ]
  },
  {
   "cell_type": "code",
   "execution_count": 27,
   "metadata": {
    "colab": {},
    "colab_type": "code",
    "id": "IGwnRnOU4wTy"
   },
   "outputs": [
    {
     "data": {
      "text/plain": [
       "{'Comercial', 'RRHH'}"
      ]
     },
     "execution_count": 27,
     "metadata": {},
     "output_type": "execute_result"
    }
   ],
   "source": [
    "s1.difference(s2) #Devuelve los elementos del primero conjunto que no están en el segundo"
   ]
  },
  {
   "cell_type": "markdown",
   "metadata": {
    "colab_type": "text",
    "id": "kO_b_j3619eX"
   },
   "source": [
    "## Parte 5. Diccionarios"
   ]
  },
  {
   "cell_type": "markdown",
   "metadata": {
    "colab_type": "text",
    "id": "q6XR8hMr3W1R"
   },
   "source": [
    "a. Crea un diccionario vacio. "
   ]
  },
  {
   "cell_type": "code",
   "execution_count": 2,
   "metadata": {
    "colab": {},
    "colab_type": "code",
    "id": "CwUerZpp4w9D"
   },
   "outputs": [
    {
     "data": {
      "text/plain": [
       "{}"
      ]
     },
     "execution_count": 2,
     "metadata": {},
     "output_type": "execute_result"
    }
   ],
   "source": [
    "x = {} \n",
    "x"
   ]
  },
  {
   "cell_type": "markdown",
   "metadata": {
    "colab_type": "text",
    "id": "e_54Vinr3Wy_"
   },
   "source": [
    "b. Añade 5 elementos al diccionario donde la **Clave** sea un país y el **Valor** sea el número de habitantes."
   ]
  },
  {
   "cell_type": "code",
   "execution_count": 3,
   "metadata": {
    "colab": {},
    "colab_type": "code",
    "id": "fe5uJQeD4xZk"
   },
   "outputs": [
    {
     "data": {
      "text/plain": [
       "{'Perú': 32000000,\n",
       " 'EEUU': 332250000,\n",
       " 'Australia': 25900570,\n",
       " 'Aruba': 3000000,\n",
       " 'Francia': 202250000}"
      ]
     },
     "execution_count": 3,
     "metadata": {},
     "output_type": "execute_result"
    }
   ],
   "source": [
    "d1 = {'Perú':32000000, 'EEUU':332250000, 'Australia':25900570,'Aruba':3000000, 'Francia':202250000} #key->país, value: nro habitantes y reportamos\n",
    "d1"
   ]
  },
  {
   "cell_type": "markdown",
   "metadata": {
    "colab_type": "text",
    "id": "F13nNFMm3Wwn"
   },
   "source": [
    "c. Imprime solo las llaves del diccionario. "
   ]
  },
  {
   "cell_type": "code",
   "execution_count": 4,
   "metadata": {
    "colab": {},
    "colab_type": "code",
    "id": "bOhONJEl4x4r"
   },
   "outputs": [
    {
     "name": "stdout",
     "output_type": "stream",
     "text": [
      "Perú\n",
      "EEUU\n",
      "Australia\n",
      "Aruba\n",
      "Francia\n"
     ]
    }
   ],
   "source": [
    "for i in d1.keys(): #con un for hacemos que recorra por cada uno de los items, especificando con keys() los países\n",
    "  print(i)"
   ]
  },
  {
   "cell_type": "markdown",
   "metadata": {
    "colab_type": "text",
    "id": "Oa8GDFMB3Wtu"
   },
   "source": [
    "d. Imprime solo los valores del diccionario. "
   ]
  },
  {
   "cell_type": "code",
   "execution_count": 5,
   "metadata": {
    "colab": {},
    "colab_type": "code",
    "id": "pEiOlBoW4ymc",
    "scrolled": true
   },
   "outputs": [
    {
     "data": {
      "text/plain": [
       "dict_values([32000000, 332250000, 25900570, 3000000, 202250000])"
      ]
     },
     "execution_count": 5,
     "metadata": {},
     "output_type": "execute_result"
    }
   ],
   "source": [
    "d1.values() #reporta el valor que vendría a ser el nro de habitantes"
   ]
  },
  {
   "cell_type": "markdown",
   "metadata": {
    "colab_type": "text",
    "id": "b5vjsE1f3WrI"
   },
   "source": [
    "e. Actualiza el valor del nro de habitantes del país de tu elección multiplicando su valor por 1.5"
   ]
  },
  {
   "cell_type": "code",
   "execution_count": 7,
   "metadata": {
    "colab": {},
    "colab_type": "code",
    "id": "sLSfHjqp4zEW"
   },
   "outputs": [
    {
     "name": "stdout",
     "output_type": "stream",
     "text": [
      "Ingrese el pais: EEUU\n",
      "Ingrese el valor del nro de habitantes: 342250000\n",
      "{'Perú': 32000000, 'EEUU': 513375000.0, 'Australia': 25900570, 'Aruba': 3000000, 'Francia': 202250000}\n"
     ]
    }
   ],
   "source": [
    "pais=input(\"Ingrese el pais: \")\n",
    "nro= int(input(\"Ingrese el valor del nro de habitantes: \"))*1.5 #convertimos de str a int \n",
    "d1 = { **d1, pais: nro} #el ** permite desempaquetar el diccionario, y actualizamos el valor de acuerdo al país\n",
    "print(d1)"
   ]
  },
  {
   "cell_type": "markdown",
   "metadata": {
    "colab_type": "text",
    "id": "LuUulTa_eAP6"
   },
   "source": [
    "f. Elimina del diccionario el país con el menor número de habitantes."
   ]
  },
  {
   "cell_type": "code",
   "execution_count": 9,
   "metadata": {},
   "outputs": [
    {
     "name": "stdout",
     "output_type": "stream",
     "text": [
      "{'Perú': 32000000, 'EEUU': 513375000.0, 'Australia': 25900570, 'Aruba': 3000000, 'Francia': 202250000}\n",
      "{'Perú': 32000000, 'EEUU': 513375000.0, 'Australia': 25900570, 'Francia': 202250000}\n"
     ]
    }
   ],
   "source": [
    "print(d1)\n",
    "minimo = min(d1, key=d1.get) #expresión devolverá la lista de claves cuyos valores están ordenados. A partir de ahí, podemos crear un nuevo diccionario ordenado\n",
    "del d1[minimo] #como ya tenemos el nombre del valor minimo lo eliminamos por key\n",
    "print(d1)\n"
   ]
  },
  {
   "cell_type": "code",
   "execution_count": 8,
   "metadata": {
    "colab": {},
    "colab_type": "code",
    "id": "47pZN7b219Kj"
   },
   "outputs": [
    {
     "data": {
      "text/plain": [
       "[('EEUU', 513375000.0),\n",
       " ('Francia', 202250000),\n",
       " ('Perú', 32000000),\n",
       " ('Australia', 25900570)]"
      ]
     },
     "execution_count": 8,
     "metadata": {},
     "output_type": "execute_result"
    }
   ],
   "source": [
    "#OTRA FORMA\n",
    "import operator #módulo incorporado que proporciona un conjunto de operadores convenientes\n",
    "p2=sorted(d1.items(), key=operator.itemgetter(1), reverse=True) #construye un invocable que asume un objeto iterable e invertimos el orden \n",
    "p2.pop()\n",
    "p2\n"
   ]
  }
 ],
 "metadata": {
  "colab": {
   "collapsed_sections": [
    "IQuZ8-Y3spHv",
    "BSdZ2tu33qW1",
    "IzAGzkp0ACKr",
    "VWb17vLXBNAj",
    "wYiWkIWWG8vP",
    "1nATE1WneWtS",
    "3MNFFnVrybMh",
    "q6sC9dYSybKB",
    "PtQ7zQmuybHw",
    "hYoYxrBjybFB",
    "vjANcDBg19iM",
    "TnZLKKWA19gT",
    "kO_b_j3619eX"
   ],
   "name": "Sesión03_FDP_OG5_Estructuras_Datos.ipynb",
   "provenance": []
  },
  "kernelspec": {
   "display_name": "Python 3 (ipykernel)",
   "language": "python",
   "name": "python3"
  },
  "language_info": {
   "codemirror_mode": {
    "name": "ipython",
    "version": 3
   },
   "file_extension": ".py",
   "mimetype": "text/x-python",
   "name": "python",
   "nbconvert_exporter": "python",
   "pygments_lexer": "ipython3",
   "version": "3.9.12"
  }
 },
 "nbformat": 4,
 "nbformat_minor": 1
}
