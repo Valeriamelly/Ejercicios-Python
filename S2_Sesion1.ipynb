{
 "cells": [
  {
   "cell_type": "markdown",
   "metadata": {
    "colab_type": "text",
    "id": "8XuEd9v1y7um"
   },
   "source": [
    "## Funciones"
   ]
  },
  {
   "cell_type": "code",
   "execution_count": 1,
   "metadata": {
    "colab": {},
    "colab_type": "code",
    "id": "psYEmC6DkwLZ"
   },
   "outputs": [],
   "source": [
    "#Ejemplo 1\n",
    "\n",
    "def potencia(base, pot):\n",
    "  resultado = base ** pot\n",
    "  return resultado"
   ]
  },
  {
   "cell_type": "code",
   "execution_count": 2,
   "metadata": {
    "colab": {},
    "colab_type": "code",
    "id": "4e73r7CTk6_S"
   },
   "outputs": [
    {
     "data": {
      "text/plain": [
       "125"
      ]
     },
     "execution_count": 2,
     "metadata": {},
     "output_type": "execute_result"
    }
   ],
   "source": [
    "potencia(5, 3)"
   ]
  },
  {
   "cell_type": "code",
   "execution_count": 3,
   "metadata": {
    "colab": {},
    "colab_type": "code",
    "id": "-cbzcxMTk7Bl"
   },
   "outputs": [
    {
     "ename": "TypeError",
     "evalue": "potencia() missing 1 required positional argument: 'pot'",
     "output_type": "error",
     "traceback": [
      "\u001b[1;31m---------------------------------------------------------------------------\u001b[0m",
      "\u001b[1;31mTypeError\u001b[0m                                 Traceback (most recent call last)",
      "\u001b[1;32m<ipython-input-3-34286b763729>\u001b[0m in \u001b[0;36m<module>\u001b[1;34m\u001b[0m\n\u001b[1;32m----> 1\u001b[1;33m \u001b[0mpotencia\u001b[0m\u001b[1;33m(\u001b[0m\u001b[1;36m5\u001b[0m\u001b[1;33m)\u001b[0m\u001b[1;33m\u001b[0m\u001b[1;33m\u001b[0m\u001b[0m\n\u001b[0m",
      "\u001b[1;31mTypeError\u001b[0m: potencia() missing 1 required positional argument: 'pot'"
     ]
    }
   ],
   "source": [
    "potencia(5)"
   ]
  },
  {
   "cell_type": "code",
   "execution_count": 4,
   "metadata": {
    "colab": {},
    "colab_type": "code",
    "id": "LdfhXOKGk-5I"
   },
   "outputs": [],
   "source": [
    "def potencia(base, pot = 2):\n",
    "  resultado = base ** pot\n",
    "  return resultado"
   ]
  },
  {
   "cell_type": "code",
   "execution_count": 5,
   "metadata": {
    "colab": {},
    "colab_type": "code",
    "id": "tgrgv_UclBEF"
   },
   "outputs": [
    {
     "data": {
      "text/plain": [
       "25"
      ]
     },
     "execution_count": 5,
     "metadata": {},
     "output_type": "execute_result"
    }
   ],
   "source": [
    "potencia(5)"
   ]
  },
  {
   "cell_type": "code",
   "execution_count": null,
   "metadata": {},
   "outputs": [],
   "source": []
  },
  {
   "cell_type": "code",
   "execution_count": 6,
   "metadata": {
    "colab": {},
    "colab_type": "code",
    "id": "-77KnpTkyVqD"
   },
   "outputs": [],
   "source": [
    "#Ejemplo 2\n",
    "\n",
    "def promedio(datos):\n",
    "    n=len(datos)\n",
    "    suma=0\n",
    "    for i in datos:\n",
    "        suma=suma+i\n",
    "        \n",
    "    promedio=suma/n\n",
    "    return promedio\n"
   ]
  },
  {
   "cell_type": "code",
   "execution_count": 7,
   "metadata": {},
   "outputs": [
    {
     "data": {
      "text/plain": [
       "20.25"
      ]
     },
     "execution_count": 7,
     "metadata": {},
     "output_type": "execute_result"
    }
   ],
   "source": [
    "promedio([48,20,5,8])"
   ]
  },
  {
   "cell_type": "markdown",
   "metadata": {
    "colab_type": "text",
    "id": "Izg8ORf-zwSg"
   },
   "source": [
    "### Ejercicio 1.\n",
    "\n",
    "Crear una función que calcule el índice de masa corporal (**peso / talla^2**) y muestre su clasificación según:\n",
    "\n",
    "<img src=\"http://tuendocrinologo.com/site/images/stories/aa_su/3594669.png\">"
   ]
  },
  {
   "cell_type": "code",
   "execution_count": 15,
   "metadata": {
    "colab": {},
    "colab_type": "code",
    "id": "GVSIghaszsD8"
   },
   "outputs": [
    {
     "name": "stdout",
     "output_type": "stream",
     "text": [
      "Normal\n"
     ]
    }
   ],
   "source": [
    "#Ingrese su solución aquí\n",
    "\n",
    "def IMC(peso,talla):\n",
    "    IMC=peso/talla**2\n",
    "    if IMC>18.5 and IMC<25:\n",
    "        print(\"Normal\")\n",
    "    elif IMC>=25 and IMC<30:\n",
    "        print(\"Sobrepeso\")\n",
    "    elif IMC>=30 and IMC<35:\n",
    "        print(\"Obesidad Grado I\")\n",
    "    elif IMC>=35 and IMC<40:\n",
    "        print(\"Obesidad Grado II\")\n",
    "    elif IMC>40:\n",
    "        print(\"Obesidad Grado III\")\n",
    "        \n",
    "\n",
    "IMC(65,1.62)\n"
   ]
  },
  {
   "cell_type": "markdown",
   "metadata": {
    "colab_type": "text",
    "id": "QzkU49E20VAG"
   },
   "source": [
    "### Ejercicio 2.\n",
    "\n",
    "Crear una función que reciba la siguiente lista de DNI y devuelva el número de DNI inválidos."
   ]
  },
  {
   "cell_type": "code",
   "execution_count": 1,
   "metadata": {
    "colab": {},
    "colab_type": "code",
    "id": "09k_pNYa0WVx"
   },
   "outputs": [
    {
     "name": "stdout",
     "output_type": "stream",
     "text": [
      "El numero de dnis invalidos es:  2\n"
     ]
    }
   ],
   "source": [
    "#Ingrese su solución aquí\n",
    "\n",
    "lista_dni = ['70047842', '1673181', '00157840', '25750480', '712460','33422233']\n",
    "\n",
    "def DNI(lista_dnis):\n",
    "    sum=0\n",
    "    for i in lista_dnis:\n",
    "        if len(i)!=8:\n",
    "            sum=sum+1\n",
    "    print(\"El numero de dnis invalidos es: \",sum)\n",
    "\n",
    "\n",
    "DNI(lista_dni)\n",
    "            \n",
    "    "
   ]
  },
  {
   "cell_type": "markdown",
   "metadata": {
    "colab_type": "text",
    "id": "8GQcfPpC3jGN"
   },
   "source": [
    "## Funciones lambda"
   ]
  },
  {
   "cell_type": "code",
   "execution_count": 8,
   "metadata": {
    "colab": {},
    "colab_type": "code",
    "id": "FQkQF39i1PpF"
   },
   "outputs": [],
   "source": [
    "genero = ['F', 'M', 'M', 'F', 'M']\n",
    "NSE    = ['A', 'A', 'C', 'B', 'C']"
   ]
  },
  {
   "cell_type": "code",
   "execution_count": 10,
   "metadata": {
    "colab": {},
    "colab_type": "code",
    "id": "uiichMKf4Brj"
   },
   "outputs": [
    {
     "data": {
      "text/plain": [
       "[0, 1, 1, 0, 1]"
      ]
     },
     "execution_count": 10,
     "metadata": {},
     "output_type": "execute_result"
    }
   ],
   "source": [
    "# list, al igual es la funcion que nos servirá para castear a una lista\n",
    "# map, es una función que a cada elemento de un conjunto de datos aplica la función que le indiquemos\n",
    "\n",
    "list( map( lambda x: 0 if x == 'F' else 1, genero ) )"
   ]
  },
  {
   "cell_type": "code",
   "execution_count": 11,
   "metadata": {
    "colab": {},
    "colab_type": "code",
    "id": "AaXb5QeR4EcQ"
   },
   "outputs": [
    {
     "data": {
      "text/plain": [
       "[3, 3, 1, 2, 1]"
      ]
     },
     "execution_count": 11,
     "metadata": {},
     "output_type": "execute_result"
    }
   ],
   "source": [
    "list( map( lambda x: 1 if x == 'C' else (2 if x == 'B' else 3), NSE ) )"
   ]
  },
  {
   "cell_type": "code",
   "execution_count": null,
   "metadata": {
    "colab": {},
    "colab_type": "code",
    "id": "z2O5WDIF4MlT"
   },
   "outputs": [],
   "source": []
  }
 ],
 "metadata": {
  "colab": {
   "collapsed_sections": [
    "8XuEd9v1y7um",
    "8GQcfPpC3jGN"
   ],
   "name": "Sesión04_FDP_OG5_Funciones.ipynb",
   "provenance": []
  },
  "kernelspec": {
   "display_name": "Python 3 (ipykernel)",
   "language": "python",
   "name": "python3"
  },
  "language_info": {
   "codemirror_mode": {
    "name": "ipython",
    "version": 3
   },
   "file_extension": ".py",
   "mimetype": "text/x-python",
   "name": "python",
   "nbconvert_exporter": "python",
   "pygments_lexer": "ipython3",
   "version": "3.9.12"
  }
 },
 "nbformat": 4,
 "nbformat_minor": 1
}
