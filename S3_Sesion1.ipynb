{
 "cells": [
  {
   "cell_type": "markdown",
   "metadata": {
    "colab_type": "text",
    "id": "Fdc5yd3psodu"
   },
   "source": [
    "# Strings"
   ]
  },
  {
   "cell_type": "code",
   "execution_count": 1,
   "metadata": {
    "colab": {},
    "colab_type": "code",
    "id": "nddsiG-Qs6H5"
   },
   "outputs": [
    {
     "data": {
      "text/plain": [
       "'@'"
      ]
     },
     "execution_count": 1,
     "metadata": {},
     "output_type": "execute_result"
    }
   ],
   "source": [
    "#Ascii to Char\n",
    "\n",
    "chr(64)"
   ]
  },
  {
   "cell_type": "code",
   "execution_count": 2,
   "metadata": {
    "colab": {},
    "colab_type": "code",
    "id": "VO9RcexVtDGm"
   },
   "outputs": [
    {
     "data": {
      "text/plain": [
       "64"
      ]
     },
     "execution_count": 2,
     "metadata": {},
     "output_type": "execute_result"
    }
   ],
   "source": [
    "#Char to Ascii\n",
    "\n",
    "ord('@')"
   ]
  },
  {
   "cell_type": "code",
   "execution_count": 3,
   "metadata": {
    "colab": {},
    "colab_type": "code",
    "id": "DrrBcQ1JsmeG"
   },
   "outputs": [],
   "source": [
    "#Creación de un string\n",
    "\n",
    "s1 = 'fundamentos de programación en Python.'"
   ]
  },
  {
   "cell_type": "code",
   "execution_count": 4,
   "metadata": {
    "colab": {},
    "colab_type": "code",
    "id": "fTOt8YzIsp91"
   },
   "outputs": [
    {
     "data": {
      "text/plain": [
       "True"
      ]
     },
     "execution_count": 4,
     "metadata": {},
     "output_type": "execute_result"
    }
   ],
   "source": [
    "#Pertenencia\n",
    "\n",
    "'de' in s1"
   ]
  },
  {
   "cell_type": "code",
   "execution_count": 5,
   "metadata": {
    "colab": {},
    "colab_type": "code",
    "id": "L0MLXwnQtXhD"
   },
   "outputs": [
    {
     "data": {
      "text/plain": [
       "False"
      ]
     },
     "execution_count": 5,
     "metadata": {},
     "output_type": "execute_result"
    }
   ],
   "source": [
    "'fundamentos' not in s1"
   ]
  },
  {
   "cell_type": "code",
   "execution_count": 6,
   "metadata": {
    "colab": {},
    "colab_type": "code",
    "id": "HMpl4wMvtbwK"
   },
   "outputs": [
    {
     "data": {
      "text/plain": [
       "38"
      ]
     },
     "execution_count": 6,
     "metadata": {},
     "output_type": "execute_result"
    }
   ],
   "source": [
    "#Longitud de un string\n",
    "\n",
    "len(s1)"
   ]
  },
  {
   "cell_type": "code",
   "execution_count": 7,
   "metadata": {
    "colab": {},
    "colab_type": "code",
    "id": "hKoBs-cczAez"
   },
   "outputs": [
    {
     "name": "stdout",
     "output_type": "stream",
     "text": [
      "f\n",
      ".\n",
      "amen\n",
      ".nohtyP ne nóicamargorp ed sotnemadnuf\n"
     ]
    }
   ],
   "source": [
    "#Acceso (Indexing - Slicing)\n",
    "\n",
    "print(s1[0])\n",
    "print(s1[-1])\n",
    "print(s1[4:8])\n",
    "print(s1[::-1])"
   ]
  },
  {
   "cell_type": "code",
   "execution_count": 8,
   "metadata": {
    "colab": {},
    "colab_type": "code",
    "id": "8zpD3OQKzrl5"
   },
   "outputs": [
    {
     "name": "stdout",
     "output_type": "stream",
     "text": [
      "Primera línea\n",
      "Segunda línea\n"
     ]
    }
   ],
   "source": [
    "#Insertar un salto de línea\n",
    "\n",
    "print('Primera línea\\nSegunda línea')"
   ]
  },
  {
   "cell_type": "code",
   "execution_count": 9,
   "metadata": {
    "colab": {},
    "colab_type": "code",
    "id": "XW6j9b_Bz1gQ"
   },
   "outputs": [
    {
     "name": "stdout",
     "output_type": "stream",
     "text": [
      "Primera línea\tSegunda línea\n"
     ]
    }
   ],
   "source": [
    "#Insertar un tabulador\n",
    "print('Primera línea\\tSegunda línea')"
   ]
  },
  {
   "cell_type": "code",
   "execution_count": 10,
   "metadata": {
    "colab": {},
    "colab_type": "code",
    "id": "b_L_tu4YzMkm"
   },
   "outputs": [
    {
     "name": "stdout",
     "output_type": "stream",
     "text": [
      "String centrado:\n",
      "      fundamentos de programación en Python.      \n",
      "______fundamentos de programación en Python.______\n",
      "\n",
      "\n",
      "Alineado a la izquierda:\n",
      "fundamentos de programación en Python.            \n",
      "fundamentos de programación en Python.<<<<<<<<<<<<\n",
      "\n",
      "\n",
      "Alineado a la derecha:\n",
      "            fundamentos de programación en Python.\n",
      ">>>>>>>>>>>>fundamentos de programación en Python.\n",
      "\n",
      "\n",
      "Completar con 0\n",
      "-123.45\n",
      "-00000123.45\n"
     ]
    }
   ],
   "source": [
    "#Funciones de desplazamiento\n",
    "\n",
    "print('String centrado:')\n",
    "print(s1.center(50))\n",
    "print(s1.center(50, '_'))\n",
    "\n",
    "print('\\n\\nAlineado a la izquierda:')\n",
    "print(s1.ljust(50))\n",
    "print(s1.ljust(50, '<'))\n",
    "\n",
    "print('\\n\\nAlineado a la derecha:')\n",
    "print(s1.rjust(50))\n",
    "print(s1.rjust(50, '>'))\n",
    "\n",
    "print('\\n\\nCompletar con 0')\n",
    "print('-123.45'.zfill(4))\n",
    "print('-123.45'.zfill(12))"
   ]
  },
  {
   "cell_type": "code",
   "execution_count": 11,
   "metadata": {
    "colab": {},
    "colab_type": "code",
    "id": "QwSeG_mVA_mU"
   },
   "outputs": [
    {
     "name": "stdout",
     "output_type": "stream",
     "text": [
      "Minúsculas:\n",
      " el motivo de mi reclamo es la demora en la entrega del producto que compré online, pésimo servicio.\n",
      "\n",
      "Mayúsculas:\n",
      " EL MOTIVO DE MI RECLAMO ES LA DEMORA EN LA ENTREGA DEL PRODUCTO QUE COMPRÉ ONLINE, PÉSIMO SERVICIO.\n",
      "\n",
      "Primera letra en mayúscula:\n",
      " El motivo de mi reclamo es la demora en la entrega del producto que compré online, pésimo servicio.\n",
      "\n",
      "Primera letra de cada palabra en mayúscula:\n",
      " El Motivo De Mi Reclamo Es La Demora En La Entrega Del Producto Que Compré Online, Pésimo Servicio.\n",
      "\n",
      "Intercambiar entre mayúsculas y minúsculas:\n",
      " EL MOTIVO DE MI reclamo ES LA DEMORA EN LA ENTREGA DEL PRODUCTO QUE COMPRÉ online, PÉSIMO SERVICIO.\n"
     ]
    }
   ],
   "source": [
    "#Funciones de texto\n",
    "\n",
    "s1 = 'el motivo de mi RECLAMO es la demora en la entrega del producto que compré ONLINE, pésimo servicio.'\n",
    "\n",
    "print('Minúsculas:\\n', s1.lower())\n",
    "print('\\nMayúsculas:\\n', s1.upper())\n",
    "\n",
    "print('\\nPrimera letra en mayúscula:\\n', s1.capitalize())\n",
    "print('\\nPrimera letra de cada palabra en mayúscula:\\n', s1.title())\n",
    "\n",
    "print('\\nIntercambiar entre mayúsculas y minúsculas:\\n', s1.swapcase())"
   ]
  },
  {
   "cell_type": "code",
   "execution_count": 12,
   "metadata": {
    "colab": {},
    "colab_type": "code",
    "id": "MeOb8xs8ziuX"
   },
   "outputs": [
    {
     "data": {
      "text/plain": [
       "(True, True, True, True, False)"
      ]
     },
     "execution_count": 12,
     "metadata": {},
     "output_type": "execute_result"
    }
   ],
   "source": [
    "#Otras funciones\n",
    "s1 = '2020'\n",
    "s2 = 'python'\n",
    "s3 = 'Python'\n",
    "s4 = 'PythonDMC'\n",
    "s5 = 'Python-DMC'\n",
    "\n",
    "#s1.isnumeric(),  s2.isnumeric(),  s3.isnumeric(),  s4.isnumeric(),  s5.isnumeric()\n",
    "#s1.isalpha(),    s2.isalpha(),    s3.isalpha(),    s4.isalpha(),    s5.isalpha()\n",
    "#s1.islower(),    s2.islower(),    s3.islower(),    s4.islower(),    s5.islower()\n",
    "s1.isalnum(),    s2.isalnum(),    s3.isalnum(),    s4.isalnum(),    s5.isalnum()"
   ]
  },
  {
   "cell_type": "code",
   "execution_count": 22,
   "metadata": {
    "colab": {},
    "colab_type": "code",
    "id": "RgCUO-rH9v_z"
   },
   "outputs": [
    {
     "name": "stdout",
     "output_type": "stream",
     "text": [
      "['P', 'thon es un lenguaje de tipado dinamico.']\n"
     ]
    }
   ],
   "source": [
    "#Reemplazar, buscar y dividir.\n",
    "\n",
    "s = 'Python es un lenguaje de tipado dinamico.'\n",
    "\n",
    "lista_palabras = s.split('y')\n",
    "print(lista_palabras)"
   ]
  },
  {
   "cell_type": "code",
   "execution_count": 20,
   "metadata": {
    "colab": {},
    "colab_type": "code",
    "id": "u8a7EV_e98OM"
   },
   "outputs": [
    {
     "name": "stdout",
     "output_type": "stream",
     "text": [
      "['Python', 'hs', 'un', 'lhnguajh', 'dh', 'tipado', 'dinamico.']\n"
     ]
    }
   ],
   "source": [
    "s = s.replace('e','h')\n",
    "lista_palabras = s.split()\n",
    "print(lista_palabras)"
   ]
  },
  {
   "cell_type": "code",
   "execution_count": 15,
   "metadata": {
    "colab": {},
    "colab_type": "code",
    "id": "HWqMrK0L_1W_"
   },
   "outputs": [
    {
     "name": "stdout",
     "output_type": "stream",
     "text": [
      "Dado el substring: de\n",
      "Índice de inicio del substring: -1\n",
      "Cantidad de ocurrencias del substring: 0\n"
     ]
    }
   ],
   "source": [
    "ss = 'de'\n",
    "\n",
    "print('Dado el substring:', ss)\n",
    "print('Índice de inicio del substring:', s.find(ss))\n",
    "print('Cantidad de ocurrencias del substring:', s.count(ss))"
   ]
  },
  {
   "cell_type": "markdown",
   "metadata": {
    "colab_type": "text",
    "id": "Um3nsq4b9GhJ"
   },
   "source": [
    "## Ejercicio 1.\n",
    "Escribir un programa que solicite una palabra e indique si es un palíndromo."
   ]
  },
  {
   "cell_type": "code",
   "execution_count": 16,
   "metadata": {
    "colab": {},
    "colab_type": "code",
    "id": "PH3wVhXd9pQ_"
   },
   "outputs": [
    {
     "name": "stdout",
     "output_type": "stream",
     "text": [
      "ok\n"
     ]
    }
   ],
   "source": [
    "#Ingrese su respuesta aquí\n",
    "original='oso'\n",
    "inversa=original[::-1]\n",
    "if original==inversa:\n",
    "    print('ok')\n",
    "else:\n",
    "    print('No es')"
   ]
  },
  {
   "cell_type": "markdown",
   "metadata": {
    "colab_type": "text",
    "id": "wikV_Nh_9okL"
   },
   "source": [
    "## Ejercicio 2.\n",
    "Escribir un programa que reciba el siguiente texto y muestre:\n",
    "- Cantidad de palabras distintas\n",
    "- Frecuencia de cada palabra encontrada\n",
    "\n",
    "***Buenas tardes, he notado consumos no reconocidos en mi tarjeta de crédito que no he realizado. Mis últimos consumos son del 4 de abril pero en el estado de cuenta de mi tarjeta de crédito aparecen consumos posteriores. Espero su pronta ayuda, abonando el monto de los consumos al saldo de mi tarjeta, gracias.***"
   ]
  },
  {
   "cell_type": "code",
   "execution_count": 17,
   "metadata": {
    "colab": {},
    "colab_type": "code",
    "id": "NgHGgbEw9JWs"
   },
   "outputs": [
    {
     "name": "stdout",
     "output_type": "stream",
     "text": [
      "buenas tardes he notado consumos no reconocidos en mi tarjeta de crédito que no he realizado mis últimos consumos son del 4 de abril pero en el estado de cuenta de mi tarjeta de crédito aparecen consumos posteriores espero su pronta ayuda abonando el monto de los consumos al saldo de mi tarjeta gracias\n",
      "['buenas', 'tardes', 'he', 'notado', 'consumos', 'no', 'reconocidos', 'en', 'mi', 'tarjeta', 'de', 'crédito', 'que', 'no', 'he', 'realizado', 'mis', 'últimos', 'consumos', 'son', 'del', '4', 'de', 'abril', 'pero', 'en', 'el', 'estado', 'de', 'cuenta', 'de', 'mi', 'tarjeta', 'de', 'crédito', 'aparecen', 'consumos', 'posteriores', 'espero', 'su', 'pronta', 'ayuda', 'abonando', 'el', 'monto', 'de', 'los', 'consumos', 'al', 'saldo', 'de', 'mi', 'tarjeta', 'gracias']\n",
      "{'he', 'no', 'aparecen', 'gracias', 'pronta', 'últimos', 'buenas', 'saldo', 'en', 'espero', 'el', 'crédito', 'su', 'notado', 'del', 'tardes', 'los', 'monto', '4', 'realizado', 'pero', 'cuenta', 'al', 'abril', 'mi', 'que', 'posteriores', 'ayuda', 'abonando', 'consumos', 'son', 'tarjeta', 'de', 'reconocidos', 'mis', 'estado'}\n",
      "36\n",
      "{'buenas': 1, 'tardes': 1, 'he': 2, 'notado': 1, 'consumos': 4, 'no': 2, 'reconocidos': 1, 'en': 2, 'mi': 3, 'tarjeta': 3, 'de': 7, 'crédito': 2, 'que': 1, 'realizado': 1, 'mis': 1, 'últimos': 1, 'son': 1, 'del': 1, '4': 1, 'abril': 1, 'pero': 1, 'el': 2, 'estado': 1, 'cuenta': 1, 'aparecen': 1, 'posteriores': 1, 'espero': 1, 'su': 1, 'pronta': 1, 'ayuda': 1, 'abonando': 1, 'monto': 1, 'los': 1, 'al': 1, 'saldo': 1, 'gracias': 1}\n"
     ]
    }
   ],
   "source": [
    "#Ingrese su respuesta aquí\n",
    "\n",
    "texto = 'Buenas tardes, he notado consumos no reconocidos en mi tarjeta de crédito que no he realizado. Mis últimos consumos son del 4 de abril pero en el estado de cuenta de mi tarjeta de crédito aparecen consumos posteriores. Espero su pronta ayuda, abonando el monto de los consumos al saldo de mi tarjeta, gracias.'\n",
    "texto=texto.lower()\n",
    "for c in [',',';','.',':']:\n",
    "    texto=texto.replace(c,'')\n",
    "print(texto)\n",
    "\n",
    "Lista_palabras = texto.split()\n",
    "set_palabras = set()\n",
    "dic_palabras = dict()\n",
    "\n",
    "for i in Lista_palabras:\n",
    "    set_palabras.add(i)\n",
    "    \n",
    "    if i in dic_palabras.keys(): dic_palabras[i] += 1\n",
    "    else: dic_palabras[i] =1\n",
    "    \n",
    "print(Lista_palabras)\n",
    "print(set_palabras)\n",
    "print(len(set_palabras))\n",
    "print(dic_palabras)"
   ]
  },
  {
   "cell_type": "code",
   "execution_count": null,
   "metadata": {},
   "outputs": [],
   "source": []
  }
 ],
 "metadata": {
  "colab": {
   "collapsed_sections": [
    "Fdc5yd3psodu"
   ],
   "name": "Sesión05_FDP_OG5_Strings.ipynb",
   "provenance": []
  },
  "kernelspec": {
   "display_name": "Python 3 (ipykernel)",
   "language": "python",
   "name": "python3"
  },
  "language_info": {
   "codemirror_mode": {
    "name": "ipython",
    "version": 3
   },
   "file_extension": ".py",
   "mimetype": "text/x-python",
   "name": "python",
   "nbconvert_exporter": "python",
   "pygments_lexer": "ipython3",
   "version": "3.9.12"
  }
 },
 "nbformat": 4,
 "nbformat_minor": 1
}
