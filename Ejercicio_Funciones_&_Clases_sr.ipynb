{
 "cells": [
  {
   "cell_type": "markdown",
   "metadata": {
    "id": "jPtCmO6nSHGQ"
   },
   "source": [
    "# Ejercicio - Funciones & Clases\n"
   ]
  },
  {
   "cell_type": "markdown",
   "metadata": {
    "id": "m6BZ_n08gTgN"
   },
   "source": [
    "1. Crear una función que calcule el importe final de una factura considerando:\n",
    "\n",
    "- Recibe M (monto en soles)\n",
    "- Recibe I (% impuesto sobre el monto)\n",
    "- Si se llama a la función con solo el monto, se debe considerar un impuesto del 18%."
   ]
  },
  {
   "cell_type": "code",
   "execution_count": 1,
   "metadata": {
    "colab": {
     "base_uri": "https://localhost:8080/"
    },
    "id": "m3oRE44qRel_",
    "outputId": "00181724-38cc-4f81-85a7-343cb21f9c0f"
   },
   "outputs": [
    {
     "name": "stdout",
     "output_type": "stream",
     "text": [
      "Monto con impuesto sobre el monto:  1100.0\n",
      "Monto con impuesto del 18%:  1180.0\n"
     ]
    }
   ],
   "source": [
    "def Importe_final(monto,impuesto=18):  #colocamos como argumentos el monto y el impuesto\n",
    "    return monto + monto*impuesto/100  #realizamos el cálculo dividiendo entre 100 para calcular el porcentaje\n",
    "print('Monto con impuesto sobre el monto: ', Importe_final(1000,10)) #se asigna al impuesto un nuevo valor\n",
    "print('Monto con impuesto del 18%: ', Importe_final(1000)) #se toma por defecto el 18%"
   ]
  },
  {
   "cell_type": "markdown",
   "metadata": {
    "id": "fUtMBa6zS-qW"
   },
   "source": [
    "2. Realiza una función que tome una lista de números enteros y retorne dos listas. La primera con los números pares y la segunda con los números impares."
   ]
  },
  {
   "cell_type": "code",
   "execution_count": 23,
   "metadata": {
    "colab": {
     "base_uri": "https://localhost:8080/"
    },
    "id": "wlP42oApTCBu",
    "outputId": "7ea90137-f338-435d-c125-952b881d3b41"
   },
   "outputs": [
    {
     "name": "stdout",
     "output_type": "stream",
     "text": [
      "La lista es:  ([2, 4, 6], [1, 3, 5])\n"
     ]
    }
   ],
   "source": [
    "def Lista_enteros(list): \n",
    "    l1 = []\n",
    "    l2 = []\n",
    " \n",
    "    for x in list: # se recorre directamente la lista\n",
    "        #si el número es par se añadirá a la lista, de lo contrario pasará a la lista donde se encuentran los nros impares\n",
    "        if x % 2 == 0:  #se usa módulo, o sea el resto \" %\" para calcular los nros pares\n",
    "            l1.append(x) #colocamos append para añadir, este método es muy utilizado en las listas\n",
    "        else:\n",
    "            l2.append(x) \n",
    " \n",
    "    return l1, l2\n",
    " \n",
    "lista1 = [1,2,3,4,5,6]\n",
    "print('La lista es: ', Lista_enteros(lista1))"
   ]
  },
  {
   "cell_type": "markdown",
   "metadata": {
    "id": "v64Ph5JTCaJu"
   },
   "source": [
    "3. Crear una clase que contenga al menos 1 atributo por defecto, 2 atributos propios (creados dentro del método init) y 2 métodos. Se evaluará la coherencia de su planteamiento."
   ]
  },
  {
   "cell_type": "code",
   "execution_count": 20,
   "metadata": {
    "colab": {
     "base_uri": "https://localhost:8080/"
    },
    "id": "RzhdSHYGxKwl",
    "outputId": "93f28cfc-4f2c-449d-f16e-4e02e626416a"
   },
   "outputs": [
    {
     "name": "stdout",
     "output_type": "stream",
     "text": [
      "Potencia de N1 y N2: 4\n",
      "Multiplicación de N1 y N2: 16\n"
     ]
    }
   ],
   "source": [
    "\n",
    "class Operaciones():\n",
    "    \n",
    "    #atributo por defecto\n",
    "    persona = True\n",
    "    \n",
    "    #inicializador\n",
    "    def __init__(self, n1, n2):   #n1 y n2 no son globales\n",
    "        self.numero1 = n1\n",
    "        self.numero2 = n2\n",
    "    \n",
    "    #método para elevar un numero\n",
    "    def potencia(self, Operaciones):  #self vincula los atributos con los argumentos dados.\n",
    "        return self.numero1**self.numero2 # EL \"**\" significa elevado a la N°\n",
    "    #método para multiplicar\n",
    "    def multiplicacion(self, Operaciones):  \n",
    "        return self.numero1*self.numero2\n",
    "\n",
    "\n",
    "op1 = Operaciones(2,2)  #llamamos a la clase y colocamos los parámetros\n",
    "op1.potencia(op1)     #llamamos al método que vamos a utilizar\n",
    "print(f'Potencia de N1 y N2: {op1.potencia(op1)}')  #reportamos\n",
    "op2 = Operaciones(4,2)\n",
    "op2.multiplicacion(op2)\n",
    "print(f'Multiplicación de N1 y N2: {op2.potencia(op2)}')"
   ]
  },
  {
   "cell_type": "code",
   "execution_count": 9,
   "metadata": {},
   "outputs": [
    {
     "name": "stdout",
     "output_type": "stream",
     "text": [
      "Nombre del empleado:  Axel  Edad:  27\n"
     ]
    }
   ],
   "source": [
    "class Empleado():\n",
    "    \n",
    "    cargo = \"Administrador\"\n",
    "    \n",
    "    def __init__(self, nombre, edad):\n",
    "        self.nombre = nombre\n",
    "        self.edad = edad\n",
    "        \n",
    "    def reportar(self):\n",
    "        \n",
    "        print(\"Nombre del empleado: \", self.nombre, \" Edad: \", self.edad)\n",
    "    \n",
    "    \n",
    "e1 = Empleado('Axel', 27)\n",
    "e1.reportar()"
   ]
  },
  {
   "cell_type": "markdown",
   "metadata": {
    "id": "6QgfrlUbQE1v"
   },
   "source": [
    "4. Crear una clase **Alumno** que permita agregar nuevos alumnos con información: CodAlumno, Nombre. Añadir un método AgregarCurso que permita añadir un nuevo curso a una lista que contenga los cursos en donde se encuentra matriculado."
   ]
  },
  {
   "cell_type": "code",
   "execution_count": null,
   "metadata": {
    "colab": {
     "base_uri": "https://localhost:8080/"
    },
    "id": "xhQTyLHWW8Sq",
    "outputId": "d00043f1-4eb2-4de9-e22d-3f57d1213eca"
   },
   "outputs": [
    {
     "name": "stdout",
     "output_type": "stream",
     "text": [
      "Nombre: Valeria \n",
      "Codigo: 23454\n"
     ]
    },
    {
     "data": {
      "text/plain": [
       "['Mate', 'Fisica', 'Estadística']"
      ]
     },
     "execution_count": 54,
     "metadata": {},
     "output_type": "execute_result"
    }
   ],
   "source": [
    "class Alumno():\n",
    "\n",
    "    def __init__(self,ca, nom):\n",
    "        self._codAlumno = ca\n",
    "        self._nombre = nom\n",
    "        self.lista_cursos=[]  #indicamos que es una lista \n",
    "    \n",
    "    def agregar_curso(self,curso):\n",
    "      \n",
    "         self.lista_cursos.append(curso)   #append es un método utilizado en las listas que permite añadir\n",
    "\n",
    "          \n",
    "a1= Alumno(23454,\"Valeria\")   #creamos un objeto y colocamos los parámetros \n",
    "a1.agregar_curso(\"Mate\")    #llamamos al método para agregar cursos\n",
    "a1.agregar_curso(\"Fisica\")\n",
    "a1.agregar_curso(\"Estadística\")\n",
    "print(f'Nombre: {a1._nombre} \\nCódigo: {a1._codAlumno}')  #reportamos el código y nimbre del alumno\n",
    "a1.lista_cursos     #reportamos en forma de lista\n",
    "\n"
   ]
  },
  {
   "cell_type": "code",
   "execution_count": null,
   "metadata": {
    "id": "nrLv0mCQW8Sq"
   },
   "outputs": [],
   "source": []
  }
 ],
 "metadata": {
  "colab": {
   "collapsed_sections": [],
   "provenance": []
  },
  "kernelspec": {
   "display_name": "Python 3 (ipykernel)",
   "language": "python",
   "name": "python3"
  },
  "language_info": {
   "codemirror_mode": {
    "name": "ipython",
    "version": 3
   },
   "file_extension": ".py",
   "mimetype": "text/x-python",
   "name": "python",
   "nbconvert_exporter": "python",
   "pygments_lexer": "ipython3",
   "version": "3.9.12"
  }
 },
 "nbformat": 4,
 "nbformat_minor": 1
}
