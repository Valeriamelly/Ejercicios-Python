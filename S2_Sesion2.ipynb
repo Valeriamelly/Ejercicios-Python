{
 "cells": [
  {
   "cell_type": "markdown",
   "metadata": {
    "colab_type": "text",
    "id": "lEzMFO_nT8BX"
   },
   "source": [
    "### Programación orientada a objetos"
   ]
  },
  {
   "cell_type": "code",
   "execution_count": 3,
   "metadata": {
    "colab": {},
    "colab_type": "code",
    "id": "TW05WHo1vz_7"
   },
   "outputs": [],
   "source": [
    "class Proveedor():\n",
    "\n",
    "  # Atributos por defecto\n",
    "  nombre = 'Juan'\n",
    "  correo = 'juan@gmail.com'"
   ]
  },
  {
   "cell_type": "code",
   "execution_count": 2,
   "metadata": {
    "colab": {},
    "colab_type": "code",
    "id": "cyZJf3tzwEuc"
   },
   "outputs": [],
   "source": [
    "p1 = Proveedor()\n",
    "p2 = Proveedor()"
   ]
  },
  {
   "cell_type": "code",
   "execution_count": 3,
   "metadata": {
    "colab": {
     "base_uri": "https://localhost:8080/",
     "height": 34
    },
    "colab_type": "code",
    "id": "sgb7VOzawK-w",
    "outputId": "cd7f92e8-5824-4d0f-b1bc-443be5119e56"
   },
   "outputs": [
    {
     "data": {
      "text/plain": [
       "__main__.Proveedor"
      ]
     },
     "execution_count": 3,
     "metadata": {
      "tags": []
     },
     "output_type": "execute_result"
    }
   ],
   "source": [
    "type(p1)"
   ]
  },
  {
   "cell_type": "code",
   "execution_count": 4,
   "metadata": {
    "colab": {
     "base_uri": "https://localhost:8080/",
     "height": 35
    },
    "colab_type": "code",
    "id": "YGNWFkeRwQdU",
    "outputId": "e7b5a504-be26-41be-8500-906c83e9c4c1"
   },
   "outputs": [
    {
     "data": {
      "application/vnd.google.colaboratory.intrinsic+json": {
       "type": "string"
      },
      "text/plain": [
       "'juan@gmail.com'"
      ]
     },
     "execution_count": 4,
     "metadata": {
      "tags": []
     },
     "output_type": "execute_result"
    }
   ],
   "source": [
    "p1.correo"
   ]
  },
  {
   "cell_type": "code",
   "execution_count": 5,
   "metadata": {
    "colab": {
     "base_uri": "https://localhost:8080/",
     "height": 35
    },
    "colab_type": "code",
    "id": "E371h8MjwZSH",
    "outputId": "857d65e2-6897-4572-b13b-b7d15cebd5e3"
   },
   "outputs": [
    {
     "data": {
      "application/vnd.google.colaboratory.intrinsic+json": {
       "type": "string"
      },
      "text/plain": [
       "'juan@gmail.com'"
      ]
     },
     "execution_count": 5,
     "metadata": {
      "tags": []
     },
     "output_type": "execute_result"
    }
   ],
   "source": [
    "p2.correo"
   ]
  },
  {
   "cell_type": "code",
   "execution_count": 6,
   "metadata": {
    "colab": {},
    "colab_type": "code",
    "id": "SFpm1hDkwcaN"
   },
   "outputs": [],
   "source": [
    "p2.nombre = 'Maria'\n",
    "p2.correo = 'maria@gmail.com'"
   ]
  },
  {
   "cell_type": "code",
   "execution_count": 7,
   "metadata": {
    "colab": {
     "base_uri": "https://localhost:8080/",
     "height": 34
    },
    "colab_type": "code",
    "id": "aTz07welwjPB",
    "outputId": "c59baa3f-41e7-4d04-b2e7-535f67bdaf38"
   },
   "outputs": [
    {
     "data": {
      "text/plain": [
       "('Maria', 'maria@gmail.com')"
      ]
     },
     "execution_count": 7,
     "metadata": {
      "tags": []
     },
     "output_type": "execute_result"
    }
   ],
   "source": [
    "p2.nombre, p2.correo"
   ]
  },
  {
   "cell_type": "code",
   "execution_count": 8,
   "metadata": {
    "colab": {
     "base_uri": "https://localhost:8080/",
     "height": 34
    },
    "colab_type": "code",
    "id": "Ve3Sz0jlwpu4",
    "outputId": "d14d9863-3646-4bfe-a919-fdbe711baf66"
   },
   "outputs": [
    {
     "data": {
      "text/plain": [
       "('Juan', 'juan@gmail.com')"
      ]
     },
     "execution_count": 8,
     "metadata": {
      "tags": []
     },
     "output_type": "execute_result"
    }
   ],
   "source": [
    "p1.nombre, p1.correo"
   ]
  },
  {
   "cell_type": "code",
   "execution_count": 5,
   "metadata": {
    "colab": {},
    "colab_type": "code",
    "id": "bz1-IxPIxC_t"
   },
   "outputs": [],
   "source": [
    "class Proveedor_new():\n",
    "\n",
    "  # Atributo por defecto\n",
    "  cliente = True\n",
    "\n",
    "  # Inicializador (usado para crear atributos propios)\n",
    "  def __init__(self, nombre, edad):\n",
    "    self.name = nombre\n",
    "    self.age  = edad"
   ]
  },
  {
   "cell_type": "code",
   "execution_count": 6,
   "metadata": {
    "colab": {},
    "colab_type": "code",
    "id": "jA-oRorSx2F9"
   },
   "outputs": [],
   "source": [
    "p3 = Proveedor_new('Axel', 27)\n",
    "p4 = Proveedor_new('Leonardo', 29)"
   ]
  },
  {
   "cell_type": "code",
   "execution_count": 12,
   "metadata": {
    "colab": {
     "base_uri": "https://localhost:8080/",
     "height": 34
    },
    "colab_type": "code",
    "id": "A7Bg5IMo8Wk4",
    "outputId": "d75ec17a-5124-4a22-d524-991479021009"
   },
   "outputs": [
    {
     "data": {
      "text/plain": [
       "27"
      ]
     },
     "execution_count": 12,
     "metadata": {
      "tags": []
     },
     "output_type": "execute_result"
    }
   ],
   "source": [
    "p3.age"
   ]
  },
  {
   "cell_type": "code",
   "execution_count": 13,
   "metadata": {
    "colab": {
     "base_uri": "https://localhost:8080/",
     "height": 34
    },
    "colab_type": "code",
    "id": "HCXNXhMGx5oj",
    "outputId": "623a38ae-4427-412f-e02b-8af26bf30b1d"
   },
   "outputs": [
    {
     "data": {
      "text/plain": [
       "56"
      ]
     },
     "execution_count": 13,
     "metadata": {
      "tags": []
     },
     "output_type": "execute_result"
    }
   ],
   "source": [
    "p3.age + p4.age"
   ]
  },
  {
   "cell_type": "code",
   "execution_count": 14,
   "metadata": {
    "colab": {
     "base_uri": "https://localhost:8080/",
     "height": 34
    },
    "colab_type": "code",
    "id": "z9AYkvp7yUPx",
    "outputId": "a80a4eb5-2565-432f-94e7-522e8a5c6be1"
   },
   "outputs": [
    {
     "data": {
      "text/plain": [
       "(True, True)"
      ]
     },
     "execution_count": 14,
     "metadata": {
      "tags": []
     },
     "output_type": "execute_result"
    }
   ],
   "source": [
    "p3.cliente, p4.cliente"
   ]
  },
  {
   "cell_type": "markdown",
   "metadata": {
    "colab_type": "text",
    "id": "VGDmasQEyvKt"
   },
   "source": [
    "### Ejercicio 1.\n",
    "\n",
    "Crear la clase Auto con sus respectivos métodos de Arranque y Apagado."
   ]
  },
  {
   "cell_type": "code",
   "execution_count": 2,
   "metadata": {
    "colab": {},
    "colab_type": "code",
    "id": "IG65eX8vB2di"
   },
   "outputs": [],
   "source": [
    "class Auto():\n",
    "\n",
    "  #Atributo inicial\n",
    "  categoria = 'SUV'\n",
    "\n",
    "  #Se define el constructor indicando los parámetros que pasarán a convertirse en los atributos del objeto\n",
    "  def __init__(self, ma, mo, pl, en):\n",
    "    self.marca = ma\n",
    "    self.modelo = mo\n",
    "    self.placa = pl\n",
    "    self.encendido = en\n",
    "\n",
    "  #Método arranque, solo self porque es necesario el acceso a los atributos del objeto\n",
    "  def arranque(self):\n",
    "    print('--- Encendiendo el auto ---')\n",
    "    self.encendido = True\n",
    "    print('Auto encendido')\n",
    "\n",
    "  def apagado(self):\n",
    "    print('--- Apagando el auto ---')\n",
    "    self.encendido = False\n",
    "    print('Auto apagado')"
   ]
  },
  {
   "cell_type": "code",
   "execution_count": 3,
   "metadata": {
    "colab": {},
    "colab_type": "code",
    "id": "vKeq--5IuX5X"
   },
   "outputs": [],
   "source": [
    "a1 = Auto('Toyota', 'RAV4', 'BPH-450', False)"
   ]
  },
  {
   "cell_type": "code",
   "execution_count": 4,
   "metadata": {
    "colab": {
     "base_uri": "https://localhost:8080/",
     "height": 34
    },
    "colab_type": "code",
    "id": "FXzgrGayuX7h",
    "outputId": "b617b8ae-b14d-4c2b-c198-71e26061d226"
   },
   "outputs": [
    {
     "data": {
      "text/plain": [
       "__main__.Auto"
      ]
     },
     "execution_count": 4,
     "metadata": {},
     "output_type": "execute_result"
    }
   ],
   "source": [
    "type(a1)"
   ]
  },
  {
   "cell_type": "code",
   "execution_count": 29,
   "metadata": {
    "colab": {
     "base_uri": "https://localhost:8080/",
     "height": 52
    },
    "colab_type": "code",
    "id": "PYLjiFmtumB7",
    "outputId": "6606b0e6-0fde-4fef-ffd7-53754069a2a7"
   },
   "outputs": [
    {
     "name": "stdout",
     "output_type": "stream",
     "text": [
      "--- Encendiendo el auto ---\n",
      "Auto encendido\n"
     ]
    }
   ],
   "source": [
    "a1.arranque()"
   ]
  },
  {
   "cell_type": "code",
   "execution_count": 30,
   "metadata": {
    "colab": {
     "base_uri": "https://localhost:8080/",
     "height": 34
    },
    "colab_type": "code",
    "id": "mvF2hkz7u1n1",
    "outputId": "6ccbac6d-2256-4af5-f192-ab2c5f27510d"
   },
   "outputs": [
    {
     "data": {
      "text/plain": [
       "True"
      ]
     },
     "execution_count": 30,
     "metadata": {
      "tags": []
     },
     "output_type": "execute_result"
    }
   ],
   "source": [
    "a1.encendido"
   ]
  },
  {
   "cell_type": "code",
   "execution_count": 31,
   "metadata": {
    "colab": {
     "base_uri": "https://localhost:8080/",
     "height": 52
    },
    "colab_type": "code",
    "id": "cEC0h_35u1qS",
    "outputId": "1754853f-7da7-4808-9b4c-a35654b1e4e7"
   },
   "outputs": [
    {
     "name": "stdout",
     "output_type": "stream",
     "text": [
      "--- Apagando el auto ---\n",
      "Auto apagado\n"
     ]
    }
   ],
   "source": [
    "a1.apagado()"
   ]
  },
  {
   "cell_type": "code",
   "execution_count": 33,
   "metadata": {
    "colab": {
     "base_uri": "https://localhost:8080/",
     "height": 34
    },
    "colab_type": "code",
    "id": "I0iOehKGv1dS",
    "outputId": "036d8a59-cd8b-424e-d471-8406083655c5"
   },
   "outputs": [
    {
     "data": {
      "text/plain": [
       "False"
      ]
     },
     "execution_count": 33,
     "metadata": {
      "tags": []
     },
     "output_type": "execute_result"
    }
   ],
   "source": [
    "a1.encendido"
   ]
  },
  {
   "cell_type": "markdown",
   "metadata": {
    "colab_type": "text",
    "id": "UseTrwtA4VHa"
   },
   "source": [
    "## Ejercicio 2.\n",
    "\n",
    "Crear la clase Vendedor que permita:\n",
    "\n",
    "- Añadir nuevos vendedores (idVendedor, nombre).\n",
    "- Añadir unidades vendidas.\n",
    "- Calcular el porcentaje de avance (2 decimales) con respecto a su meta (Todos los vendedores tienen una meta de 1450 unidades).\n",
    "      El vendedor Pepe está al 48.52% de avance."
   ]
  },
  {
   "cell_type": "code",
   "execution_count": 50,
   "metadata": {
    "colab": {},
    "colab_type": "code",
    "id": "1uKQ2t3k4_tZ"
   },
   "outputs": [],
   "source": [
    "class Vendedor:\n",
    "\n",
    "  #Definiendo atributos iniciales para todos los objetos creados\n",
    "  meta = 1450\n",
    "  unidades_vendidas = 0\n",
    "\n",
    "  #Constructor que recibe 2 parámetros\n",
    "  def __init__(self, idVendedor, nombre):\n",
    "    self.id = idVendedor\n",
    "    self.name = nombre\n",
    "\n",
    "  #Método para actualizar el valor de las ventas\n",
    "  def ventaNueva(self, unidades):\n",
    "    self.unidades_vendidas = self.unidades_vendidas + unidades\n",
    "\n",
    "  #Método para calcular el avance de ventas del vendedor\n",
    "  def calculaAvance(self):\n",
    "    avance = self.unidades_vendidas / self.meta\n",
    "    print('El vendedor', self.name, 'está al', round(avance*100, 2), '% de avance.')"
   ]
  },
  {
   "cell_type": "code",
   "execution_count": 51,
   "metadata": {
    "colab": {},
    "colab_type": "code",
    "id": "2aoprfsBxoms"
   },
   "outputs": [],
   "source": [
    "v1 = Vendedor('0001', 'Alonso')"
   ]
  },
  {
   "cell_type": "code",
   "execution_count": 52,
   "metadata": {
    "colab": {
     "base_uri": "https://localhost:8080/",
     "height": 34
    },
    "colab_type": "code",
    "id": "_MAcJAX9xuT5",
    "outputId": "40d1008a-912b-4c16-b7f7-deac0e7e7090"
   },
   "outputs": [
    {
     "data": {
      "text/plain": [
       "1450"
      ]
     },
     "execution_count": 52,
     "metadata": {
      "tags": []
     },
     "output_type": "execute_result"
    }
   ],
   "source": [
    "v1.meta"
   ]
  },
  {
   "cell_type": "code",
   "execution_count": 53,
   "metadata": {
    "colab": {
     "base_uri": "https://localhost:8080/",
     "height": 34
    },
    "colab_type": "code",
    "id": "Vd6JYHG2xvvZ",
    "outputId": "72470013-7a4c-4c91-c302-de292adfb972"
   },
   "outputs": [
    {
     "data": {
      "text/plain": [
       "0"
      ]
     },
     "execution_count": 53,
     "metadata": {
      "tags": []
     },
     "output_type": "execute_result"
    }
   ],
   "source": [
    "v1.unidades_vendidas"
   ]
  },
  {
   "cell_type": "code",
   "execution_count": 54,
   "metadata": {
    "colab": {},
    "colab_type": "code",
    "id": "rS40XM45xxEJ"
   },
   "outputs": [],
   "source": [
    "v1.ventaNueva(200)"
   ]
  },
  {
   "cell_type": "code",
   "execution_count": 55,
   "metadata": {
    "colab": {},
    "colab_type": "code",
    "id": "VbH4rt1mx061"
   },
   "outputs": [],
   "source": [
    "v1.ventaNueva(500)"
   ]
  },
  {
   "cell_type": "code",
   "execution_count": 56,
   "metadata": {
    "colab": {
     "base_uri": "https://localhost:8080/",
     "height": 34
    },
    "colab_type": "code",
    "id": "4FGLagLWx3H8",
    "outputId": "a1e4f1c5-8c1c-44a9-c976-8e403f281f93"
   },
   "outputs": [
    {
     "data": {
      "text/plain": [
       "700"
      ]
     },
     "execution_count": 56,
     "metadata": {
      "tags": []
     },
     "output_type": "execute_result"
    }
   ],
   "source": [
    "v1.unidades_vendidas"
   ]
  },
  {
   "cell_type": "code",
   "execution_count": 57,
   "metadata": {
    "colab": {
     "base_uri": "https://localhost:8080/",
     "height": 34
    },
    "colab_type": "code",
    "id": "ggDQxESbx5jJ",
    "outputId": "dc1750eb-8b61-461b-b28d-0bc6cc94bf17"
   },
   "outputs": [
    {
     "name": "stdout",
     "output_type": "stream",
     "text": [
      "El vendedor Alonso está al 48.28 % de avance.\n"
     ]
    }
   ],
   "source": [
    "v1.calculaAvance()"
   ]
  },
  {
   "cell_type": "code",
   "execution_count": 58,
   "metadata": {
    "colab": {},
    "colab_type": "code",
    "id": "3xrOvnrix-kn"
   },
   "outputs": [],
   "source": [
    "v1.ventaNueva(1000)"
   ]
  },
  {
   "cell_type": "code",
   "execution_count": 59,
   "metadata": {
    "colab": {
     "base_uri": "https://localhost:8080/",
     "height": 34
    },
    "colab_type": "code",
    "id": "Zh0nTFnUyLgu",
    "outputId": "80e348a0-b984-4fa5-f8e2-4d9a30bc99fd"
   },
   "outputs": [
    {
     "name": "stdout",
     "output_type": "stream",
     "text": [
      "El vendedor Alonso está al 117.24 % de avance.\n"
     ]
    }
   ],
   "source": [
    "v1.calculaAvance()"
   ]
  },
  {
   "cell_type": "code",
   "execution_count": null,
   "metadata": {
    "colab": {},
    "colab_type": "code",
    "id": "HqSQnnypyM-a"
   },
   "outputs": [],
   "source": []
  }
 ],
 "metadata": {
  "colab": {
   "collapsed_sections": [],
   "name": "Sesión04_FDP_OG5_Clases.ipynb",
   "provenance": []
  },
  "kernelspec": {
   "display_name": "Python 3 (ipykernel)",
   "language": "python",
   "name": "python3"
  },
  "language_info": {
   "codemirror_mode": {
    "name": "ipython",
    "version": 3
   },
   "file_extension": ".py",
   "mimetype": "text/x-python",
   "name": "python",
   "nbconvert_exporter": "python",
   "pygments_lexer": "ipython3",
   "version": "3.9.12"
  }
 },
 "nbformat": 4,
 "nbformat_minor": 1
}
