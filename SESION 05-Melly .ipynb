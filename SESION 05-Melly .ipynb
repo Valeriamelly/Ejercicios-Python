{
 "cells": [
  {
   "cell_type": "markdown",
   "id": "55300b75",
   "metadata": {},
   "source": [
    "# PRÁCTICA SEMANA 05"
   ]
  },
  {
   "cell_type": "markdown",
   "id": "29b7efbd",
   "metadata": {},
   "source": [
    "1.  Crea un objeto ndarray con elementos del 10 al 49. "
   ]
  },
  {
   "cell_type": "code",
   "execution_count": 1,
   "id": "f0980bbe",
   "metadata": {},
   "outputs": [
    {
     "data": {
      "text/plain": [
       "array([10, 11, 12, 13, 14, 15, 16, 17, 18, 19, 20, 21, 22, 23, 24, 25, 26,\n",
       "       27, 28, 29, 30, 31, 32, 33, 34, 35, 36, 37, 38, 39, 40, 41, 42, 43,\n",
       "       44, 45, 46, 47, 48, 49])"
      ]
     },
     "execution_count": 1,
     "metadata": {},
     "output_type": "execute_result"
    }
   ],
   "source": [
    "#importamos la librería numpy\n",
    "#especializada en el cálculo numérico y el análisis de datos\n",
    "\n",
    "import numpy as np\n",
    "n = np.arange(10, 50, 1) #comienza en 10 cuenta hacia arriba de 1 en 1, termina antes de 50\n",
    "n"
   ]
  },
  {
   "cell_type": "markdown",
   "id": "d302dbf7",
   "metadata": {},
   "source": [
    "2.  Cree una matriz bidimensional, use el índice para obtener los datos en la segunda fila, primera columna y tercera fila, segunda columna. "
   ]
  },
  {
   "cell_type": "code",
   "execution_count": 2,
   "id": "97e54b69",
   "metadata": {},
   "outputs": [
    {
     "name": "stdout",
     "output_type": "stream",
     "text": [
      "[[0 1 2 3]\n",
      " [4 5 6 7]\n",
      " [1 2 3 4]]\n",
      "\n",
      "segunda fila, primera columna:  4\n",
      "tercera fila, segunda columna:  2\n"
     ]
    }
   ],
   "source": [
    "#importamos la librería numpy\n",
    "\n",
    "import numpy as np\n",
    "\n",
    "#crear matriz\n",
    "a = np.array([[0,1,2,3],[4,5,6,7],[1,2,3,4]])  \n",
    "\n",
    "b=a[1,0] #se indica la fila y la columna\n",
    "c=a[2,1] #como inicia desde 0, al indicar 3ra fila colocamos: 2 y para 2da columna: 1\n",
    "print(a)\n",
    "print('\\nsegunda fila, primera columna: ', b)\n",
    "print('tercera fila, segunda columna: ', c)"
   ]
  },
  {
   "cell_type": "markdown",
   "id": "11f67a6c",
   "metadata": {},
   "source": [
    "3.  Encontrar los índices que no son ceros del arreglo [1,2,4,2,4,0,1,0,0,0,12,4,5,6,7,0] "
   ]
  },
  {
   "cell_type": "code",
   "execution_count": 3,
   "id": "4dd8f582",
   "metadata": {},
   "outputs": [
    {
     "name": "stdout",
     "output_type": "stream",
     "text": [
      "Array actual:\n",
      "[ 1  0  4  0  5  0  0 12  6  7  5  0  8]\n",
      "\n",
      "Índices que no son ceros del arreglo:\n",
      "[ 0  2  4  7  8  9 10 12]\n"
     ]
    }
   ],
   "source": [
    "#importamos la librería numpy\n",
    "import numpy as np\n",
    "  \n",
    "array = np.array([1, 0, 4, 0, 5, 0, 0, 12, 6, 7, 5, 0, 8]) \n",
    "  \n",
    "print(\"Array actual:\") \n",
    "print(array) \n",
    "  \n",
    "print(\"\\nÍndices que no son ceros del arreglo:\") \n",
    "  \n",
    "result = np.where(array != 0)[0] \n",
    "print(result) "
   ]
  },
  {
   "cell_type": "markdown",
   "id": "8a1c5ad2",
   "metadata": {},
   "source": [
    "4.  Crear una matriz con valores al azar con forma 3x3x3"
   ]
  },
  {
   "cell_type": "code",
   "execution_count": 4,
   "id": "170d03cf",
   "metadata": {},
   "outputs": [
    {
     "data": {
      "text/plain": [
       "array([[[0.8548992 , 0.60767797, 0.85300179],\n",
       "        [0.18364047, 0.27534846, 0.02905958],\n",
       "        [0.12665091, 0.59282931, 0.17522134]],\n",
       "\n",
       "       [[0.50589767, 0.85095801, 0.37646576],\n",
       "        [0.32609648, 0.88554388, 0.54848983],\n",
       "        [0.43312595, 0.41325911, 0.98979186]],\n",
       "\n",
       "       [[0.08501316, 0.72482952, 0.89017131],\n",
       "        [0.26938536, 0.99750389, 0.57086231],\n",
       "        [0.43477204, 0.44432056, 0.27525131]]])"
      ]
     },
     "execution_count": 4,
     "metadata": {},
     "output_type": "execute_result"
    }
   ],
   "source": [
    "#importamos la librería numpy\n",
    "import numpy as np\n",
    "                          #vector aleatorio de elementos uniformes entre 0 y 1\n",
    "x = np.random.rand(3,3,3) #numpy.random.rand() genera un array de forma especificada con valores aleatorios.\n",
    "x"
   ]
  },
  {
   "cell_type": "markdown",
   "id": "b1c9d400",
   "metadata": {},
   "source": [
    "5.  Crea un tablero de ajedrez, con unos en las casillas negras y ceros en las blancas. "
   ]
  },
  {
   "cell_type": "code",
   "execution_count": 9,
   "id": "791e98fe",
   "metadata": {},
   "outputs": [
    {
     "data": {
      "text/plain": [
       "array([[0, 1, 0, 1, 0, 1, 0, 1],\n",
       "       [1, 0, 1, 0, 1, 0, 1, 0],\n",
       "       [0, 1, 0, 1, 0, 1, 0, 1],\n",
       "       [1, 0, 1, 0, 1, 0, 1, 0],\n",
       "       [0, 1, 0, 1, 0, 1, 0, 1],\n",
       "       [1, 0, 1, 0, 1, 0, 1, 0],\n",
       "       [0, 1, 0, 1, 0, 1, 0, 1],\n",
       "       [1, 0, 1, 0, 1, 0, 1, 0]])"
      ]
     },
     "execution_count": 9,
     "metadata": {},
     "output_type": "execute_result"
    }
   ],
   "source": [
    "#importamos la librería numpy\n",
    "import numpy as np\n",
    "\n",
    "casillero = np.array([[0,1],[1, 0]]) #se coloca el 0 como referencia al casillero de las piezas blancas\n",
    "                                    #se coloca el 1 como referencia al casillero de las piezas negras\n",
    "tablero = np.tile(casillero,[4,4]) #Construya una matriz repitiendo \"casillero\" la cantidad de veces dada por el tablero [4,4].\n",
    "tablero"
   ]
  },
  {
   "cell_type": "markdown",
   "id": "a425efd5",
   "metadata": {},
   "source": [
    "6.  Crea una matriz aleatoria 5x5 y halla los valores mínimo y máximo. \n"
   ]
  },
  {
   "cell_type": "code",
   "execution_count": 6,
   "id": "55157b3b",
   "metadata": {},
   "outputs": [
    {
     "name": "stdout",
     "output_type": "stream",
     "text": [
      "[[25 51 45 20 43]\n",
      " [22  6 30 40  8]\n",
      " [39 47  5  8  7]\n",
      " [10  7 21 43 12]\n",
      " [52 24  6 37 49]]\n",
      "\n",
      "El número mínimo es:  5\n",
      "\n",
      "El número mínimo es:  52\n"
     ]
    }
   ],
   "source": [
    "#importamos la librería numpy\n",
    "import numpy as np\n",
    "\n",
    "#numpy.random.rand() genera un array de forma especificada con valores aleatorios.\n",
    "#se coloca el rango 0, 60 y entre paréntesis fila x columna (5,5)\n",
    "z = np.random.randint(0,60,(5,5)) \n",
    "print(z)\n",
    "print(f'\\nEl número mínimo es: ', z.min()) #método para hallar el nro mínimo\n",
    "print(f'\\nEl número mínimo es: ', z.max()) #método para hallar el nro máximo"
   ]
  },
  {
   "cell_type": "markdown",
   "id": "fce6edab",
   "metadata": {},
   "source": [
    "7.  Crea 2 matrices de números enteros aleatorios del orden que desees, pero que sean del mismo orden, y realizar las operaciones de suma, resta, multiplicación escalar y división escalar. "
   ]
  },
  {
   "cell_type": "code",
   "execution_count": 7,
   "id": "e2866255",
   "metadata": {},
   "outputs": [
    {
     "name": "stdout",
     "output_type": "stream",
     "text": [
      "------- MATRIZ A ---------\n",
      "[[43  4]\n",
      " [55 21]]\n",
      "\n",
      "------ MATRIZ B --------\n",
      "[[12 56]\n",
      " [50 37]]\n",
      "\n",
      "----- SUMA --------------\n",
      " [[ 55  60]\n",
      " [105  58]]\n",
      "\n",
      "----- RESTA -------------\n",
      " [[ 31 -52]\n",
      " [  5 -16]]\n",
      "\n",
      "--MULTIPLICACIÓN ESCALAR--\n",
      " [[ 86   8]\n",
      " [110  42]]\n",
      "\n",
      "--MULTIPLICACIÓN ESCALAR--\n",
      " [[ 24 112]\n",
      " [100  74]]\n",
      "\n",
      "-----DIVISIÓN ESCALAR-----\n",
      " [[10.75  1.  ]\n",
      " [13.75  5.25]]\n",
      "\n",
      "-----DIVISIÓN ESCALAR-----\n",
      " [[ 3.   14.  ]\n",
      " [12.5   9.25]]\n"
     ]
    }
   ],
   "source": [
    "#importamos la librería numpy\n",
    "import numpy as np\n",
    "\n",
    "print('------- MATRIZ A ---------')\n",
    "\n",
    "#numpy.random.rand() genera un array de forma especificada con valores aleatorios.\n",
    "\n",
    "#se coloca el rango 0, 60 y entre paréntesis fila x columna\n",
    "a = np.random.randint(0,60, (2, 2))\n",
    "print(a)\n",
    "print('\\n------ MATRIZ B --------')\n",
    "b = np.random.randint(0,60, (2, 2))\n",
    "print(b)\n",
    "\n",
    "print(\"\\n----- SUMA --------------\\n\", a+b) # suma de a y b \n",
    "\n",
    "print(\"\\n----- RESTA -------------\\n\", a-b) # resta de a y b \n",
    "\n",
    "\n",
    "print(\"\\n--MULTIPLICACIÓN ESCALAR--\\n\", a*2) # multiplicación por un escalar\n",
    "print(\"\\n--MULTIPLICACIÓN ESCALAR--\\n\", b*2) \n",
    "\n",
    "print(\"\\n-----DIVISIÓN ESCALAR-----\\n\", a/4) # división por un escalar\n",
    "print(\"\\n-----DIVISIÓN ESCALAR-----\\n\", b/4)\n"
   ]
  },
  {
   "cell_type": "markdown",
   "id": "46998f3c",
   "metadata": {},
   "source": [
    "8.  Crea 2 matrices de números aleatorios, una de orden mxn y otra de nxm (m puede ser igual a n) y realizar las operaciones de multiplicación matricial, y a esa matriz resultado sacar las operaciones determinante e inversa. Haga las mismas operaciones con las matrices transpuestas. "
   ]
  },
  {
   "cell_type": "code",
   "execution_count": 1,
   "id": "3a4f6d32",
   "metadata": {},
   "outputs": [
    {
     "name": "stdout",
     "output_type": "stream",
     "text": [
      "\n",
      "ARRAY 1\n",
      " [[58 46 26]\n",
      " [49 73 91]]\n",
      "\n",
      "ARRAY 2\n",
      " [[ 1 57]\n",
      " [22 17]\n",
      " [85 55]]\n",
      "\n",
      "MULTIPLICACIÓN MATRICIAL\n",
      "\n",
      "[[3280 5518]\n",
      " [9390 9039]]\n",
      "[[3280 5518]\n",
      " [9390 9039]]\n",
      "\n",
      "DETERMINANTE\n",
      " -22166099.999999985\n",
      "\n",
      "INVERSA\n",
      " [[-0.00040778  0.00024894]\n",
      " [ 0.00042362 -0.00014797]]\n"
     ]
    }
   ],
   "source": [
    "#importamos la librería numpy\n",
    "import numpy as np\n",
    "\n",
    "#numpy.random.rand() genera un array de forma especificada con valores aleatorios.\n",
    "#se indica que los numeros sean del 0 hasta 99 y entre paréntesis fila x columna y viceversa\n",
    "\n",
    "array1 = np.random.randint(0,99, (2, 3))\n",
    "array2 = np.random.randint(0,99, (3, 2))\n",
    "\n",
    "print ('\\nARRAY 1\\n', array1)\n",
    "print ('\\nARRAY 2\\n', array2)\n",
    "\n",
    "print(\"\\nMULTIPLICACIÓN MATRICIAL\\n\")\n",
    "multi=np.dot(array1,array2)\n",
    "print(multi) #equivale a array1@array2)\n",
    "\n",
    "#Determinante: sobre matrices cuadradas\n",
    "print(\"\\nDETERMINANTE\\n\", np.linalg.det(multi))\n",
    "\n",
    "#Inversa: sobre matrices cuadradas\n",
    "print(\"\\nINVERSA\\n\",  np.linalg.inv(multi))\n",
    "\n"
   ]
  },
  {
   "cell_type": "code",
   "execution_count": null,
   "id": "4814b0f0",
   "metadata": {},
   "outputs": [],
   "source": []
  }
 ],
 "metadata": {
  "kernelspec": {
   "display_name": "Python 3 (ipykernel)",
   "language": "python",
   "name": "python3"
  },
  "language_info": {
   "codemirror_mode": {
    "name": "ipython",
    "version": 3
   },
   "file_extension": ".py",
   "mimetype": "text/x-python",
   "name": "python",
   "nbconvert_exporter": "python",
   "pygments_lexer": "ipython3",
   "version": "3.9.12"
  }
 },
 "nbformat": 4,
 "nbformat_minor": 5
}
