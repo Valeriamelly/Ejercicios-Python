{
 "cells": [
  {
   "cell_type": "markdown",
   "id": "11807186",
   "metadata": {},
   "source": [
    "# Práctica N°6"
   ]
  },
  {
   "cell_type": "markdown",
   "id": "a42c9064",
   "metadata": {},
   "source": [
    "1. Cargar base de datos de títulos de películas (Titles.csv)"
   ]
  },
  {
   "cell_type": "code",
   "execution_count": 3,
   "id": "5eae3b2a",
   "metadata": {},
   "outputs": [
    {
     "name": "stdout",
     "output_type": "stream",
     "text": [
      "                                        title  year\n",
      "0                                      Mahler  1974\n",
      "1                Ogon, voda i... mednye truby  1968\n",
      "2       Ana Nojoom bent alasherah wamotalagah  2014\n",
      "3                           Malu de Bicicleta  2010\n",
      "4                  Nazareno Apostol: Boy Ahas  1989\n",
      "...                                       ...   ...\n",
      "230402                          El lobo negro  1981\n",
      "230403                   Komu na Rusi zhit...  1989\n",
      "230404                               Senotaji  2013\n",
      "230405                      The Leopard Woman  1920\n",
      "230406                     Mio caro assassino  1972\n",
      "\n",
      "[230407 rows x 2 columns]\n"
     ]
    }
   ],
   "source": [
    "import pandas as pd\n",
    "datos = pd.read_csv('titles.csv')\n",
    "\n",
    "print(datos)"
   ]
  },
  {
   "cell_type": "markdown",
   "id": "e5d0dd16",
   "metadata": {},
   "source": [
    "2. Mostrar los 5 primeros registros"
   ]
  },
  {
   "cell_type": "code",
   "execution_count": 4,
   "id": "0b228e64",
   "metadata": {},
   "outputs": [
    {
     "name": "stdout",
     "output_type": "stream",
     "text": [
      "                                   title  year\n",
      "0                                 Mahler  1974\n",
      "1           Ogon, voda i... mednye truby  1968\n",
      "2  Ana Nojoom bent alasherah wamotalagah  2014\n",
      "3                      Malu de Bicicleta  2010\n",
      "4             Nazareno Apostol: Boy Ahas  1989\n"
     ]
    }
   ],
   "source": [
    " print(datos.head(5))"
   ]
  },
  {
   "cell_type": "markdown",
   "id": "4968b4d4",
   "metadata": {},
   "source": [
    "3. Cargar base de datos de elenco de películas (Cast.csv)"
   ]
  },
  {
   "cell_type": "code",
   "execution_count": 5,
   "id": "eb2143a9",
   "metadata": {},
   "outputs": [
    {
     "name": "stdout",
     "output_type": "stream",
     "text": [
      "                                    title  year                         name  \\\n",
      "0                          Closet Monster  2015                     Buffy #1   \n",
      "1                         Suuri illusioni  1985                       Homo $   \n",
      "2                     Battle of the Sexes  2017                      $hutter   \n",
      "3                    Secret in Their Eyes  2015                      $hutter   \n",
      "4                              Steve Jobs  2015                      $hutter   \n",
      "...                                   ...   ...                          ...   \n",
      "3564645                    Stuttur Frakki  1993    Sveinbj?rg ??rhallsd?ttir   \n",
      "3564646                           Foxtrot  1988            Lilja ??risd?ttir   \n",
      "3564647  Niceland (Population. 1.000.002)  2004    Sigr??ur J?na ??risd?ttir   \n",
      "3564648                      U.S.S.S.S...  2003  Krist?n Andrea ??r?ard?ttir   \n",
      "3564649                 Bye Bye Blue Bird  1999                 Rosa ? R?gvu   \n",
      "\n",
      "            type                character     n  \n",
      "0          actor                  Buffy 4  31.0  \n",
      "1          actor                   Guests  22.0  \n",
      "2          actor          Bobby Riggs Fan  10.0  \n",
      "3          actor          2002 Dodger Fan   NaN  \n",
      "4          actor  1988 Opera House Patron   NaN  \n",
      "...          ...                      ...   ...  \n",
      "3564645  actress               Flugfreyja  24.0  \n",
      "3564646  actress                     D?ra  24.0  \n",
      "3564647  actress             Woman in Bus  26.0  \n",
      "3564648  actress   Afgr.dama ? bens?nst??  17.0  \n",
      "3564649  actress        Pensionatv?rtinde   NaN  \n",
      "\n",
      "[3564650 rows x 6 columns]\n"
     ]
    }
   ],
   "source": [
    "import pandas as pd\n",
    "cs = pd.read_csv('cast.csv')\n",
    "\n",
    "print(cs)"
   ]
  },
  {
   "cell_type": "markdown",
   "id": "3c2d7e43",
   "metadata": {},
   "source": [
    "4. Mostrar los 5 primeros registros"
   ]
  },
  {
   "cell_type": "code",
   "execution_count": 6,
   "id": "089700d4",
   "metadata": {},
   "outputs": [
    {
     "name": "stdout",
     "output_type": "stream",
     "text": [
      "                  title  year      name   type                character     n\n",
      "0        Closet Monster  2015  Buffy #1  actor                  Buffy 4  31.0\n",
      "1       Suuri illusioni  1985    Homo $  actor                   Guests  22.0\n",
      "2   Battle of the Sexes  2017   $hutter  actor          Bobby Riggs Fan  10.0\n",
      "3  Secret in Their Eyes  2015   $hutter  actor          2002 Dodger Fan   NaN\n",
      "4            Steve Jobs  2015   $hutter  actor  1988 Opera House Patron   NaN\n"
     ]
    }
   ],
   "source": [
    "print(cs.head(5))"
   ]
  },
  {
   "cell_type": "markdown",
   "id": "3b7e90e6",
   "metadata": {},
   "source": [
    "5. ¿Cuantas películas están listadas en el dataframe de títulos?"
   ]
  },
  {
   "cell_type": "code",
   "execution_count": 7,
   "id": "f324bf3d",
   "metadata": {},
   "outputs": [
    {
     "data": {
      "text/plain": [
       "3564650"
      ]
     },
     "execution_count": 7,
     "metadata": {},
     "output_type": "execute_result"
    }
   ],
   "source": [
    "len(cs)"
   ]
  },
  {
   "cell_type": "markdown",
   "id": "1ecc8426",
   "metadata": {},
   "source": [
    "6. ¿Cuáles son las películas más antiguas listadas en títulos?"
   ]
  },
  {
   "cell_type": "code",
   "execution_count": null,
   "id": "3804103b",
   "metadata": {},
   "outputs": [],
   "source": [
    "cs.sort_values('year').head()"
   ]
  },
  {
   "cell_type": "markdown",
   "id": "a0291731",
   "metadata": {},
   "source": [
    "7. ¿Cuantas películas están listadas por el nombre “Drácula”?"
   ]
  },
  {
   "cell_type": "code",
   "execution_count": null,
   "id": "9cde45f6",
   "metadata": {},
   "outputs": [],
   "source": [
    "len( cs[cs.title == \"Dracula\"] )"
   ]
  },
  {
   "cell_type": "markdown",
   "id": "84a52a15",
   "metadata": {},
   "source": [
    "8. Títulos más comunes en la historia filmográfica"
   ]
  },
  {
   "cell_type": "code",
   "execution_count": 15,
   "id": "add8befe",
   "metadata": {},
   "outputs": [
    {
     "data": {
      "text/plain": [
       "Around the World in Eighty Days       1299\n",
       "7 cajas                                689\n",
       "Thelma                                 580\n",
       "The Ten Commandments                   532\n",
       "The Eschatrilogy: Book of the Dead     517\n",
       "Catching Faith                         493\n",
       "The Dark Knight Rises                  450\n",
       "Welcome to Essex                       448\n",
       "Stuck on You                           437\n",
       "The Buccaneer                          436\n",
       "Name: title, dtype: int64"
      ]
     },
     "execution_count": 15,
     "metadata": {},
     "output_type": "execute_result"
    }
   ],
   "source": [
    "cs.title.value_counts().head(10)"
   ]
  },
  {
   "cell_type": "markdown",
   "id": "164b8bfe",
   "metadata": {},
   "source": [
    "9. ¿Cuál fue la primera película hecha titulada “Romeo and Juliet”?"
   ]
  },
  {
   "cell_type": "code",
   "execution_count": 16,
   "id": "5f1ea766",
   "metadata": {},
   "outputs": [
    {
     "data": {
      "text/html": [
       "<div>\n",
       "<style scoped>\n",
       "    .dataframe tbody tr th:only-of-type {\n",
       "        vertical-align: middle;\n",
       "    }\n",
       "\n",
       "    .dataframe tbody tr th {\n",
       "        vertical-align: top;\n",
       "    }\n",
       "\n",
       "    .dataframe thead th {\n",
       "        text-align: right;\n",
       "    }\n",
       "</style>\n",
       "<table border=\"1\" class=\"dataframe\">\n",
       "  <thead>\n",
       "    <tr style=\"text-align: right;\">\n",
       "      <th></th>\n",
       "      <th>title</th>\n",
       "      <th>year</th>\n",
       "      <th>name</th>\n",
       "      <th>type</th>\n",
       "      <th>character</th>\n",
       "      <th>n</th>\n",
       "    </tr>\n",
       "  </thead>\n",
       "  <tbody>\n",
       "    <tr>\n",
       "      <th>3001040</th>\n",
       "      <td>Romeo and Juliet</td>\n",
       "      <td>1916</td>\n",
       "      <td>Jane Lee</td>\n",
       "      <td>actress</td>\n",
       "      <td>Page</td>\n",
       "      <td>11.0</td>\n",
       "    </tr>\n",
       "  </tbody>\n",
       "</table>\n",
       "</div>"
      ],
      "text/plain": [
       "                    title  year      name     type character     n\n",
       "3001040  Romeo and Juliet  1916  Jane Lee  actress      Page  11.0"
      ]
     },
     "execution_count": 16,
     "metadata": {},
     "output_type": "execute_result"
    }
   ],
   "source": [
    "cs[cs.title == \"Romeo and Juliet\"].sort_values('year').head(1)"
   ]
  },
  {
   "cell_type": "markdown",
   "id": "e80192dd",
   "metadata": {},
   "source": [
    "10. Listar todaslas películas que contengan la palabra \"Exorcist”, ordenadas de la más vieja a la más reciente."
   ]
  },
  {
   "cell_type": "code",
   "execution_count": 17,
   "id": "c3f5a7cc",
   "metadata": {},
   "outputs": [
    {
     "data": {
      "text/html": [
       "<div>\n",
       "<style scoped>\n",
       "    .dataframe tbody tr th:only-of-type {\n",
       "        vertical-align: middle;\n",
       "    }\n",
       "\n",
       "    .dataframe tbody tr th {\n",
       "        vertical-align: top;\n",
       "    }\n",
       "\n",
       "    .dataframe thead th {\n",
       "        text-align: right;\n",
       "    }\n",
       "</style>\n",
       "<table border=\"1\" class=\"dataframe\">\n",
       "  <thead>\n",
       "    <tr style=\"text-align: right;\">\n",
       "      <th></th>\n",
       "      <th>title</th>\n",
       "      <th>year</th>\n",
       "      <th>name</th>\n",
       "      <th>type</th>\n",
       "      <th>character</th>\n",
       "      <th>n</th>\n",
       "    </tr>\n",
       "  </thead>\n",
       "  <tbody>\n",
       "    <tr>\n",
       "      <th>3532552</th>\n",
       "      <td>The Exorcist</td>\n",
       "      <td>1973</td>\n",
       "      <td>Kitty Winn</td>\n",
       "      <td>actress</td>\n",
       "      <td>Sharon</td>\n",
       "      <td>4.0</td>\n",
       "    </tr>\n",
       "    <tr>\n",
       "      <th>2701361</th>\n",
       "      <td>The Exorcist</td>\n",
       "      <td>1973</td>\n",
       "      <td>Joanne Dusseau</td>\n",
       "      <td>actress</td>\n",
       "      <td>Senator's Wife</td>\n",
       "      <td>NaN</td>\n",
       "    </tr>\n",
       "    <tr>\n",
       "      <th>2678519</th>\n",
       "      <td>The Exorcist</td>\n",
       "      <td>1973</td>\n",
       "      <td>Eileen Dietz</td>\n",
       "      <td>actress</td>\n",
       "      <td>Pazuzu's Face</td>\n",
       "      <td>NaN</td>\n",
       "    </tr>\n",
       "    <tr>\n",
       "      <th>416960</th>\n",
       "      <td>The Exorcist</td>\n",
       "      <td>1973</td>\n",
       "      <td>Lee J. Cobb</td>\n",
       "      <td>actor</td>\n",
       "      <td>Lt. William Kinderman</td>\n",
       "      <td>3.0</td>\n",
       "    </tr>\n",
       "    <tr>\n",
       "      <th>2647084</th>\n",
       "      <td>The Exorcist</td>\n",
       "      <td>1973</td>\n",
       "      <td>Toni Darnay</td>\n",
       "      <td>actress</td>\n",
       "      <td>Violent psychotic patient</td>\n",
       "      <td>NaN</td>\n",
       "    </tr>\n",
       "    <tr>\n",
       "      <th>...</th>\n",
       "      <td>...</td>\n",
       "      <td>...</td>\n",
       "      <td>...</td>\n",
       "      <td>...</td>\n",
       "      <td>...</td>\n",
       "      <td>...</td>\n",
       "    </tr>\n",
       "    <tr>\n",
       "      <th>2892427</th>\n",
       "      <td>Accidental Exorcist</td>\n",
       "      <td>2016</td>\n",
       "      <td>Kelly Iris</td>\n",
       "      <td>actress</td>\n",
       "      <td>Bar Patron</td>\n",
       "      <td>42.0</td>\n",
       "    </tr>\n",
       "    <tr>\n",
       "      <th>2022089</th>\n",
       "      <td>Accidental Exorcist</td>\n",
       "      <td>2016</td>\n",
       "      <td>Mitchell Smigiel</td>\n",
       "      <td>actor</td>\n",
       "      <td>Possessed Photo</td>\n",
       "      <td>53.0</td>\n",
       "    </tr>\n",
       "    <tr>\n",
       "      <th>2022088</th>\n",
       "      <td>Accidental Exorcist</td>\n",
       "      <td>2016</td>\n",
       "      <td>Mitch Smigiel</td>\n",
       "      <td>actor</td>\n",
       "      <td>Hit On 4</td>\n",
       "      <td>24.0</td>\n",
       "    </tr>\n",
       "    <tr>\n",
       "      <th>901684</th>\n",
       "      <td>Accidental Exorcist</td>\n",
       "      <td>2016</td>\n",
       "      <td>James (LXXVII) Harris</td>\n",
       "      <td>actor</td>\n",
       "      <td>2nd Possession</td>\n",
       "      <td>8.0</td>\n",
       "    </tr>\n",
       "    <tr>\n",
       "      <th>948594</th>\n",
       "      <td>Accidental Exorcist</td>\n",
       "      <td>2016</td>\n",
       "      <td>David Higbee</td>\n",
       "      <td>actor</td>\n",
       "      <td>Burgess Belle</td>\n",
       "      <td>4.0</td>\n",
       "    </tr>\n",
       "  </tbody>\n",
       "</table>\n",
       "<p>505 rows × 6 columns</p>\n",
       "</div>"
      ],
      "text/plain": [
       "                       title  year                   name     type  \\\n",
       "3532552         The Exorcist  1973             Kitty Winn  actress   \n",
       "2701361         The Exorcist  1973         Joanne Dusseau  actress   \n",
       "2678519         The Exorcist  1973           Eileen Dietz  actress   \n",
       "416960          The Exorcist  1973            Lee J. Cobb    actor   \n",
       "2647084         The Exorcist  1973            Toni Darnay  actress   \n",
       "...                      ...   ...                    ...      ...   \n",
       "2892427  Accidental Exorcist  2016             Kelly Iris  actress   \n",
       "2022089  Accidental Exorcist  2016       Mitchell Smigiel    actor   \n",
       "2022088  Accidental Exorcist  2016          Mitch Smigiel    actor   \n",
       "901684   Accidental Exorcist  2016  James (LXXVII) Harris    actor   \n",
       "948594   Accidental Exorcist  2016           David Higbee    actor   \n",
       "\n",
       "                         character     n  \n",
       "3532552                     Sharon   4.0  \n",
       "2701361             Senator's Wife   NaN  \n",
       "2678519              Pazuzu's Face   NaN  \n",
       "416960       Lt. William Kinderman   3.0  \n",
       "2647084  Violent psychotic patient   NaN  \n",
       "...                            ...   ...  \n",
       "2892427                 Bar Patron  42.0  \n",
       "2022089            Possessed Photo  53.0  \n",
       "2022088                   Hit On 4  24.0  \n",
       "901684              2nd Possession   8.0  \n",
       "948594               Burgess Belle   4.0  \n",
       "\n",
       "[505 rows x 6 columns]"
      ]
     },
     "execution_count": 17,
     "metadata": {},
     "output_type": "execute_result"
    }
   ],
   "source": [
    "cs[cs.title.str.contains(\"Exorcist\")].sort_values('year')"
   ]
  },
  {
   "cell_type": "markdown",
   "id": "cf40a6b3",
   "metadata": {},
   "source": [
    "11. ¿Cuantas películas fueron hechas en el año 1950?"
   ]
  },
  {
   "cell_type": "code",
   "execution_count": 1,
   "id": "0af5adec",
   "metadata": {},
   "outputs": [
    {
     "ename": "NameError",
     "evalue": "name 'cs' is not defined",
     "output_type": "error",
     "traceback": [
      "\u001b[1;31m---------------------------------------------------------------------------\u001b[0m",
      "\u001b[1;31mNameError\u001b[0m                                 Traceback (most recent call last)",
      "Input \u001b[1;32mIn [1]\u001b[0m, in \u001b[0;36m<cell line: 2>\u001b[1;34m()\u001b[0m\n\u001b[0;32m      1\u001b[0m \u001b[38;5;66;03m# Cuantas peliculas fueron hechas en el año 1950?\u001b[39;00m\n\u001b[1;32m----> 2\u001b[0m \u001b[38;5;28mlen\u001b[39m( \u001b[43mcs\u001b[49m[cs\u001b[38;5;241m.\u001b[39myear \u001b[38;5;241m==\u001b[39m \u001b[38;5;241m1950\u001b[39m] )\n",
      "\u001b[1;31mNameError\u001b[0m: name 'cs' is not defined"
     ]
    }
   ],
   "source": [
    "# Cuantas peliculas fueron hechas en el año 1950?\n",
    "len( cs[cs.year == 1950] )"
   ]
  },
  {
   "cell_type": "markdown",
   "id": "a3c21ed5",
   "metadata": {},
   "source": [
    "12. ¿Cuantas películas fueron hechas de 1950 a 1959?"
   ]
  },
  {
   "cell_type": "code",
   "execution_count": 19,
   "id": "52c7d801",
   "metadata": {},
   "outputs": [
    {
     "data": {
      "text/plain": [
       "210002"
      ]
     },
     "execution_count": 19,
     "metadata": {},
     "output_type": "execute_result"
    }
   ],
   "source": [
    "len( cs[ (cs.year >= 1950) & (cs.year <= 1959) ] )"
   ]
  },
  {
   "cell_type": "markdown",
   "id": "79f96640",
   "metadata": {},
   "source": [
    "13. En que años alguna película llamada \"Batman\" se presento"
   ]
  },
  {
   "cell_type": "code",
   "execution_count": null,
   "id": "85bc21d2",
   "metadata": {},
   "outputs": [],
   "source": [
    "len( cs[ cs.year // 10 == 195] )"
   ]
  },
  {
   "cell_type": "markdown",
   "id": "530e85c0",
   "metadata": {},
   "source": [
    "14. Cuantos roles o papeles hubo en la película \"The Godfather\""
   ]
  },
  {
   "cell_type": "code",
   "execution_count": null,
   "id": "ee32212e",
   "metadata": {},
   "outputs": [],
   "source": [
    "cs[ cs.title == \"Batman\"]"
   ]
  },
  {
   "cell_type": "markdown",
   "id": "79aa48f7",
   "metadata": {},
   "source": [
    "15. Cuantos papeles en la película \"The Godfather\" no están clasificados en algún valor \"n\""
   ]
  },
  {
   "cell_type": "code",
   "execution_count": 20,
   "id": "00a61595",
   "metadata": {},
   "outputs": [
    {
     "data": {
      "text/plain": [
       "76"
      ]
     },
     "execution_count": 20,
     "metadata": {},
     "output_type": "execute_result"
    }
   ],
   "source": [
    "len( cs[cs.title == \"The Godfather\"] )"
   ]
  },
  {
   "cell_type": "markdown",
   "id": "68fa823a",
   "metadata": {},
   "source": [
    "16. Mostrar el elenco completo de la película \"2001: A Space Odyssey\" - ordenado por su clasificación \"n\" - ignorando los papeles que no se les asigno ningún valor \"n\""
   ]
  },
  {
   "cell_type": "code",
   "execution_count": 21,
   "id": "66f0bc98",
   "metadata": {},
   "outputs": [
    {
     "data": {
      "text/plain": [
       "42"
      ]
     },
     "execution_count": 21,
     "metadata": {},
     "output_type": "execute_result"
    }
   ],
   "source": [
    "c = cs[cs.title == \"The Godfather\"]\n",
    "c = c[c.n.isnull()]\n",
    "len( c )\n"
   ]
  },
  {
   "cell_type": "markdown",
   "id": "32a6331e",
   "metadata": {},
   "source": [
    "17. Cuantos papeles de \"Bruce Wayne\" han sido hechos en la historia de las películas"
   ]
  },
  {
   "cell_type": "code",
   "execution_count": null,
   "id": "6523b401",
   "metadata": {},
   "outputs": [],
   "source": [
    "c = cs[cs.title == \"Bruce Wayne\"]\n",
    "c = c[c.n.isnull()]\n",
    "len( c )"
   ]
  },
  {
   "cell_type": "markdown",
   "id": "6bd8b4eb",
   "metadata": {},
   "source": [
    "18. Cuanta gente ha hecho el papel de \"Romeo\""
   ]
  },
  {
   "cell_type": "code",
   "execution_count": null,
   "id": "102b62cd",
   "metadata": {},
   "outputs": [],
   "source": [
    "c = cs[cs.title == \"Romeo\"]\n",
    "c = c[c.n.isnull()]\n",
    "len( c )"
   ]
  },
  {
   "cell_type": "markdown",
   "id": "c02ea01d",
   "metadata": {},
   "source": [
    "19. Cuantos papeles ha hecho \"Robert De Niro\" en su carrera"
   ]
  },
  {
   "cell_type": "code",
   "execution_count": null,
   "id": "d7205faa",
   "metadata": {},
   "outputs": [],
   "source": [
    "c = cs[cs.title == \"Robert De Niro\"]\n",
    "c = c[c.n.isnull()]\n",
    "len( c )"
   ]
  },
  {
   "cell_type": "markdown",
   "id": "3f3cddb1",
   "metadata": {},
   "source": [
    "20. Listado de papeles como protagonista que tuvo el actor \"Charlton Heston\" en la década de los 60's, ordenado por año de forma descendente"
   ]
  },
  {
   "cell_type": "code",
   "execution_count": 24,
   "id": "80121efc",
   "metadata": {},
   "outputs": [
    {
     "data": {
      "text/html": [
       "<div>\n",
       "<style scoped>\n",
       "    .dataframe tbody tr th:only-of-type {\n",
       "        vertical-align: middle;\n",
       "    }\n",
       "\n",
       "    .dataframe tbody tr th {\n",
       "        vertical-align: top;\n",
       "    }\n",
       "\n",
       "    .dataframe thead th {\n",
       "        text-align: right;\n",
       "    }\n",
       "</style>\n",
       "<table border=\"1\" class=\"dataframe\">\n",
       "  <thead>\n",
       "    <tr style=\"text-align: right;\">\n",
       "      <th></th>\n",
       "      <th>title</th>\n",
       "      <th>year</th>\n",
       "      <th>name</th>\n",
       "      <th>type</th>\n",
       "      <th>character</th>\n",
       "      <th>n</th>\n",
       "    </tr>\n",
       "  </thead>\n",
       "  <tbody>\n",
       "    <tr>\n",
       "      <th>944074</th>\n",
       "      <td>Number One</td>\n",
       "      <td>1969</td>\n",
       "      <td>Charlton Heston</td>\n",
       "      <td>actor</td>\n",
       "      <td>Ron 'Cat' Catlan</td>\n",
       "      <td>1.0</td>\n",
       "    </tr>\n",
       "    <tr>\n",
       "      <th>944077</th>\n",
       "      <td>Planet of the Apes</td>\n",
       "      <td>1968</td>\n",
       "      <td>Charlton Heston</td>\n",
       "      <td>actor</td>\n",
       "      <td>George Taylor</td>\n",
       "      <td>1.0</td>\n",
       "    </tr>\n",
       "    <tr>\n",
       "      <th>944050</th>\n",
       "      <td>Counterpoint</td>\n",
       "      <td>1967</td>\n",
       "      <td>Charlton Heston</td>\n",
       "      <td>actor</td>\n",
       "      <td>Lionel Evans</td>\n",
       "      <td>1.0</td>\n",
       "    </tr>\n",
       "    <tr>\n",
       "      <th>944120</th>\n",
       "      <td>Will Penny</td>\n",
       "      <td>1967</td>\n",
       "      <td>Charlton Heston</td>\n",
       "      <td>actor</td>\n",
       "      <td>Will Penny</td>\n",
       "      <td>1.0</td>\n",
       "    </tr>\n",
       "    <tr>\n",
       "      <th>944066</th>\n",
       "      <td>Khartoum</td>\n",
       "      <td>1966</td>\n",
       "      <td>Charlton Heston</td>\n",
       "      <td>actor</td>\n",
       "      <td>Gen. Charles 'Chinese' Gordon</td>\n",
       "      <td>1.0</td>\n",
       "    </tr>\n",
       "    <tr>\n",
       "      <th>944068</th>\n",
       "      <td>Major Dundee</td>\n",
       "      <td>1965</td>\n",
       "      <td>Charlton Heston</td>\n",
       "      <td>actor</td>\n",
       "      <td>Major Amos Charles Dundee</td>\n",
       "      <td>1.0</td>\n",
       "    </tr>\n",
       "    <tr>\n",
       "      <th>944085</th>\n",
       "      <td>The Agony and the Ecstasy</td>\n",
       "      <td>1965</td>\n",
       "      <td>Charlton Heston</td>\n",
       "      <td>actor</td>\n",
       "      <td>Michelangelo</td>\n",
       "      <td>1.0</td>\n",
       "    </tr>\n",
       "    <tr>\n",
       "      <th>944111</th>\n",
       "      <td>The War Lord</td>\n",
       "      <td>1965</td>\n",
       "      <td>Charlton Heston</td>\n",
       "      <td>actor</td>\n",
       "      <td>Chrysagon</td>\n",
       "      <td>1.0</td>\n",
       "    </tr>\n",
       "    <tr>\n",
       "      <th>944038</th>\n",
       "      <td>55 Days at Peking</td>\n",
       "      <td>1963</td>\n",
       "      <td>Charlton Heston</td>\n",
       "      <td>actor</td>\n",
       "      <td>Maj. Matt Lewis</td>\n",
       "      <td>1.0</td>\n",
       "    </tr>\n",
       "    <tr>\n",
       "      <th>944052</th>\n",
       "      <td>Diamond Head</td>\n",
       "      <td>1962</td>\n",
       "      <td>Charlton Heston</td>\n",
       "      <td>actor</td>\n",
       "      <td>Richard 'King' Howland</td>\n",
       "      <td>1.0</td>\n",
       "    </tr>\n",
       "    <tr>\n",
       "      <th>944101</th>\n",
       "      <td>The Pigeon That Took Rome</td>\n",
       "      <td>1962</td>\n",
       "      <td>Charlton Heston</td>\n",
       "      <td>actor</td>\n",
       "      <td>Captain Paul MacDougall</td>\n",
       "      <td>1.0</td>\n",
       "    </tr>\n",
       "    <tr>\n",
       "      <th>944102</th>\n",
       "      <td>The Pigeon That Took Rome</td>\n",
       "      <td>1962</td>\n",
       "      <td>Charlton Heston</td>\n",
       "      <td>actor</td>\n",
       "      <td>Benny the Snatch</td>\n",
       "      <td>1.0</td>\n",
       "    </tr>\n",
       "    <tr>\n",
       "      <th>944103</th>\n",
       "      <td>The Pigeon That Took Rome</td>\n",
       "      <td>1962</td>\n",
       "      <td>Charlton Heston</td>\n",
       "      <td>actor</td>\n",
       "      <td>Narrator</td>\n",
       "      <td>1.0</td>\n",
       "    </tr>\n",
       "    <tr>\n",
       "      <th>944054</th>\n",
       "      <td>El Cid</td>\n",
       "      <td>1961</td>\n",
       "      <td>Charlton Heston</td>\n",
       "      <td>actor</td>\n",
       "      <td>El Cid Rodrigo de Vivar</td>\n",
       "      <td>1.0</td>\n",
       "    </tr>\n",
       "  </tbody>\n",
       "</table>\n",
       "</div>"
      ],
      "text/plain": [
       "                            title  year             name   type  \\\n",
       "944074                 Number One  1969  Charlton Heston  actor   \n",
       "944077         Planet of the Apes  1968  Charlton Heston  actor   \n",
       "944050               Counterpoint  1967  Charlton Heston  actor   \n",
       "944120                 Will Penny  1967  Charlton Heston  actor   \n",
       "944066                   Khartoum  1966  Charlton Heston  actor   \n",
       "944068               Major Dundee  1965  Charlton Heston  actor   \n",
       "944085  The Agony and the Ecstasy  1965  Charlton Heston  actor   \n",
       "944111               The War Lord  1965  Charlton Heston  actor   \n",
       "944038          55 Days at Peking  1963  Charlton Heston  actor   \n",
       "944052               Diamond Head  1962  Charlton Heston  actor   \n",
       "944101  The Pigeon That Took Rome  1962  Charlton Heston  actor   \n",
       "944102  The Pigeon That Took Rome  1962  Charlton Heston  actor   \n",
       "944103  The Pigeon That Took Rome  1962  Charlton Heston  actor   \n",
       "944054                     El Cid  1961  Charlton Heston  actor   \n",
       "\n",
       "                            character    n  \n",
       "944074               Ron 'Cat' Catlan  1.0  \n",
       "944077                  George Taylor  1.0  \n",
       "944050                   Lionel Evans  1.0  \n",
       "944120                     Will Penny  1.0  \n",
       "944066  Gen. Charles 'Chinese' Gordon  1.0  \n",
       "944068      Major Amos Charles Dundee  1.0  \n",
       "944085                   Michelangelo  1.0  \n",
       "944111                      Chrysagon  1.0  \n",
       "944038                Maj. Matt Lewis  1.0  \n",
       "944052         Richard 'King' Howland  1.0  \n",
       "944101        Captain Paul MacDougall  1.0  \n",
       "944102               Benny the Snatch  1.0  \n",
       "944103                       Narrator  1.0  \n",
       "944054        El Cid Rodrigo de Vivar  1.0  "
      ]
     },
     "execution_count": 24,
     "metadata": {},
     "output_type": "execute_result"
    }
   ],
   "source": [
    "c = cs[cs.name == \"Charlton Heston\"]\n",
    "c = c[c.name == \"Charlton Heston\"]\n",
    "c = c[c.n == 1]\n",
    "c = c[c.year // 10 == 196]\n",
    "c = c.sort_values('year',ascending=False)\n",
    "c"
   ]
  },
  {
   "cell_type": "code",
   "execution_count": 27,
   "id": "9b5621d1",
   "metadata": {},
   "outputs": [
    {
     "data": {
      "text/plain": [
       "14"
      ]
     },
     "execution_count": 27,
     "metadata": {},
     "output_type": "execute_result"
    }
   ],
   "source": []
  },
  {
   "cell_type": "code",
   "execution_count": null,
   "id": "3ac1a03c",
   "metadata": {},
   "outputs": [],
   "source": []
  }
 ],
 "metadata": {
  "kernelspec": {
   "display_name": "Python 3 (ipykernel)",
   "language": "python",
   "name": "python3"
  },
  "language_info": {
   "codemirror_mode": {
    "name": "ipython",
    "version": 3
   },
   "file_extension": ".py",
   "mimetype": "text/x-python",
   "name": "python",
   "nbconvert_exporter": "python",
   "pygments_lexer": "ipython3",
   "version": "3.9.12"
  }
 },
 "nbformat": 4,
 "nbformat_minor": 5
}
