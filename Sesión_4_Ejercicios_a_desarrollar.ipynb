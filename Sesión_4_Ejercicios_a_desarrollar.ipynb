{
 "cells": [
  {
   "cell_type": "markdown",
   "metadata": {
    "id": "sjx-cCS2qjXB"
   },
   "source": [
    "# Sesión 01: Ejercicios Propuestos\n"
   ]
  },
  {
   "cell_type": "markdown",
   "metadata": {
    "id": "cpR7s8REs02y"
   },
   "source": [
    "### Parte 1: ***Introducción***"
   ]
  },
  {
   "cell_type": "markdown",
   "metadata": {
    "id": "DaOmYibHqjXD"
   },
   "source": [
    "**Ejercicio 1**\n",
    "\n",
    "Identifica el tipo de dato (int, float, string o list) de los siguientes valores literales\n",
    "```python\n",
    "\"Hola Mundo\" \n",
    "[1, 10, 100]\n",
    "-25          \n",
    "1.167       \n",
    "[\"Hola\", \"Mundo\"]  \n",
    "' '        \n",
    "```"
   ]
  },
  {
   "cell_type": "code",
   "execution_count": null,
   "metadata": {
    "id": "5D4qeQ-XZ7AB",
    "outputId": "6354cca9-27cb-4da8-b60e-3cc51fdaa8b3"
   },
   "outputs": [
    {
     "name": "stdout",
     "output_type": "stream",
     "text": [
      "<class 'str'>\n",
      "<class 'list'>\n",
      "<class 'int'>\n",
      "<class 'float'>\n",
      "<class 'list'>\n",
      "<class 'str'>\n"
     ]
    }
   ],
   "source": [
    "print(type(\"hola mundo\")) ##imprimimos el tipo de datos con type\n",
    "print(type([1, 10, 100]))\n",
    "print(type(-25))\n",
    "print(type(1.167))\n",
    "print(type([\"Hola\", \"Mundo\"]))\n",
    "print(type(' '))\n",
    "\n"
   ]
  },
  {
   "cell_type": "markdown",
   "metadata": {
    "id": "akzb7slBqjXE"
   },
   "source": [
    "**Ejercicio 2**\n",
    "\n",
    "Determina el resultado de las siguientes operaciones a partir de las siguientes variables:\n",
    "```python\n",
    "a = 10\n",
    "b = -5\n",
    "c = \"Hola \"\n",
    "d = [1, 2, 3]\n",
    "```\n",
    "```python\n",
    "print(a * 5)  \n",
    "print(a - b)    \n",
    "print(c + \"Mundo\")   \n",
    "print(c * 2)        \n",
    "print(c[-1])        \n",
    "print(c[1:])    \n",
    "print(d + d)       \n",
    "```"
   ]
  },
  {
   "cell_type": "code",
   "execution_count": null,
   "metadata": {
    "id": "qKMddLdhZ7AC",
    "outputId": "f87474ef-e613-4319-ca9d-f9135b0dcadc"
   },
   "outputs": [
    {
     "name": "stdout",
     "output_type": "stream",
     "text": [
      "50\n",
      "15\n",
      "Hola Mundo\n",
      "Hola Hola \n",
      " \n",
      "ola \n",
      "[1, 2, 3, 1, 2, 3]\n"
     ]
    }
   ],
   "source": [
    "a = 10\n",
    "b = -5\n",
    "c = \"Hola \"\n",
    "d = [1, 2, 3]\n",
    "\n",
    "print(a * 5)        #operación de multiplicación\n",
    "print(a - b)        #operación de resta\n",
    "print(c + \"Mundo\")  #concatena\n",
    "print(c * 2)        #como es un str repite la palabra 2 veces\n",
    "print(c[-1])        #imprime el último valor (leemos de izquierda a derecha)\n",
    "print(c[1:])        #leemos de derecha a izquierda y se imprime a partir de la siguiente posición \n",
    "print(d + d)        #concantena"
   ]
  },
  {
   "cell_type": "markdown",
   "metadata": {
    "id": "K_LeCj1jqjXG"
   },
   "source": [
    "**Ejercicio 3** \n",
    "\n",
    "El siguiente código pretende realizar una media entre 3 números, pero no funciona correctamente. ¿Eres capaz de identificar el problema y solucionarlo?"
   ]
  },
  {
   "cell_type": "code",
   "execution_count": null,
   "metadata": {
    "id": "vfgXwZGqqjXH",
    "outputId": "b2379ee6-b50c-4313-99e4-260c8ed056a8"
   },
   "outputs": [
    {
     "name": "stdout",
     "output_type": "stream",
     "text": [
      "La nota media es 6.0\n"
     ]
    }
   ],
   "source": [
    "numero_1 = 9\n",
    "numero_2 = 3\n",
    "numero_3 = 6\n",
    "\n",
    "#faltaba especificar los paréntesis para indicar la operación de la suma de los números\n",
    "media = (numero_1 + numero_2 + numero_3) / 3 \n",
    "print(\"La nota media es\", media)"
   ]
  },
  {
   "cell_type": "markdown",
   "metadata": {
    "id": "av1VTorKqjXM"
   },
   "source": [
    "**Ejercicio 4** \n",
    "\n",
    "A partir del ejercicio anterior, vamos a suponer que cada número es una nota, y lo que queremos es obtener la nota final teniendo en cuenta que cada nota tiene un valor porcentual:\n",
    "\n",
    "* La primera nota vale un 15% del total\n",
    "* La segunda nota vale un 35% del total\n",
    "* La tercera nota vale un 50% del total\n",
    "\n",
    "**Desarrolla un código para calcular correctamente la nota final.**"
   ]
  },
  {
   "cell_type": "code",
   "execution_count": 5,
   "metadata": {
    "id": "kor5WLcUqjXM",
    "outputId": "4f3a14de-583a-4153-c73e-826ea7617e59"
   },
   "outputs": [
    {
     "name": "stdout",
     "output_type": "stream",
     "text": [
      "La nota final es:  12.6\n"
     ]
    }
   ],
   "source": [
    "nota_1 = 18*0.15 #colocamos directamente el porcentaje de cada nota\n",
    "nota_2 = 14*0.35\n",
    "nota_3 = 10*0.50\n",
    "\n",
    "media = (nota_1 + nota_2 + nota_3) #realizamos la suma de las notas \n",
    "print(\"La nota final es: \", media)"
   ]
  },
  {
   "cell_type": "markdown",
   "metadata": {
    "id": "iOLWYqCkZ7AF"
   },
   "source": [
    "**Ejercicio 5**\n",
    "\n",
    "Calcular la siguiente operación 11111111...111111111 + 222222222....22222222 * 3333333...33333333. No escriba los números (los números tienen 25 digitos)"
   ]
  },
  {
   "cell_type": "code",
   "execution_count": null,
   "metadata": {
    "id": "SwYDwRlDZ7AG",
    "outputId": "a29ffb56-4160-4604-ea0d-b97906e1b0ad"
   },
   "outputs": [
    {
     "name": "stdout",
     "output_type": "stream",
     "text": [
      "El resultado es 7407407407407407407407407037037037037037037037037\n"
     ]
    }
   ],
   "source": [
    "# colocamos el nro y lo multiplicamos por n veces\n",
    "# al ser un string lo convertimos a int (valor numérico) e imprimimos el resultado\n",
    "print('El resultado es', int(('1')*25)+int(('2')*25)*int(('3')*25))"
   ]
  },
  {
   "cell_type": "markdown",
   "metadata": {
    "id": "EkZgXYPhqjXP"
   },
   "source": [
    "**Ejercicio 6**\n",
    "\n",
    "Solicitar por pantalla la cantidad de segundos a procesar y escribir su representación en horas, minutos y segundos, por ejemplo:\n",
    "\n",
    "- Ingrese los segundos: 140\n",
    "\n",
    "- 140 segundos equivalen a 0 horas, 2 minutos y 20 segundos."
   ]
  },
  {
   "cell_type": "code",
   "execution_count": 1,
   "metadata": {},
   "outputs": [
    {
     "name": "stdout",
     "output_type": "stream",
     "text": [
      "Inserte n° de segundos: 140\n",
      "0 horas 2 minuto(s) 20 segundo(s)\n",
      "Desea continuar? S / N :s\n",
      "Inserte n° de segundos: 140\n",
      "0 horas 2 minuto(s) 20 segundo(s)\n",
      "Desea continuar? S / N :n\n",
      "FINALIZADO\n"
     ]
    }
   ],
   "source": [
    "#colocamos un while para indicar que el código se repita cuando la respuesta sea \"si\"\n",
    "while True:\n",
    "    seg = int(input(\"Inserte n° de segundos: \"))\n",
    "    if seg > 0: \n",
    "        cantHoras = seg // 3600 #dividimos la cant de seg entre la cantidad que equicale 1h=3600s\n",
    "        cantMin = (seg%3600)//60 #el residuo de la división lo volvemos a dividir entre 60 porque 1min = 60s\n",
    "        cantSeg = (seg%60) #obtenemos los segundos mediane el residuo \n",
    "        \n",
    "        print(str(cantHoras) +\" horas \" + str(cantMin) + \" minuto(s) \"+ str(cantSeg) + \" segundo(s)\") #convertimos a str\n",
    "       \n",
    "    else:\n",
    "        print('Ingrese nro positivo')\n",
    "\n",
    "    continuar = input('Desea continuar? S / N :')\n",
    "\n",
    "    if continuar.lower() in \"s si y yes\": #se pasa a minusculas la respuesta \n",
    "        continue\n",
    "\n",
    "    else:\n",
    "        print('FINALIZADO')\n",
    "        break #colocamos break para evitar un bucle infinito"
   ]
  },
  {
   "cell_type": "markdown",
   "metadata": {
    "id": "AxZUDmYyZ7AH"
   },
   "source": [
    "**Ejercicio 7**\n",
    "\n",
    "Convierte a constantes de fecha y hora los siguientes formatos de fecha:\n",
    "<br>'18/02/2019'\n",
    "<br>'01/31/2000 12:00:00AM'\n"
   ]
  },
  {
   "cell_type": "code",
   "execution_count": 9,
   "metadata": {
    "id": "QXD-5tsuZ7AH",
    "outputId": "992325d6-817c-4aca-ff43-57c938847631",
    "scrolled": true
   },
   "outputs": [
    {
     "name": "stdout",
     "output_type": "stream",
     "text": [
      "La fecha es:  18-02-2019\n"
     ]
    }
   ],
   "source": [
    "#hemos importado el módulo de fecha y hora usando import datetime\n",
    "import datetime\n",
    "#Puede instanciar objetos date de la clase date. Un objeto de fecha representa una fecha (año, mes y día).\n",
    "f = datetime.date(2019, 2, 18) \n",
    "print('La fecha es: ', f.strftime(\"%d-%m-%Y\")) #indicamos imprimir únicamente la fecha (sin la hora) "
   ]
  },
  {
   "cell_type": "code",
   "execution_count": 5,
   "metadata": {},
   "outputs": [
    {
     "name": "stdout",
     "output_type": "stream",
     "text": [
      "01-31-2000 00:00:12\n"
     ]
    }
   ],
   "source": [
    "#hemos importado el módulo de fecha y hora usando import datetime\n",
    "from datetime import datetime\n",
    "\n",
    "#strptime crea un objeto de fecha y hora a partir de la cadena dada\n",
    "d = datetime.strptime(\"31-01-2000 12:00:00\", \"%d-%m-%Y %H:%M:%S\")\n",
    "\n",
    "#strftime, pasamos una cadena de texto, para controlar la representación en cadena de la fecha.\n",
    "print(d.strftime(\"%m-%d-%Y %H:%M:%S\")) "
   ]
  },
  {
   "cell_type": "code",
   "execution_count": 68,
   "metadata": {},
   "outputs": [
    {
     "name": "stdout",
     "output_type": "stream",
     "text": [
      "Fecha:  1 / 31 / 2000 12:00:00 AM\n"
     ]
    }
   ],
   "source": [
    "#Otra forma\n",
    "from datetime import datetime\n",
    "\n",
    "fecha = datetime(2000, 1, 31) # Asigna año, mes, día\n",
    "hora1 = time(12, 0, 0)  # Asigna 12h 0m 0s\n",
    "print('Fecha: ', fecha.month, '/',fecha.day,'/',fecha.year, hora1,'AM') #imprimimos en orden"
   ]
  },
  {
   "cell_type": "markdown",
   "metadata": {
    "id": "PPYz7T6OZ7AI"
   },
   "source": [
    "**Ejercicio 8** \n",
    "\n",
    "Averigua qué fecha es 10,000 días después de tu cumpleaños:**"
   ]
  },
  {
   "cell_type": "code",
   "execution_count": 94,
   "metadata": {},
   "outputs": [
    {
     "name": "stdout",
     "output_type": "stream",
     "text": [
      "Ingrese año: 2002\n",
      "Ingrese mes: 10\n",
      "Ingrese día: 24\n",
      "La fecha después de 10000 días es:  2030-03-11\n"
     ]
    }
   ],
   "source": [
    "#hemos importado el módulo de fecha y hora usando import datetime\n",
    "import datetime    \n",
    "#Validamos la fecha, mes, y día\n",
    "years = int(input('Ingrese año: '))\n",
    "while years <= 0:\n",
    "    years = int(input('Ingrese año: '))\n",
    "month = int(input('Ingrese mes: '))\n",
    "while month <=0 or month > 12:\n",
    "    month = int(input('Ingrese mes: '))\n",
    "day = int(input('Ingrese día: '))\n",
    "while day < 0 or day > 31:\n",
    "    day = int(input('Ingrese día: '))\n",
    "#El método de instancia date() de la clase datetime de python devuelve una instancia de fecha\n",
    "date = datetime.date(int(years), int(month), int(day)) #convertimos de str a int\n",
    "date_10000 = date+datetime.timedelta(days=10000) #timedelta se utiliza para calcular las diferencias en las fechas \n",
    "\n",
    "print('La fecha después de 10000 días es: ', date_10000)"
   ]
  },
  {
   "cell_type": "markdown",
   "metadata": {
    "id": "dIUD0Y8PZ7AI"
   },
   "source": [
    "### Parte 2: ***Operaciones con Strings***"
   ]
  },
  {
   "cell_type": "markdown",
   "metadata": {
    "id": "4ujI4K5NZ7AI"
   },
   "source": [
    "**Ejercicio 1**\n",
    "\n",
    "Dado el siguiente texto, limpiar todo signo de interrogación y puntuación. Finalmente convertir a minúscula y mostrarlo en pantalla. Además de ello mencione el largo de la cadena de caracteres."
   ]
  },
  {
   "cell_type": "code",
   "execution_count": 13,
   "metadata": {
    "id": "AG9mVyFVZ7AI"
   },
   "outputs": [],
   "source": [
    "t = '¿En dónde trabajas?, ¿CUÁNTA EXPERIENCIA TIENES?, ¿Por qué has tenido 5 trabajos en solo 2 años?.'"
   ]
  },
  {
   "cell_type": "code",
   "execution_count": 15,
   "metadata": {
    "id": "oHwmqn0HZ7AJ",
    "outputId": "351543c2-b054-417e-b6d7-e110fa700f3f"
   },
   "outputs": [
    {
     "name": "stdout",
     "output_type": "stream",
     "text": [
      "en dónde trabajas cuánta experiencia tienes por qué has tenido 5 trabajos en solo 2 años\n",
      "Longitud de palabras:  88\n"
     ]
    }
   ],
   "source": [
    "#expresión regular, es una secuencia de caracteres que forma un patrón de búsqueda.\n",
    "\n",
    "import re\n",
    "\n",
    "#la función sub reemplaza una o varias coincidencias con una cadena\n",
    "\n",
    "#[^\\w\\s] --> captura todo lo que no es una palabra o un espacio en blanco (puntuaciones) y lo reemplaza con una cadena vacía.\n",
    "\n",
    "#\\s--> Devuelve una coincidencia en la que la cadena contiene un carácter de espacio en blanco.\n",
    "\n",
    "#\\w-->Devuelve una coincidencia en la que la cadena contiene caracteres de palabra\n",
    "\n",
    "#^--> selecciona lo opuesto (es decir, cualquier cosa que no sea una palabra o un espacio en blanco)\n",
    "\n",
    "out = re.sub(r'[^\\w\\s]','',t)\n",
    "\n",
    "print(out.lower()) #convertimos a minúsculas\n",
    "print('Longitud de palabras: ',len(out)) #con el método len evaluamos la longitud de la cadena de caracteres\n"
   ]
  },
  {
   "cell_type": "markdown",
   "metadata": {
    "id": "AGSreCAwqjXS"
   },
   "source": [
    "**Ejercicio 2** \n",
    "\n",
    "Al realizar una consulta en un registro hemos obtenido una cadena de texto corrupta al revés. \n",
    "Al parecer contiene el nombre de un alumno y la nota de un exámen. \n",
    "¿Cómo podríamos formatear la cadena y conseguir una estructura como la siguiente?:\n",
    "\n",
    "* ***Nombre*** ***Apellido*** ha sacado un ***Nota*** de nota.\n",
    "\n",
    "*Ayuda: Para voltear una cadena rápidamente utilizando slicing podemos utilizar un tercer índice -1: cadena[::-1]*"
   ]
  },
  {
   "cell_type": "code",
   "execution_count": null,
   "metadata": {
    "id": "RF2w29KzqjXT",
    "outputId": "286560ca-e3b2-47c4-e2a8-53e37f2f28b7"
   },
   "outputs": [
    {
     "name": "stdout",
     "output_type": "stream",
     "text": [
      "Pepe Pérez ha sacado un 18 de nota\n"
     ]
    }
   ],
   "source": [
    "cadena = \"zeréP epeP,81\"\n",
    "#invertimos la cadena \n",
    "texto = cadena[::-1]\n",
    "#seleccionamos el rango de la cadena que se imprimirá\n",
    "print(texto[3:13], 'ha sacado un', texto[0:2],'de nota')\n"
   ]
  },
  {
   "cell_type": "markdown",
   "metadata": {
    "id": "whCtFTmpZ7AK"
   },
   "source": [
    "**Ejercicio 3**\n",
    "\n",
    "Escribe algunas líneas de código para obtener el reverso de la cadena 'ABCDE'"
   ]
  },
  {
   "cell_type": "code",
   "execution_count": null,
   "metadata": {
    "id": "E5UTpagNZ7AK",
    "outputId": "d4b91a4b-9536-476d-cc62-86fc52daab8a"
   },
   "outputs": [
    {
     "name": "stdout",
     "output_type": "stream",
     "text": [
      "EDCBA\n"
     ]
    }
   ],
   "source": [
    "#invertimos la cadena \n",
    "palabra = 'ABCDE'\n",
    "\n",
    "print(palabra[::-1])"
   ]
  },
  {
   "cell_type": "markdown",
   "metadata": {
    "id": "hbXYgeh7Z7AK"
   },
   "source": [
    "**Ejercicio 4**\n",
    "\n",
    "Ejecute el siguiente código y diga con sus palabras que es lo que hace. Ingrese su respuesta como un comentario en el código."
   ]
  },
  {
   "cell_type": "code",
   "execution_count": 16,
   "metadata": {
    "id": "zXE1tmI9Z7AK",
    "outputId": "0512fb1d-9b24-4eac-92e3-27ea1ac2cea7"
   },
   "outputs": [
    {
     "data": {
      "text/plain": [
       "'urso_Py'"
      ]
     },
     "execution_count": 16,
     "metadata": {},
     "output_type": "execute_result"
    }
   ],
   "source": [
    "str_ex2=\"Curso_Py\"\n",
    "str_ex2[str_ex2.index(\"_\")-4:]  #imprime a partir de la posición que está después del signo (\"_\")\n",
    "                                #por ejemplo, si colocamos -4 imprimirá: 'urso_Py' \n",
    "                                #leemos de izquierda a derecha y se contará  después de la posición del símbolo \"_\" \n",
    "                                "
   ]
  },
  {
   "cell_type": "markdown",
   "metadata": {
    "id": "FVsjwUq6Z7AK"
   },
   "source": [
    "### Parte 3: ***Estructuras de control***"
   ]
  },
  {
   "cell_type": "markdown",
   "metadata": {
    "id": "XiXEWzeZZ7AK"
   },
   "source": [
    "**Ejercicio 1**\n",
    "\n",
    "Escribe código que solicite por pantalla la longitud de los lados de un triángulo y luego imprima si es equilatero, escaleno o isósceles. Si se ingresa un valor que no sea un número, que salga un mensaje de error."
   ]
  },
  {
   "cell_type": "code",
   "execution_count": 6,
   "metadata": {},
   "outputs": [
    {
     "name": "stdout",
     "output_type": "stream",
     "text": [
      "Introduzca el Valor Numerico del Lado a:3\n",
      "Introduzca el Valor Numerico del Lado b:3\n",
      "Introduzca el Valor Numerico del Lado c:4\n",
      "\n",
      "El Triangulo es Isoceles\n",
      "Desea continuar? S / N :s\n",
      "Introduzca el Valor Numerico del Lado a:5\n",
      "Introduzca el Valor Numerico del Lado b:6\n",
      "Introduzca el Valor Numerico del Lado c:7\n",
      "\n",
      "El Triangulo es Escaleno\n",
      "Desea continuar? S / N :s\n",
      "Introduzca el Valor Numerico del Lado a:8\n",
      "Introduzca el Valor Numerico del Lado b:8\n",
      "Introduzca el Valor Numerico del Lado c:8\n",
      "\n",
      "El Triangulo es Equilátero\n",
      "Desea continuar? S / N :n\n",
      "FINALIZADO\n"
     ]
    }
   ],
   "source": [
    "while True:\n",
    "    while True:\n",
    "        na = input(\"Introduzca el Valor Numerico del Lado a:\")\n",
    "        nb = input(\"Introduzca el Valor Numerico del Lado b:\")\n",
    "        nc = input(\"Introduzca el Valor Numerico del Lado c:\")\n",
    "        \n",
    "        #El try permite probar un bloque de código en busca de errores.\n",
    "        \n",
    "        try:\n",
    "              a = int(na)\n",
    "              b = int(nb)\n",
    "              c = int(nc)\n",
    "\n",
    "              if(a==b and b==c):\n",
    "                print(\"\\nEl Triangulo es Equilátero\")\n",
    "              elif(a==b or a==c or b==c):\n",
    "                  print(\"\\nEl Triangulo es Isoceles\")\n",
    "              elif (a!=b or a!=c or b!=c):\n",
    "                  print(\"\\nEl Triangulo es Escaleno\")\n",
    "              break #colocaos break para que termine el programa de ejecutarse\n",
    "            \n",
    "        #El except permite manejar el error.\n",
    "        except:\n",
    "            print(\"ATENCIÓN: Debe ingresar un número entero.\")\n",
    "           \n",
    "\n",
    "    continuar = input('Desea continuar? S / N :')\n",
    "\n",
    "    if continuar.lower() in \"s si y yes\": #se pasa a minusculas la respuesta \n",
    "        continue\n",
    "\n",
    "    else:\n",
    "        print('FINALIZADO')\n",
    "        break #colocamos break para evitar un bucle infinito"
   ]
  },
  {
   "cell_type": "markdown",
   "metadata": {
    "id": "p-9ABnnrZ7AL"
   },
   "source": [
    "**Ejercicio 2**\n",
    "\n",
    "Use una sentencia for para calcular la suma de todos los números entre el 1 y el 100. Es decir, 1+2+3+....+99+100"
   ]
  },
  {
   "cell_type": "code",
   "execution_count": 18,
   "metadata": {},
   "outputs": [
    {
     "name": "stdout",
     "output_type": "stream",
     "text": [
      "La suma de los nros del 1-100, es:  5050\n"
     ]
    }
   ],
   "source": [
    "#inicializamos\n",
    "s=0\n",
    "#bucle for que recorra hasta el 100 y se ejecute la suma\n",
    "for i in range(1,101):\n",
    "    s+=i\n",
    "print('La suma de los nros del 1-100, es: ', s)"
   ]
  },
  {
   "cell_type": "code",
   "execution_count": 4,
   "metadata": {
    "id": "FL_EoMkPZ7AL"
   },
   "outputs": [
    {
     "name": "stdout",
     "output_type": "stream",
     "text": [
      "La suma de los nros del 1-100, es:  5050\n"
     ]
    }
   ],
   "source": [
    "#inicializamos\n",
    "i = 1\n",
    "s=0\n",
    "#bucle while que recorra hasta el 100 y se ejecute la suma\n",
    "while i<=100:\n",
    "    s+=i\n",
    "    i+=1\n",
    "print('La suma de los nros del 1-100, es: ', s)"
   ]
  },
  {
   "cell_type": "markdown",
   "metadata": {
    "id": "bOjbUM40Z7AL"
   },
   "source": [
    "**Ejercicio 3**\n",
    "\n",
    "Ahora escriba una sentencia para calcular la suma de todos los números pares entre el 1 y el 100, y luego otra para calcular la suma de los números impares."
   ]
  },
  {
   "cell_type": "code",
   "execution_count": 19,
   "metadata": {
    "id": "cFaCUhw0Z7AL"
   },
   "outputs": [
    {
     "name": "stdout",
     "output_type": "stream",
     "text": [
      "El resultado de todos los números pares entre 1-100, es:  2550 \n",
      "La suma de los números impares, es:  2500\n"
     ]
    }
   ],
   "source": [
    "#inicializamos\n",
    "r=0\n",
    "p=0\n",
    "#bucle que recorra hasta el 101 porque inicia desde 0, después ejecutamos la suma\n",
    "for i in range(1,101): \n",
    "    if i%2==0:\n",
    "        r+=i\n",
    "    else:\n",
    "        p+=i\n",
    "        \n",
    "print('El resultado de todos los números pares entre 1-100, es: ', r, '\\nLa suma de los números impares, es: ', p)\n"
   ]
  },
  {
   "cell_type": "markdown",
   "metadata": {
    "id": "-h5wyheHZ7AL"
   },
   "source": [
    "**Ejercicio 4**\n",
    "\n",
    "Escribe un programa que solicite por pantalla un número entero (si es otro tipo de valor que muestre un mensaje de error), y que devuelva impreso por pantalla la tabla de multiplicar de dicho número del 1 al 10, por ejemplo:\n",
    "\n",
    "Ingrese un número: 9\n",
    "\n",
    "- 9 x 1 = 9\n",
    "- 9 x 2 = 18\n",
    "- 9 x 3 = 27\n",
    "- 9 x 4 = 36\n",
    "- 9 x 5 = 45\n",
    "- 9 x 6 = 54\n",
    "- 9 x 7 = 63\n",
    "- 9 x 8 = 72\n",
    "- 9 x 9 = 81\n",
    "- 9 x 10 = 90"
   ]
  },
  {
   "cell_type": "code",
   "execution_count": 40,
   "metadata": {},
   "outputs": [
    {
     "name": "stdout",
     "output_type": "stream",
     "text": [
      "ingrese el numero: 9\n",
      "9 * 1 = 9\n",
      "9 * 2 = 18\n",
      "9 * 3 = 27\n",
      "9 * 4 = 36\n",
      "9 * 5 = 45\n",
      "9 * 6 = 54\n",
      "9 * 7 = 63\n",
      "9 * 8 = 72\n",
      "9 * 9 = 81\n",
      "9 * 10 = 90\n",
      "Desea continuar? S / N :s\n",
      "ingrese el numero: 8\n",
      "8 * 1 = 8\n",
      "8 * 2 = 16\n",
      "8 * 3 = 24\n",
      "8 * 4 = 32\n",
      "8 * 5 = 40\n",
      "8 * 6 = 48\n",
      "8 * 7 = 56\n",
      "8 * 8 = 64\n",
      "8 * 9 = 72\n",
      "8 * 10 = 80\n",
      "Desea continuar? S / N :s\n",
      "ingrese el numero: m\n",
      "Ingrese nro entero\n",
      "ingrese el numero: 6.9\n",
      "Ingrese nro entero\n",
      "ingrese el numero: 6\n",
      "6 * 1 = 6\n",
      "6 * 2 = 12\n",
      "6 * 3 = 18\n",
      "6 * 4 = 24\n",
      "6 * 5 = 30\n",
      "6 * 6 = 36\n",
      "6 * 7 = 42\n",
      "6 * 8 = 48\n",
      "6 * 9 = 54\n",
      "6 * 10 = 60\n",
      "Desea continuar? S / N :n\n",
      "FINALIZADO\n"
     ]
    }
   ],
   "source": [
    "while True:\n",
    "    while True:\n",
    "        n = input('ingrese el numero: ')\n",
    "        #El try permite probar un bloque de código en busca de errores.\n",
    "        #En este caso si el número es positivo se ejecutará el siguiente código sino aparecerá un mensaje de error\n",
    "        try:\n",
    "            entero=int(n) \n",
    "            #bucle for que recorra hasta el 13 porque inicia desde 0 (por lo que incrementamos +1)\n",
    "            for i in range(1, 11):\n",
    "                print(n, '*', i, '=', entero*i)\n",
    "            break\n",
    "            \n",
    "        except ValueError:\n",
    "            print(\"Ingrese nro entero\")\n",
    "           \n",
    "\n",
    "    continuar = input('Desea continuar? S / N :')\n",
    "\n",
    "    if continuar.lower() in \"s si y yes\": #se pasa a minusculas la respuesta \n",
    "        continue\n",
    "\n",
    "    else:\n",
    "        print('FINALIZADO')\n",
    "        break #colocamos break para evitar un bucle infinito"
   ]
  },
  {
   "cell_type": "markdown",
   "metadata": {
    "id": "dUV3EQHAZ7AL"
   },
   "source": [
    "**Ejercicio 5**\n",
    "\n",
    "Escribe un programa que solicite por pantalla la cantidad de notas a ingresar (debe ser un número entero), luego que solicite cada una de esas notas (las notas deben ir del 0 al 20) y calcule el promedio (redondeado a 2 decimales). Si la nota ingresada es menor de 0 o mayor a 20, se debe solicitar ingresar esa nota nuevamente hasta que este correctamente ingresada.\n",
    "\n",
    "<i>Ingrese la cantidad de valores a ingresar: 4\n",
    "<br>Ingrese el número 1: 12.5\n",
    "<br>Ingrese el número 2: 15\n",
    "<br>Ingrese el número 3: 10\n",
    "<br>Ingrese el número 4: 13\n",
    "\n",
    "El promedio de los números ingresados es: 12.63"
   ]
  },
  {
   "cell_type": "code",
   "execution_count": 104,
   "metadata": {},
   "outputs": [
    {
     "name": "stdout",
     "output_type": "stream",
     "text": [
      "Ingrese cantidad de valores a ingresar: 4\n",
      "Ingrese el número [1]: 12.5\n",
      "Ingrese el número [2]: 15\n",
      "Ingrese el número [3]: 10\n",
      "Ingrese el número [4]: 13\n",
      "El promedio de los números ingresados es:  12.62\n",
      "Desea continuar? S / N :si\n",
      "Ingrese cantidad de valores a ingresar: 3\n",
      "Ingrese el número [1]: 15\n",
      "Ingrese el número [2]: 14\n",
      "Ingrese el número [3]: 12\n",
      "El promedio de los números ingresados es:  13.67\n",
      "Desea continuar? S / N :no\n",
      "FINALIZADO\n"
     ]
    }
   ],
   "source": [
    "while True:\n",
    "    while True:\n",
    "        #lista vacía\n",
    "        nums = []\n",
    "        n = int(input(\"Ingrese cantidad de valores a ingresar: \"))\n",
    "        i = 0 \n",
    "        #validamos con un while que se repetirá hasta que el usuario ingrese un nro positivo\n",
    "        while n <= 0:\n",
    "            n = int(input(\"Ingrese cantidad de valores a ingresar: \"))\n",
    "        while i < n:\n",
    "            val = float(input(f'Ingrese el número [{i+1}]: ')) #i+1, para indicar la posición \n",
    "            while val < 0 or val > 20: #validamos las notas\n",
    "                val = float(input(f'Ingrese el número [{i+1}]: '))\n",
    "            nums.append(val) #utilizamos la función append que nos permite agregar elementos a una lista\n",
    "            i+=1 \n",
    "        prom = sum(nums) / len(nums)\n",
    "        print(\"El promedio de los números ingresados es: \",\"{0:.2f}\".format(float(prom))) \n",
    "        break\n",
    "\n",
    "    continuar = input('Desea continuar? S / N :')\n",
    "\n",
    "    if continuar.lower() in \"s si y yes\": #se pasa a minusculas la respuesta \n",
    "        continue\n",
    "\n",
    "    else:\n",
    "        print('FINALIZADO')\n",
    "        break #colocamos break para evitar un bucle infinito"
   ]
  },
  {
   "cell_type": "code",
   "execution_count": null,
   "metadata": {},
   "outputs": [],
   "source": []
  }
 ],
 "metadata": {
  "anaconda-cloud": {},
  "colab": {
   "collapsed_sections": [],
   "provenance": []
  },
  "kernelspec": {
   "display_name": "Python 3 (ipykernel)",
   "language": "python",
   "name": "python3"
  },
  "language_info": {
   "codemirror_mode": {
    "name": "ipython",
    "version": 3
   },
   "file_extension": ".py",
   "mimetype": "text/x-python",
   "name": "python",
   "nbconvert_exporter": "python",
   "pygments_lexer": "ipython3",
   "version": "3.9.12"
  }
 },
 "nbformat": 4,
 "nbformat_minor": 1
}
