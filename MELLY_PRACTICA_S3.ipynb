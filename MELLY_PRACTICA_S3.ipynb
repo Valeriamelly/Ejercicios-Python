{
 "cells": [
  {
   "cell_type": "markdown",
   "id": "62bd2a5e",
   "metadata": {},
   "source": [
    "1.Escribir una función con el nombre lipovocal(frase) que reciba una línea de texto y retorne como respuesta la única vocal\n",
    "que no ha sido utilizada, o un carácter nulo en otros casos."
   ]
  },
  {
   "cell_type": "code",
   "execution_count": 25,
   "id": "f2ef5cea",
   "metadata": {
    "colab": {
     "base_uri": "https://localhost:8080/",
     "height": 35
    },
    "id": "f2ef5cea",
    "outputId": "32d2d659-9d3c-46fd-a267-9e992faaa6fc"
   },
   "outputs": [
    {
     "name": "stdout",
     "output_type": "stream",
     "text": [
      "Ingrese la frase: house of the dragon\n"
     ]
    },
    {
     "data": {
      "text/plain": [
       "('La letra que falta es', 'i')"
      ]
     },
     "execution_count": 25,
     "metadata": {},
     "output_type": "execute_result"
    }
   ],
   "source": [
    "#ingresamos datos por teclado\n",
    "frase = input(\"Ingrese la frase: \")\n",
    "#función \n",
    "def lipovocal(frase): \n",
    "    #inicializamos \n",
    "    i=0    \n",
    "    #\"in\" toma valores de una lista \n",
    "    #se coloca un ciclo for para determinar si existe solamente una vocal que no está incluida en eltexto.\n",
    "    for vocal in ['a','e','i','o','u']:\n",
    "            if vocal not in frase: #en caso de que alguna vocal no esté en la frase\n",
    "                i+=1               #se recorre por la frase para verificar si falta alguna vocal\n",
    "                v=vocal\n",
    "    if i==1: #si se se encuentra que una vocal falta se procede a imprimir \n",
    "        return 'La letra que falta es', v\n",
    "    else:    #en caso contrario indicamos que no cumple\n",
    "        return \"No cumple\"\n",
    "        \n",
    "#Prueba\n",
    "lipovocal(frase)"
   ]
  },
  {
   "cell_type": "markdown",
   "id": "2b790db4",
   "metadata": {
    "id": "f7fb42fc"
   },
   "source": [
    "2.Escribir una función de utilidad que reciba una cadena conteniendo números \n",
    "separados por comas y los convierta en una lista numérica"
   ]
  },
  {
   "cell_type": "code",
   "execution_count": 39,
   "id": "7e220873",
   "metadata": {
    "id": "7e220873",
    "outputId": "86853cad-65f8-458a-dfcb-8dcf88d7f18d"
   },
   "outputs": [
    {
     "name": "stdout",
     "output_type": "stream",
     "text": [
      "Ingrese cadena: 1,234,5445,321,23\n"
     ]
    },
    {
     "data": {
      "text/plain": [
       "[1, 234, 5445, 321, 23]"
      ]
     },
     "execution_count": 39,
     "metadata": {},
     "output_type": "execute_result"
    }
   ],
   "source": [
    "cont = input(\"Ingrese cadena: \")\n",
    "\n",
    "def contenido(cont):\n",
    "    #La función split  transforma la cadena a una lista de cadenas de caracteres,\n",
    "    #en la cual cada elemento es una subcadena conteniendo cada número.\n",
    "    numero=cont.split(\",\") \n",
    "    x=[] \n",
    "    #Mediante el ciclo for se convierte cada elemento a tipo entero con el tipo int\n",
    "    for i in numero:\n",
    "        x=x+[int(i)]\n",
    "    return x\n",
    "#Prueba\n",
    "contenido(cont)"
   ]
  },
  {
   "cell_type": "markdown",
   "id": "46e5cbd8",
   "metadata": {
    "id": "c10c69c7"
   },
   "source": [
    "3.Escribir una función de utilidad que reciba una lista numérica y entregue una cadena de caracteres \n",
    "cuyos elementos son subcadenas conteniendo los números separados por comas "
   ]
  },
  {
   "cell_type": "code",
   "execution_count": 78,
   "id": "947641f5",
   "metadata": {},
   "outputs": [
    {
     "name": "stdout",
     "output_type": "stream",
     "text": [
      "['[1]', '[12]', '[123]', '[1234]', '[2]', '[23]', '[234]', '[3]', '[34]', '[4]', '[5]', '[54]', '[4]']\n"
     ]
    }
   ],
   "source": [
    "def funcion(lista):\n",
    "    subCadena = list()\n",
    "    for elemento in lista: #se utiliza un for y se coloca range que indica hasta que posicion va a recorrer el for devolver la cantidad de elementos\n",
    "        for i in range(len(elemento)):\n",
    "            for j in range(i, len(elemento)): #permite saber la siguiente posición del número \n",
    "                subCadena.append(\"[\"+elemento[i:j+1]+\"]\") #colocamos append para agregar elementos y reportar la siguiente posición\n",
    "    return print(subCadena)\n",
    "lista = [\"1234\", \"54\"]\n",
    "funcion(lista)"
   ]
  },
  {
   "cell_type": "code",
   "execution_count": 76,
   "id": "e5791e4f",
   "metadata": {},
   "outputs": [
    {
     "name": "stdout",
     "output_type": "stream",
     "text": [
      "Ingrese su lista numerica : 123,456\n"
     ]
    },
    {
     "data": {
      "text/plain": [
       "'lista: [1][2][3][,][4][5][6]'"
      ]
     },
     "execution_count": 76,
     "metadata": {},
     "output_type": "execute_result"
    }
   ],
   "source": [
    "#Otra forma\n",
    "lista = input(\"Ingrese su lista numerica : \")\n",
    "\n",
    "def convstr(listas):\n",
    " l=''\n",
    " for x in listas:\n",
    "    #Mediante un ciclo se convierte cada elemento numérico a su representación como cadena con el tipo str.\n",
    "    #se colocan corchetes para separar las subcadenas\n",
    "    l = l +\"[\" +str(x)+\"]\"\n",
    "    \n",
    " return \"lista: \" + str(l)\n",
    "\n",
    "convstr(lista)"
   ]
  }
 ],
 "metadata": {
  "colab": {
   "provenance": []
  },
  "kernelspec": {
   "display_name": "Python 3 (ipykernel)",
   "language": "python",
   "name": "python3"
  },
  "language_info": {
   "codemirror_mode": {
    "name": "ipython",
    "version": 3
   },
   "file_extension": ".py",
   "mimetype": "text/x-python",
   "name": "python",
   "nbconvert_exporter": "python",
   "pygments_lexer": "ipython3",
   "version": "3.9.12"
  }
 },
 "nbformat": 4,
 "nbformat_minor": 5
}
