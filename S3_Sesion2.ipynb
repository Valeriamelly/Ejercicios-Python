{
 "cells": [
  {
   "cell_type": "markdown",
   "metadata": {
    "colab_type": "text",
    "id": "OlP0mwzPTj51"
   },
   "source": [
    " # Paquete Datetime"
   ]
  },
  {
   "cell_type": "markdown",
   "metadata": {
    "colab_type": "text",
    "id": "yGOhOL6jTj52"
   },
   "source": [
    "### Importando el paquete datetime."
   ]
  },
  {
   "cell_type": "code",
   "execution_count": null,
   "metadata": {
    "colab": {},
    "colab_type": "code",
    "id": "cMzO2WFxTj53"
   },
   "outputs": [],
   "source": [
    "import datetime as dt"
   ]
  },
  {
   "cell_type": "markdown",
   "metadata": {
    "colab_type": "text",
    "id": "kfealoxHTj6A"
   },
   "source": [
    "### Creando una variable de tiempo\n",
    "\n",
    "* Se necesitan los argumentos de hora, minuto, segundo y microsegundos\n",
    "* Si alguno no es brindado se completa con 0 por defecto."
   ]
  },
  {
   "cell_type": "code",
   "execution_count": null,
   "metadata": {
    "colab": {},
    "colab_type": "code",
    "id": "vL0DIciSTj6A"
   },
   "outputs": [],
   "source": [
    "print(dt.time(1), \"1 Hora\")\n",
    "\n",
    "print(dt.time(2, 30), \"2 Horas y 30 minutos\")\n",
    "\n",
    "print(dt.time(3, 45, 30), \"3 Horas, 45 minutos y 30 segundos\")"
   ]
  },
  {
   "cell_type": "markdown",
   "metadata": {
    "colab_type": "text",
    "id": "iL4XjeKaTj6E"
   },
   "source": [
    "### `dt.datetime.now` para obtener el datetime actual.   "
   ]
  },
  {
   "cell_type": "code",
   "execution_count": null,
   "metadata": {
    "colab": {},
    "colab_type": "code",
    "id": "OyLZPgc4Tj6E"
   },
   "outputs": [],
   "source": [
    "now = dt.datetime.now()\n",
    "print(now)"
   ]
  },
  {
   "cell_type": "markdown",
   "metadata": {
    "colab_type": "text",
    "id": "VYR7rc-dTj6J"
   },
   "source": [
    "Algunos atributos:"
   ]
  },
  {
   "cell_type": "code",
   "execution_count": null,
   "metadata": {
    "colab": {},
    "colab_type": "code",
    "id": "FglSeAjWTj6K"
   },
   "outputs": [],
   "source": [
    "print(\"Fecha\\n\")\n",
    "print(\"El año actual es:\", now.year)\n",
    "print(\"El mes actual es:\", now.month)\n",
    "print(\"El día actual es:\", now.day)\n",
    "\n",
    "print(\"\\nTiempo\\n\")\n",
    "print(\"La hora actual es:   \", now.hour)\n",
    "print(\"El minuto actual es: \", now.minute)\n",
    "print(\"El segundo actual es:\", now.second)"
   ]
  },
  {
   "cell_type": "markdown",
   "metadata": {
    "colab_type": "text",
    "id": "pWquEnoXTj6W"
   },
   "source": [
    "Para crear un datetime en particular es necesario pasar los atributos de año, mes y día; los de tiempo son opcionales."
   ]
  },
  {
   "cell_type": "code",
   "execution_count": null,
   "metadata": {
    "colab": {},
    "colab_type": "code",
    "id": "hCn6RFvqTj6Y"
   },
   "outputs": [],
   "source": [
    "navidad_date = dt.datetime(2020, 12, 25)\n",
    "print(navidad_date)"
   ]
  },
  {
   "cell_type": "code",
   "execution_count": null,
   "metadata": {
    "colab": {},
    "colab_type": "code",
    "id": "Ph2vhaaQTj6k"
   },
   "outputs": [],
   "source": [
    "diff = navidad_date - now\n",
    "print(diff)"
   ]
  },
  {
   "cell_type": "code",
   "execution_count": null,
   "metadata": {
    "colab": {},
    "colab_type": "code",
    "id": "2RT7oB3hkcKk"
   },
   "outputs": [],
   "source": [
    "type(diff)"
   ]
  },
  {
   "cell_type": "markdown",
   "metadata": {
    "colab_type": "text",
    "id": "Az_BFR5_gjb_"
   },
   "source": [
    "Podemos crear un objeto timedelta también y añadirlo a un datetime:"
   ]
  },
  {
   "cell_type": "code",
   "execution_count": null,
   "metadata": {
    "colab": {},
    "colab_type": "code",
    "id": "PvcogWGMgjcC"
   },
   "outputs": [],
   "source": [
    "inc = dt.timedelta(days=45, hours=7)\n",
    "\n",
    "print(now)\n",
    "print(inc)\n",
    "print(now + inc)"
   ]
  },
  {
   "cell_type": "markdown",
   "metadata": {
    "colab_type": "text",
    "id": "g0i1g6xDTj6p"
   },
   "source": [
    "### String to Datetime:\n",
    "\n",
    "- %Y for year\n",
    "- %d for day\n",
    "- %m for month\n",
    "- %H for hour\n",
    "- %M for minute\n",
    "- %S for second"
   ]
  },
  {
   "cell_type": "code",
   "execution_count": null,
   "metadata": {
    "colab": {},
    "colab_type": "code",
    "id": "ZQEp010FlEtI"
   },
   "outputs": [],
   "source": [
    "str_date = \"18-07-1994\"\n",
    "str_date = dt.datetime.strptime(str_date,\"%d-%m-%Y\")\n",
    "print(str_date)"
   ]
  },
  {
   "cell_type": "code",
   "execution_count": null,
   "metadata": {
    "colab": {},
    "colab_type": "code",
    "id": "YP2K3zt0fwTO"
   },
   "outputs": [],
   "source": [
    "type(str_date)"
   ]
  },
  {
   "cell_type": "code",
   "execution_count": null,
   "metadata": {
    "colab": {},
    "colab_type": "code",
    "id": "JJwIxCuYlRXa"
   },
   "outputs": [],
   "source": [
    "str_date = \"18/07/1994\"\n",
    "str_date = dt.datetime.strptime(str_date,\"%d/%m/%Y\")\n",
    "print(str_date)"
   ]
  },
  {
   "cell_type": "code",
   "execution_count": null,
   "metadata": {
    "colab": {},
    "colab_type": "code",
    "id": "mkpSPQ8Rfzap"
   },
   "outputs": [],
   "source": [
    "type(str_date)"
   ]
  },
  {
   "cell_type": "markdown",
   "metadata": {
    "colab_type": "text",
    "id": "UjWaIM9ITj6w"
   },
   "source": [
    "### Datetime to String:"
   ]
  },
  {
   "cell_type": "code",
   "execution_count": null,
   "metadata": {
    "colab": {},
    "colab_type": "code",
    "id": "hGCf0nkUTj6w"
   },
   "outputs": [],
   "source": [
    "date_str = dt.datetime.strftime(str_date, \"%Y-%m-%d %H:%M:%S\")\n",
    "print(date_str)"
   ]
  },
  {
   "cell_type": "code",
   "execution_count": null,
   "metadata": {
    "colab": {},
    "colab_type": "code",
    "id": "tExQWpEdf65k"
   },
   "outputs": [],
   "source": [
    "type(date_str)"
   ]
  },
  {
   "cell_type": "code",
   "execution_count": null,
   "metadata": {
    "colab": {},
    "colab_type": "code",
    "id": "YSdPZPeCf824"
   },
   "outputs": [],
   "source": []
  }
 ],
 "metadata": {
  "colab": {
   "collapsed_sections": [],
   "name": "Sesión05_FDP_OG5_Fechas.ipynb",
   "provenance": []
  },
  "kernelspec": {
   "display_name": "Python 3 (ipykernel)",
   "language": "python",
   "name": "python3"
  },
  "language_info": {
   "codemirror_mode": {
    "name": "ipython",
    "version": 3
   },
   "file_extension": ".py",
   "mimetype": "text/x-python",
   "name": "python",
   "nbconvert_exporter": "python",
   "pygments_lexer": "ipython3",
   "version": "3.9.12"
  }
 },
 "nbformat": 4,
 "nbformat_minor": 1
}
