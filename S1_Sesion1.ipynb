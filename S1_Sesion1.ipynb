{
 "cells": [
  {
   "cell_type": "markdown",
   "metadata": {},
   "source": [
    "# S1: Funcionalidades de Python\n"
   ]
  },
  {
   "cell_type": "markdown",
   "metadata": {},
   "source": [
    "## Funcionalidad 1 - Los comentarios\n"
   ]
  },
  {
   "cell_type": "code",
   "execution_count": null,
   "metadata": {},
   "outputs": [],
   "source": [
    "print(\"Hola\")\n",
    "#valor_util = \"Bienvenidos\"\n",
    "#print(valor_util) "
   ]
  },
  {
   "cell_type": "markdown",
   "metadata": {},
   "source": [
    "## Funcionalidad 2 - El print()\n"
   ]
  },
  {
   "cell_type": "code",
   "execution_count": null,
   "metadata": {},
   "outputs": [],
   "source": [
    "print(\"My First line\")\n",
    "print(10)\n",
    "print(True)\n",
    "print([\"Daniel\", \"Ana\"])\n"
   ]
  },
  {
   "cell_type": "markdown",
   "metadata": {},
   "source": [
    "## Funcionalidad 3 - Los Strings"
   ]
  },
  {
   "cell_type": "code",
   "execution_count": null,
   "metadata": {},
   "outputs": [],
   "source": [
    "# Valid strings\n",
    "print(\"Hello world\")\n",
    "print('we are printing with simple quotes')\n"
   ]
  },
  {
   "cell_type": "code",
   "execution_count": null,
   "metadata": {},
   "outputs": [],
   "source": [
    "# Invalid strings\n",
    "print(\"A common use of \"strings\"\")\n"
   ]
  },
  {
   "cell_type": "code",
   "execution_count": null,
   "metadata": {},
   "outputs": [],
   "source": [
    "# Valid strings\n",
    "print(\"A common use of \\\"strings\\\"\")\n"
   ]
  },
  {
   "cell_type": "markdown",
   "metadata": {},
   "source": [
    "## Funcionalidad 4 - Las Variables"
   ]
  },
  {
   "cell_type": "code",
   "execution_count": null,
   "metadata": {},
   "outputs": [],
   "source": [
    "my_message = \"Hello there\"\n",
    "print(my_message)\n"
   ]
  },
  {
   "cell_type": "code",
   "execution_count": null,
   "metadata": {},
   "outputs": [],
   "source": [
    "my_message = \"Hello there\"\n",
    "print(my_message)\n",
    "\n",
    "my_message = \"Hola a todos\"\n",
    "print(my_message)"
   ]
  },
  {
   "cell_type": "code",
   "execution_count": null,
   "metadata": {},
   "outputs": [],
   "source": [
    "# Esta variable es inicialmente asignada como un string\n",
    "my_var = \"Hola a todos\"\n",
    "print(my_var)\n",
    "\n",
    "# Puede ser reasignada a otro valor, independiente del tipo\n",
    "my_var = 85\n",
    "print(my_var)\n",
    "\n",
    "my_var = True\n",
    "print(my_var)\n"
   ]
  },
  {
   "cell_type": "markdown",
   "metadata": {},
   "source": [
    "## Funcionalidad 5 - Los Errores"
   ]
  },
  {
   "cell_type": "markdown",
   "metadata": {},
   "source": [
    "Cuando nos encontramos con un error no esperado, a esto lo llamamos “bugs”\n",
    "Dos errores comunes en python son SyntaxError y NameError\n",
    "\n",
    "#### SyntaxError: significa que algo está mal escrito en el programa, como puntuaciones donde no pertenecen, no hay paréntesis de cierre, etc.\n",
    "\n",
    "#### NameError: cuando el interpretador de python ve una palabra que no reconoce, como una variable no definida por ejemplo.\n"
   ]
  },
  {
   "cell_type": "markdown",
   "metadata": {},
   "source": [
    "## Funcionalidad 6 - Los Números"
   ]
  },
  {
   "cell_type": "markdown",
   "metadata": {},
   "source": [
    "Hay dos tipos de datos numéricos en python: int como integer y float como decimal\n"
   ]
  },
  {
   "cell_type": "code",
   "execution_count": 1,
   "metadata": {},
   "outputs": [
    {
     "name": "stdout",
     "output_type": "stream",
     "text": [
      "7\n"
     ]
    }
   ],
   "source": [
    "the_int = 4\n",
    "the_float = 4.5\n",
    "\n",
    "print(the_int + 3)\n",
    "# prints 7\n"
   ]
  },
  {
   "cell_type": "markdown",
   "metadata": {},
   "source": [
    "## Funcionalidad 7 -  Los Cálculos"
   ]
  },
  {
   "cell_type": "code",
   "execution_count": null,
   "metadata": {},
   "outputs": [],
   "source": [
    "#Prints \"500\"\n",
    "print(573 - 74 + 1)\n",
    "\n",
    "#Prints \"50\"\n",
    "print(25 * 2)\n",
    "\n",
    "#Prints \"2.0\"\n",
    "print(10/5)\n",
    "\n",
    "#Prints \"Error\"\n",
    "print(573 / 0)\n"
   ]
  },
  {
   "cell_type": "markdown",
   "metadata": {},
   "source": [
    "## Funcionalidad 8 -  Cambiando Números"
   ]
  },
  {
   "cell_type": "code",
   "execution_count": null,
   "metadata": {},
   "outputs": [],
   "source": [
    "ice_cream_price = 1.50\n",
    "number_of_ice_creams = 4\n",
    "\n",
    "# prints \"6.0\"\n",
    "print(ice_cream_price * number_of_ice_creams)\n",
    "\n",
    "# prints \"1.5\"\n",
    "print(ice_cream_price)\n",
    "\n",
    "#prints #4\n",
    "print(number_of_ice_creams)\n",
    "\n",
    "\n",
    "# Updating the price\n",
    "ice_cream_price = 2\n",
    "\n",
    "# prints \"8.0\"\n",
    "print(ice_cream_price * number_of_ice_creams)\n",
    "\n",
    "# prints \"2\"\n",
    "print(ice_cream_price)\n",
    "\n",
    "#prints #4\n",
    "print(number_of_ice_creams)\n"
   ]
  },
  {
   "cell_type": "markdown",
   "metadata": {},
   "source": [
    "## Funcionalidad 9 -  Exponenciales"
   ]
  },
  {
   "cell_type": "code",
   "execution_count": null,
   "metadata": {},
   "outputs": [],
   "source": [
    "# 2 to the 10th power, or 1.24\n",
    "print(2 ** 10)\n",
    "\n",
    "# 8 squared, or 64\n",
    "print(8 ** 2)\n",
    "\n",
    "# 9 * 9 * 9, 9 cubed, or 729\n",
    "print(9 ** 3)\n",
    "\n",
    "# We can even perform fractional exponents, 4 to the half power, or 2\n",
    "print(4 ** 0.5)\n"
   ]
  },
  {
   "cell_type": "markdown",
   "metadata": {},
   "source": [
    "## Funcionalidad 10 -  El Módulo"
   ]
  },
  {
   "cell_type": "code",
   "execution_count": 2,
   "metadata": {},
   "outputs": [
    {
     "name": "stdout",
     "output_type": "stream",
     "text": [
      "4\n",
      "2\n",
      "0\n"
     ]
    }
   ],
   "source": [
    "# prints 4 because 29/5 is 5 with a remainder of 4\n",
    "print(29 % 5)\n",
    "\n",
    "# prints 2 because 32/3 is 10 with a remainder of 2\n",
    "print(32 % 3)\n",
    "\n",
    "# Modulo by 2 returns 0 for even numbers and 1 for odd numbers\n",
    "# print 0\n",
    "print(44 % 2)\n"
   ]
  },
  {
   "cell_type": "markdown",
   "metadata": {},
   "source": [
    "## Funcionalidad 11 -  La Concatenación"
   ]
  },
  {
   "cell_type": "code",
   "execution_count": 3,
   "metadata": {},
   "outputs": [
    {
     "name": "stdout",
     "output_type": "stream",
     "text": [
      "I am 19 years old\n"
     ]
    }
   ],
   "source": [
    "my_birthday = \"I am \"\n",
    "age = 19\n",
    "my_birthday_two = \" years old\"\n",
    "\n",
    "# Concatenating an integer with strings is possible if we turn the integer into a string first\n",
    "full_string = my_birthday + str(age) + my_birthday_two\n",
    "# prints \"I am 19 years old\"\n",
    "print(full_string)\n"
   ]
  },
  {
   "cell_type": "markdown",
   "metadata": {},
   "source": [
    "## Funcionalidad 12 -  El Más Igual (+=)"
   ]
  },
  {
   "cell_type": "code",
   "execution_count": null,
   "metadata": {},
   "outputs": [],
   "source": [
    "# we have a variable with a number saved\n",
    "number_km_runned = 10\n",
    "# we need to update with another 2 kms today\n",
    "number_km_runned += 2\n",
    "# when we print, the new value is the old value plus the number after plus-euqlas\n",
    "print(number_km_runned)\n",
    "#Prints 12\n"
   ]
  },
  {
   "cell_type": "markdown",
   "metadata": {},
   "source": [
    "## Funcionalidad 13 -  Strings Multilinea"
   ]
  },
  {
   "cell_type": "code",
   "execution_count": null,
   "metadata": {},
   "outputs": [],
   "source": [
    "lorem_ipsum = \"\"\"\n",
    "Lorem ipsum dolor sit amet, consectetur adipisicing elit, sed do eiusmod tempor \n",
    "incididunt ut labore et dolore magna aliqua. Ut enim ad minim veniam, quis nostrud \n",
    "exercitation ullamco laboris nisi ut aliquip ex ea commodo consequat. Duis aute irure \n",
    "dolor in reprehenderit in voluptate velit esse cillum dolore eu fugiat nulla \n",
    "pariatur. Excepteur sint occaecat cupidatat non proident, sunt in culpa qui officia \n",
    "deserunt mollit anim id est laborum.\n",
    "\"\"\"\n",
    "print(lorem_ipsum)"
   ]
  }
 ],
 "metadata": {
  "kernelspec": {
   "display_name": "Python 3 (ipykernel)",
   "language": "python",
   "name": "python3"
  },
  "language_info": {
   "codemirror_mode": {
    "name": "ipython",
    "version": 3
   },
   "file_extension": ".py",
   "mimetype": "text/x-python",
   "name": "python",
   "nbconvert_exporter": "python",
   "pygments_lexer": "ipython3",
   "version": "3.9.12"
  }
 },
 "nbformat": 4,
 "nbformat_minor": 4
}
