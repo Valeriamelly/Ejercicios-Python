{
 "cells": [
  {
   "cell_type": "markdown",
   "metadata": {
    "colab_type": "text",
    "id": "jPtCmO6nSHGQ"
   },
   "source": [
    "# Ejercicios - Tratamiento de Fechas"
   ]
  },
  {
   "cell_type": "code",
   "execution_count": 4,
   "metadata": {
    "colab": {},
    "colab_type": "code",
    "id": "umOvgsaYRgen"
   },
   "outputs": [],
   "source": [
    "from datetime import datetime, date, time, timedelta\n",
    "import calendar"
   ]
  },
  {
   "cell_type": "markdown",
   "metadata": {
    "colab_type": "text",
    "id": "jEjzHa-CR4AL"
   },
   "source": [
    "## Mostrar fecha y hora (datetime)\n"
   ]
  },
  {
   "cell_type": "code",
   "execution_count": 5,
   "metadata": {
    "colab": {},
    "colab_type": "code",
    "id": "DJoHIhsERygA"
   },
   "outputs": [
    {
     "name": "stdout",
     "output_type": "stream",
     "text": [
      "Fecha y Hora: 2022-10-12 14:15:58.954019\n",
      "Fecha y Hora UTC: 2022-10-12 19:15:58.954019\n",
      "Día: 12\n",
      "Mes: 10\n",
      "Año: 2022\n",
      "Hora: 14\n",
      "Minutos: 15\n",
      "Segundos: 58\n",
      "Microsegundos: 954019\n"
     ]
    }
   ],
   "source": [
    "ahora = datetime.now()  # Obtiene fecha y hora actual\n",
    "print(\"Fecha y Hora:\", ahora)  # Muestra fecha y hora\n",
    "print(\"Fecha y Hora UTC:\",ahora.utcnow())  # Muestra fecha/hora UTC\n",
    "print(\"Día:\",ahora.day)  # Muestra día\n",
    "print(\"Mes:\",ahora.month)  # Muestra mes\n",
    "print(\"Año:\",ahora.year)  # Muestra año\n",
    "print(\"Hora:\", ahora.hour)  # Muestra hora\n",
    "print(\"Minutos:\",ahora.minute)  # Muestra minuto\n",
    "print(\"Segundos:\", ahora.second)  # Muestra segundo\n",
    "print(\"Microsegundos:\",ahora.microsecond)  # Muestra microsegundo"
   ]
  },
  {
   "cell_type": "markdown",
   "metadata": {
    "colab_type": "text",
    "id": "Sr39K3VCR7f9"
   },
   "source": [
    "## Comparando fechas y horas (datetime, date)\n"
   ]
  },
  {
   "cell_type": "code",
   "execution_count": 15,
   "metadata": {
    "colab": {},
    "colab_type": "code",
    "id": "Y-dPAduXSK_W"
   },
   "outputs": [
    {
     "name": "stdout",
     "output_type": "stream",
     "text": [
      "Horas:\n",
      "\tHora1: 10:05:00\n",
      "\tHora2: 23:15:00\n",
      "\tHora1 < Hora2: True\n",
      "Fechas:\n",
      "\tFecha1: 2022-10-12\n",
      "\tFecha2: 2022-10-14\n",
      "\tFecha1 > Fecha2: False\n"
     ]
    }
   ],
   "source": [
    "from datetime import datetime, date, time, timedelta\n",
    "import calendar\n",
    "print(\"Horas:\")\n",
    "hora1 = time(10, 5, 0)  # Asigna 10h 5m 0s\n",
    "print(\"\\tHora1:\", hora1)\n",
    "hora2 = time(23, 15, 0)  # Asigna 23h 15m 0s\n",
    "print(\"\\tHora2:\", hora2)\n",
    "\n",
    "# Compara horas\n",
    "print(\"\\tHora1 < Hora2:\", hora1 < hora2)  # True\n",
    "\n",
    "print(\"Fechas:\")\n",
    "fecha1 = date.today()  # Asigna fecha actual\n",
    "print(\"\\tFecha1:\", fecha1)\n",
    "\n",
    "# Suma a la fecha actual 2 días\n",
    "fecha2 = date.today() + timedelta(days=2)\n",
    "print(\"\\tFecha2:\", fecha2)\n",
    "\n",
    "# Compara fechas\n",
    "print(\"\\tFecha1 > Fecha2:\", fecha1 > fecha2)  # False"
   ]
  },
  {
   "cell_type": "markdown",
   "metadata": {
    "colab_type": "text",
    "id": "m6BZ_n08gTgN"
   },
   "source": [
    "## Aplicando formatos a fechas y horas (Máscaras)\n",
    "\n",
    "Las siguientes claves se combinan para aplicar formatos:"
   ]
  },
  {
   "cell_type": "markdown",
   "metadata": {},
   "source": [
    "    %a\tNombre local abreviado de día de semana\n",
    "    %A\tNombre local completo de día de semana\n",
    "    %b\tNombre local abreviado de mes\n",
    "    %B\tNombre local completo de mes\n",
    "    %c\tRepresentación local de fecha y hora\n",
    "    %d\tDía de mes [01,31]\n",
    "    %H\tHora (horario 24 horas) [00,23]\n",
    "    %I\tHora (horario 12 horas) [01,12]\n",
    "    %j\tNúmero de día del año [001,366]\n",
    "    %m\tMes [01,12]\n",
    "    %M\tMinuto [00,59]\n",
    "    %p\tEtiqueta AM o PM\n",
    "    %S\tSegundo\n",
    "    %U\tNº semana del año. Se considera al Domingo como primer día de semana [00,53]\n",
    "    %w\tEstablece el primer día de semana [0(Domingo),1(Lunes)... 6].\n",
    "    %W\tNº semana del año (Se considera al Lunes como primer día de semana) [00,53]\n",
    "    %x\tFecha local\n",
    "    %X\tHora local\n",
    "    %y\tAño en formato corto [00,99]\n",
    "    %Y\tAño en formato largo\n",
    "    %Z\tNombre de Zona Horaria\n",
    "\n",
    "\n",
    "Ejemplos:"
   ]
  },
  {
   "cell_type": "code",
   "execution_count": 16,
   "metadata": {
    "colab": {},
    "colab_type": "code",
    "id": "m3oRE44qRel_"
   },
   "outputs": [
    {
     "name": "stdout",
     "output_type": "stream",
     "text": [
      "Fecha en formato ISO 8601: 2022-10-12 14:20:13.883835\n",
      "Formato1: Wed Oct 12 14:20:13 2022\n",
      "Formato2: 12-10-22 02:10 PM\n"
     ]
    }
   ],
   "source": [
    "# Asigna formato de ejemplo1\n",
    "formato1 = \"%a %b %d %H:%M:%S %Y\"\n",
    "\n",
    "# Asigna formato de ejemplo2\n",
    "formato2 = \"%d-%m-%y %I:%m %p\"\n",
    "\n",
    "hoy = datetime.today()  # Asigna fecha-hora\n",
    "\n",
    "# Muestra fecha-hora según ISO 8601\n",
    "print(\"Fecha en formato ISO 8601:\", hoy)\n",
    "\n",
    "# Aplica formato ejemplo1\n",
    "cadena1 = hoy.strftime(formato1)  \n",
    "\n",
    "# Aplica formato ejemplo2\n",
    "cadena2 = hoy.strftime(formato2)  \n",
    "\n",
    "# Muestra fecha-hora según ejemplo1\n",
    "print(\"Formato1:\", cadena1)\n",
    "\n",
    "# Muestra fecha-hora según ejemplo2\n",
    "print(\"Formato2:\", cadena2)"
   ]
  },
  {
   "cell_type": "markdown",
   "metadata": {
    "colab_type": "text",
    "id": "PF7dHdUAkAIt"
   },
   "source": [
    "## Para convertir una cadena a objeto datetime"
   ]
  },
  {
   "cell_type": "code",
   "execution_count": null,
   "metadata": {
    "colab": {},
    "colab_type": "code",
    "id": "Yr3ciimxkATF"
   },
   "outputs": [],
   "source": [
    "objeto_datetime = datetime.strptime(cadena1, formato1)\n",
    "print(\"strptime:\", fecha1.strftime(formato1))"
   ]
  },
  {
   "cell_type": "markdown",
   "metadata": {
    "colab_type": "text",
    "id": "6QgfrlUbQE1v"
   },
   "source": [
    "## Operaciones con fechas y horas\n",
    "\n",
    "Se utiliza la función timedelta que permite operar con: microseconds, milliseconds, seconds, minutes, hours, days y weeks"
   ]
  },
  {
   "cell_type": "code",
   "execution_count": 19,
   "metadata": {
    "colab": {},
    "colab_type": "code",
    "id": "MoGDoGIPQGgE"
   },
   "outputs": [
    {
     "name": "stdout",
     "output_type": "stream",
     "text": [
      "2022-10-11\n",
      "1 day, 0:00:00\n"
     ]
    }
   ],
   "source": [
    "hoy = date.today()  # Asigna fecha actual\n",
    "ayer = hoy - timedelta(days=1)  # Resta a fecha actual 1 día\n",
    "print(ayer)\n",
    "mañana = hoy + timedelta(days=1)  # Suma a fecha actual 1 día\n",
    "diferencia_en_dias = mañana - hoy  # Resta las dos fechas\n",
    "print(diferencia_en_dias)"
   ]
  },
  {
   "cell_type": "markdown",
   "metadata": {},
   "source": [
    "## Otros ejemplos de operaciones con otras unidades de tiempo"
   ]
  },
  {
   "cell_type": "code",
   "execution_count": null,
   "metadata": {},
   "outputs": [],
   "source": [
    "hoy_mas_1_millon_segundos = hoy + timedelta(seconds=1000000)\n",
    "ahora = datetime.now() \n",
    "hora_actual = time(ahora.hour, ahora.minute, ahora.second)\n",
    "mas_5m = ahora + timedelta(seconds=300)\n",
    "mas_5m = time(mas_5m.hour, mas_5m.minute, mas_5m.second)\n",
    "racion_de_5h = timedelta(hours=5)\n",
    "mas_5h = ahora + racion_de_5h\n",
    "\n",
    "print(\"Ayer:\", ayer)\n",
    "print(\"Hoy:\", hoy)\n",
    "print(\"Mañana:\", mañana)\n",
    "print(\"Diferencia en días entre mañana y hoy:\", \n",
    "      diferencia_en_dias.days)\n",
    "print(\"La fecha de hoy más 1 millón de segundos:\", \n",
    "      hoy_mas_1_millon_segundos)\n",
    "print(\"Hora actual:\", hora_actual)\n",
    "print(\"Hora actual + 5 minutos:\", mas_5m)\n",
    "print(\"Hora actual + 5 horas:\", mas_5h)"
   ]
  },
  {
   "cell_type": "markdown",
   "metadata": {},
   "source": [
    "## Diferencia entre dos fechas (datetime)\n"
   ]
  },
  {
   "cell_type": "code",
   "execution_count": 5,
   "metadata": {},
   "outputs": [
    {
     "name": "stdout",
     "output_type": "stream",
     "text": [
      "Fecha1: 2022-10-05 00:13:12.022307\n",
      "Fecha2: 1995-11-05 00:00:00\n",
      "Diferencia: 9831 days, 0:13:12.022307\n",
      "Entre las 2 fechas hay  9831 días y  792 seg.\n"
     ]
    }
   ],
   "source": [
    "from datetime import datetime\n",
    "# Asigna datetime de la fecha actual\n",
    "fecha1 = datetime.now()\n",
    "\n",
    "# Asigna datetime específica\n",
    "fecha2 = datetime(1995, 11, 5, 0, 0, 0)\n",
    "diferencia = fecha1 - fecha2\n",
    "print(\"Fecha1:\", fecha1)\n",
    "print(\"Fecha2:\", fecha2)\n",
    "print(\"Diferencia:\", diferencia)\n",
    "print(\"Entre las 2 fechas hay \", \n",
    "      diferencia.days, \n",
    "      \"días y \", \n",
    "      diferencia.seconds, \n",
    "      \"seg.\")"
   ]
  },
  {
   "cell_type": "markdown",
   "metadata": {},
   "source": [
    "## Diferencia entre dos fechas en días (datetime y strptime)\n"
   ]
  },
  {
   "cell_type": "code",
   "execution_count": 4,
   "metadata": {},
   "outputs": [
    {
     "name": "stdout",
     "output_type": "stream",
     "text": [
      "Fecha inicial: 2013-10-01 00:00:00\n",
      "Fecha final: 2013-12-25 00:00:00\n",
      "Diferencia: 85 días\n"
     ]
    }
   ],
   "source": [
    "from datetime import datetime\n",
    "formato_fecha = \"%d-%m-%Y\"\n",
    "fecha_inicial = datetime.strptime(\"01-10-2013\", \n",
    "                                  formato_fecha)\n",
    "fecha_final = datetime.strptime(\"25-12-2013\", \n",
    "                                formato_fecha)\n",
    "diferencia = fecha_final - fecha_inicial\n",
    "print(\"Fecha inicial:\", fecha_inicial)\n",
    "print(\"Fecha final:\", fecha_final)\n",
    "print(\"Diferencia:\", diferencia.days, \"días\")"
   ]
  },
  {
   "cell_type": "markdown",
   "metadata": {},
   "source": [
    "## Diferencia de dos fechas en días, introducidas por teclado\n"
   ]
  },
  {
   "cell_type": "code",
   "execution_count": null,
   "metadata": {},
   "outputs": [],
   "source": [
    "#  Diferencia de dos fechas en días introducidas por teclado,\n",
    "#  con control de errores.\n",
    "#\n",
    "\n",
    "from datetime import datetime\n",
    "\n",
    "def main():\n",
    " # Establecer formato de las fechas a introducir: dd/mm/aaaa\n",
    " \n",
    " formato = \"%d/%m/%Y\"\n",
    " \n",
    " # Bucle 'sin fin' \n",
    " \n",
    " while True:\n",
    "  try:\n",
    "   # Introducir fecha inicial utilizando el formato definido\n",
    "   \n",
    "   fecha_desde = input('Introducir fecha inicial (dd/mm/aaaa): ')   \n",
    "   \n",
    "   # Si no se introduce ningún valor se fuerza el final del bucle \n",
    "   \n",
    "   if fecha_desde == \"\":\n",
    "    break\n",
    "   \n",
    "   # Introducir fecha final utilizando el formato definido   \n",
    "   \n",
    "   fecha_hasta = input('Introducir fecha final   (dd/mm/aaaa): ') \n",
    "\n",
    "   # Si no se introduce ningún valor se fuerza el final del bucle \n",
    "   \n",
    "   if fecha_hasta == \"\":\n",
    "    break\n",
    "   \n",
    "   # Se evaluan las fechas según el formato dd/mm/aaaa\n",
    "   # En caso de introducirse fechas incorrectas se capturará\n",
    "   # la excepción o error\n",
    "   \n",
    "   fecha_desde = datetime.strptime(fecha_desde, formato)\n",
    "   fecha_hasta = datetime.strptime(fecha_hasta, formato)\n",
    "   \n",
    "   # Se comprueba que fecha_hasta sea mayor o igual que fecha_desde\n",
    "   \n",
    "   if fecha_hasta >= fecha_desde:\n",
    "    \n",
    "    # Se cálcula diferencia en día y se muestra el resultado\n",
    "    \n",
    "    diferencia = fecha_hasta - fecha_desde\n",
    "    print(\"Diferencia:\", diferencia.days, \"días\")\n",
    "    \n",
    "   else:\n",
    "    print(\"La fecha fecha final debe ser mayor o igual que la inicial\")\n",
    "   \n",
    "  except:\n",
    "   print('Error en la/s fecha/s. ¡Inténtalo de nuevo!')\n",
    "   \n",
    " return 0\n",
    "\n",
    "if __name__ == '__main__':\n",
    " main()"
   ]
  },
  {
   "cell_type": "markdown",
   "metadata": {},
   "source": [
    "## A partir de una hora se obtiene fracción del día\n"
   ]
  },
  {
   "cell_type": "code",
   "execution_count": null,
   "metadata": {},
   "outputs": [],
   "source": [
    "# A partir de una hora introducida por teclado se obtiene\n",
    "# fracción del día, teniendo en cuenta que 24 horas = 86400 seg\n",
    "# Formato de entrada: hh:mm:ss\n",
    "# Valores Hora...: 0 a 23\n",
    "# Valores Minuto.: 0 a 59\n",
    "# Valores Segundo: 0 a 59\n",
    "\n",
    "from datetime import datetime\n",
    "formato = \"%H:%M:%S\"\n",
    "\n",
    "while True:\n",
    " try:\n",
    "  hhmmss = input('Introducir hora (hh:mm:ss): ')\n",
    "  if hhmmss == \"\":\n",
    "   break\n",
    "  \n",
    "  hhmmss = datetime.strptime(hhmmss, formato)\n",
    "  horas = hhmmss.hour\n",
    "  minutos = hhmmss.minute\n",
    "  segundos = hhmmss.second\n",
    "  hhmmss_seg = (horas * 60 * 60) + (minutos * 60) + segundos \n",
    "  resultado = float(hhmmss_seg / 86400)\n",
    "  print(\"Resultado: \", resultado)\n",
    " \n",
    " except:\n",
    "  print('Error en el formato de hora introducido.')\n",
    "  print('-> Formato válido: hh:mm:ss  ¡Inténtalo de nuevo!')"
   ]
  },
  {
   "cell_type": "markdown",
   "metadata": {},
   "source": [
    "## Diferencia de dos fechas (date)"
   ]
  },
  {
   "cell_type": "code",
   "execution_count": null,
   "metadata": {},
   "outputs": [],
   "source": [
    "hoy = date.today()\n",
    "navidad_año_proximo = date(2024, 12, 25)\n",
    "faltan = navidad_año_proximo - hoy\n",
    "print (\"Hoy:\", hoy)\n",
    "print (\"La navidad del 2024\", navidad_año_proximo)\n",
    "print (\"Faltan\", faltan.days, \"días\")"
   ]
  },
  {
   "cell_type": "markdown",
   "metadata": {},
   "source": [
    "## Expresar una fecha en formato largo"
   ]
  },
  {
   "cell_type": "code",
   "execution_count": null,
   "metadata": {},
   "outputs": [],
   "source": [
    "print(\"Hoy es...\", datetime.ctime(fecha1))"
   ]
  },
  {
   "cell_type": "markdown",
   "metadata": {},
   "source": [
    "## A partir de una fecha se obtiene tupla con año, nº semana y día de semana"
   ]
  },
  {
   "cell_type": "code",
   "execution_count": null,
   "metadata": {},
   "outputs": [],
   "source": [
    "print(\"Fecha\", fecha1, \n",
    "      \"Año, nº sem., día sem.:\", \n",
    "      datetime.isocalendar(fecha1))"
   ]
  },
  {
   "cell_type": "markdown",
   "metadata": {},
   "source": [
    "## Obtener calendario del mes actual (calendar.month)"
   ]
  },
  {
   "cell_type": "code",
   "execution_count": null,
   "metadata": {},
   "outputs": [],
   "source": [
    "año = date.today().year \n",
    "mes = date.today().month\n",
    "calendario_mes = calendar.month(año, mes)\n",
    "print(calendario_mes)"
   ]
  },
  {
   "cell_type": "markdown",
   "metadata": {},
   "source": [
    "## Obtener calendario del mes actual (calendar.TextCalendar)\n",
    "\n",
    "Se establece el Domingo como primer día de la semana"
   ]
  },
  {
   "cell_type": "code",
   "execution_count": null,
   "metadata": {},
   "outputs": [],
   "source": [
    "calendario = calendar.TextCalendar(calendar.SUNDAY)\n",
    "calendario.prmonth(año, mes)"
   ]
  },
  {
   "cell_type": "markdown",
   "metadata": {},
   "source": [
    "## Obtener matriz con calendario de mes actual: (Calendar monthdayscalendar)\n"
   ]
  },
  {
   "cell_type": "code",
   "execution_count": null,
   "metadata": {},
   "outputs": [],
   "source": [
    "calendario = calendar.Calendar()\n",
    "for elemento in calendario.monthdayscalendar(año, mes):\n",
    "    print(elemento)"
   ]
  },
  {
   "cell_type": "markdown",
   "metadata": {},
   "source": [
    "## Obtener matriz de tuplas con calendario: (Calendar monthdays2calendar)\n",
    "\n",
    "El primer valor de cada par es el número de día del mes y el segundo valor se corresponde con el número de día de la semana: 0:lunes, 1:martes, 2:miércoles, etc."
   ]
  },
  {
   "cell_type": "code",
   "execution_count": null,
   "metadata": {},
   "outputs": [],
   "source": [
    "calendario = calendario.monthdays2calendar(año, mes)\n",
    "for elemento in calendario:\n",
    "    print(elemento)"
   ]
  },
  {
   "cell_type": "markdown",
   "metadata": {},
   "source": [
    "## Calendario completo del año 2018"
   ]
  },
  {
   "cell_type": "code",
   "execution_count": 1,
   "metadata": {},
   "outputs": [
    {
     "ename": "NameError",
     "evalue": "name 'calendar' is not defined",
     "output_type": "error",
     "traceback": [
      "\u001b[1;31m---------------------------------------------------------------------------\u001b[0m",
      "\u001b[1;31mNameError\u001b[0m                                 Traceback (most recent call last)",
      "Input \u001b[1;32mIn [1]\u001b[0m, in \u001b[0;36m<cell line: 1>\u001b[1;34m()\u001b[0m\n\u001b[1;32m----> 1\u001b[0m \u001b[38;5;28mprint\u001b[39m(\u001b[43mcalendar\u001b[49m\u001b[38;5;241m.\u001b[39mTextCalendar(calendar\u001b[38;5;241m.\u001b[39mMONDAY)\u001b[38;5;241m.\u001b[39mformatyear(\u001b[38;5;241m2021\u001b[39m, \n\u001b[0;32m      2\u001b[0m                                                         \u001b[38;5;241m2\u001b[39m, \u001b[38;5;241m1\u001b[39m, \u001b[38;5;241m1\u001b[39m, \u001b[38;5;241m2\u001b[39m))\n",
      "\u001b[1;31mNameError\u001b[0m: name 'calendar' is not defined"
     ]
    }
   ],
   "source": [
    "print(calendar.TextCalendar(calendar.MONDAY).formatyear(2021, \n",
    "                                                        2, 1, 1, 2))"
   ]
  },
  {
   "cell_type": "code",
   "execution_count": null,
   "metadata": {},
   "outputs": [],
   "source": []
  }
 ],
 "metadata": {
  "colab": {
   "collapsed_sections": [],
   "name": "Sesión05_FDP_OG5_Ejercicios.ipynb",
   "provenance": []
  },
  "kernelspec": {
   "display_name": "Python 3 (ipykernel)",
   "language": "python",
   "name": "python3"
  },
  "language_info": {
   "codemirror_mode": {
    "name": "ipython",
    "version": 3
   },
   "file_extension": ".py",
   "mimetype": "text/x-python",
   "name": "python",
   "nbconvert_exporter": "python",
   "pygments_lexer": "ipython3",
   "version": "3.9.12"
  }
 },
 "nbformat": 4,
 "nbformat_minor": 1
}
