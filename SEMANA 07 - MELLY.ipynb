{
 "cells": [
  {
   "cell_type": "markdown",
   "id": "238e574e",
   "metadata": {},
   "source": [
    "# Práctica N°7"
   ]
  },
  {
   "cell_type": "markdown",
   "id": "4533ed0a",
   "metadata": {},
   "source": [
    "1. Generar un DataFrame con los datos del fichero."
   ]
  },
  {
   "cell_type": "code",
   "execution_count": 1,
   "id": "f11a7378",
   "metadata": {},
   "outputs": [
    {
     "name": "stdout",
     "output_type": "stream",
     "text": [
      "     PassengerId  Survived  Pclass  \\\n",
      "0              1         0       3   \n",
      "1              2         1       1   \n",
      "2              3         1       3   \n",
      "3              4         1       1   \n",
      "4              5         0       3   \n",
      "..           ...       ...     ...   \n",
      "886          887         0       2   \n",
      "887          888         1       1   \n",
      "888          889         0       3   \n",
      "889          890         1       1   \n",
      "890          891         0       3   \n",
      "\n",
      "                                                  Name     Sex   Age  SibSp  \\\n",
      "0                              Braund, Mr. Owen Harris    male  22.0      1   \n",
      "1    Cumings, Mrs. John Bradley (Florence Briggs Th...  female  38.0      1   \n",
      "2                               Heikkinen, Miss. Laina  female  26.0      0   \n",
      "3         Futrelle, Mrs. Jacques Heath (Lily May Peel)  female  35.0      1   \n",
      "4                             Allen, Mr. William Henry    male  35.0      0   \n",
      "..                                                 ...     ...   ...    ...   \n",
      "886                              Montvila, Rev. Juozas    male  27.0      0   \n",
      "887                       Graham, Miss. Margaret Edith  female  19.0      0   \n",
      "888           Johnston, Miss. Catherine Helen \"Carrie\"  female   NaN      1   \n",
      "889                              Behr, Mr. Karl Howell    male  26.0      0   \n",
      "890                                Dooley, Mr. Patrick    male  32.0      0   \n",
      "\n",
      "     Parch            Ticket     Fare Cabin Embarked  \n",
      "0        0         A/5 21171   7.2500   NaN        S  \n",
      "1        0          PC 17599  71.2833   C85        C  \n",
      "2        0  STON/O2. 3101282   7.9250   NaN        S  \n",
      "3        0            113803  53.1000  C123        S  \n",
      "4        0            373450   8.0500   NaN        S  \n",
      "..     ...               ...      ...   ...      ...  \n",
      "886      0            211536  13.0000   NaN        S  \n",
      "887      0            112053  30.0000   B42        S  \n",
      "888      2        W./C. 6607  23.4500   NaN        S  \n",
      "889      0            111369  30.0000  C148        C  \n",
      "890      0            370376   7.7500   NaN        Q  \n",
      "\n",
      "[891 rows x 12 columns]\n"
     ]
    }
   ],
   "source": [
    "import pandas as pd #Importamos la librería Panda como pd\n",
    "\n",
    "titan = pd.read_csv('titanic.csv') #read_csv() para cargar la base de datos leyendo un archivo de datos no estructurada\n",
    "\n",
    "print(titan)"
   ]
  },
  {
   "cell_type": "markdown",
   "id": "da15ac24",
   "metadata": {},
   "source": [
    "2. Mostrar por pantalla las dimensiones del DataFrame, el número de datos que contiene, los nombres de sus columnas y filas, los tipos de datos de las columnas, las 10 primeras filas y las 10 últimas filas"
   ]
  },
  {
   "cell_type": "code",
   "execution_count": 2,
   "id": "7a3e7ef7",
   "metadata": {},
   "outputs": [
    {
     "name": "stdout",
     "output_type": "stream",
     "text": [
      "\n",
      "Las dimensiones del DataFrame, son:\n",
      "  10692\n",
      "\n",
      "El número de datos es:\n",
      "  10692\n",
      "\n",
      "El nombres de sus columnas son:\n",
      "  Index(['PassengerId', 'Survived', 'Pclass', 'Name', 'Sex', 'Age', 'SibSp',\n",
      "       'Parch', 'Ticket', 'Fare', 'Cabin', 'Embarked'],\n",
      "      dtype='object')\n",
      "\n",
      "El nombres de sus filas son:\n",
      "  RangeIndex(start=0, stop=891, step=1)\n",
      "\n",
      "El tipo de datos de las columnas son:\n",
      "  PassengerId      int64\n",
      "Survived         int64\n",
      "Pclass           int64\n",
      "Name            object\n",
      "Sex             object\n",
      "Age            float64\n",
      "SibSp            int64\n",
      "Parch            int64\n",
      "Ticket          object\n",
      "Fare           float64\n",
      "Cabin           object\n",
      "Embarked        object\n",
      "dtype: object\n",
      "\n",
      "Las 10 primeras filas son:\n",
      "     PassengerId  Survived  Pclass  \\\n",
      "0            1         0       3   \n",
      "1            2         1       1   \n",
      "2            3         1       3   \n",
      "3            4         1       1   \n",
      "4            5         0       3   \n",
      "5            6         0       3   \n",
      "6            7         0       1   \n",
      "7            8         0       3   \n",
      "8            9         1       3   \n",
      "9           10         1       2   \n",
      "\n",
      "                                                Name     Sex   Age  SibSp  \\\n",
      "0                            Braund, Mr. Owen Harris    male  22.0      1   \n",
      "1  Cumings, Mrs. John Bradley (Florence Briggs Th...  female  38.0      1   \n",
      "2                             Heikkinen, Miss. Laina  female  26.0      0   \n",
      "3       Futrelle, Mrs. Jacques Heath (Lily May Peel)  female  35.0      1   \n",
      "4                           Allen, Mr. William Henry    male  35.0      0   \n",
      "5                                   Moran, Mr. James    male   NaN      0   \n",
      "6                            McCarthy, Mr. Timothy J    male  54.0      0   \n",
      "7                     Palsson, Master. Gosta Leonard    male   2.0      3   \n",
      "8  Johnson, Mrs. Oscar W (Elisabeth Vilhelmina Berg)  female  27.0      0   \n",
      "9                Nasser, Mrs. Nicholas (Adele Achem)  female  14.0      1   \n",
      "\n",
      "   Parch            Ticket     Fare Cabin Embarked  \n",
      "0      0         A/5 21171   7.2500   NaN        S  \n",
      "1      0          PC 17599  71.2833   C85        C  \n",
      "2      0  STON/O2. 3101282   7.9250   NaN        S  \n",
      "3      0            113803  53.1000  C123        S  \n",
      "4      0            373450   8.0500   NaN        S  \n",
      "5      0            330877   8.4583   NaN        Q  \n",
      "6      0             17463  51.8625   E46        S  \n",
      "7      1            349909  21.0750   NaN        S  \n",
      "8      2            347742  11.1333   NaN        S  \n",
      "9      0            237736  30.0708   NaN        C  \n",
      "\n",
      "Las 10 últimas filas son:\n",
      "       PassengerId  Survived  Pclass                                      Name  \\\n",
      "881          882         0       3                        Markun, Mr. Johann   \n",
      "882          883         0       3              Dahlberg, Miss. Gerda Ulrika   \n",
      "883          884         0       2             Banfield, Mr. Frederick James   \n",
      "884          885         0       3                    Sutehall, Mr. Henry Jr   \n",
      "885          886         0       3      Rice, Mrs. William (Margaret Norton)   \n",
      "886          887         0       2                     Montvila, Rev. Juozas   \n",
      "887          888         1       1              Graham, Miss. Margaret Edith   \n",
      "888          889         0       3  Johnston, Miss. Catherine Helen \"Carrie\"   \n",
      "889          890         1       1                     Behr, Mr. Karl Howell   \n",
      "890          891         0       3                       Dooley, Mr. Patrick   \n",
      "\n",
      "        Sex   Age  SibSp  Parch            Ticket     Fare Cabin Embarked  \n",
      "881    male  33.0      0      0            349257   7.8958   NaN        S  \n",
      "882  female  22.0      0      0              7552  10.5167   NaN        S  \n",
      "883    male  28.0      0      0  C.A./SOTON 34068  10.5000   NaN        S  \n",
      "884    male  25.0      0      0   SOTON/OQ 392076   7.0500   NaN        S  \n",
      "885  female  39.0      0      5            382652  29.1250   NaN        Q  \n",
      "886    male  27.0      0      0            211536  13.0000   NaN        S  \n",
      "887  female  19.0      0      0            112053  30.0000   B42        S  \n",
      "888  female   NaN      1      2        W./C. 6607  23.4500   NaN        S  \n",
      "889    male  26.0      0      0            111369  30.0000  C148        C  \n",
      "890    male  32.0      0      0            370376   7.7500   NaN        Q  \n"
     ]
    }
   ],
   "source": [
    "# dimensiones del DataFrame\n",
    "print(f'\\nLas dimensiones del DataFrame, son:\\n ', titan.size)\n",
    "# número de datos que contiene\n",
    "print(f'\\nEl número de datos es:\\n ', titan.size)\n",
    "# nombres de sus columnas\n",
    "print(f'\\nEl nombres de sus columnas son:\\n ', titan.columns)\n",
    "# nombres de sus filas\n",
    "print(f'\\nEl nombres de sus filas son:\\n ', titan.index)\n",
    "# tipos de datos de las columnas\n",
    "print(f'\\nEl tipo de datos de las columnas son:\\n ', titan.dtypes)\n",
    "# 10 primeras filas\n",
    "print(f'\\nLas 10 primeras filas son:\\n ', titan.head(10))\n",
    "# 10 últimas filas\n",
    "print(f'\\nLas 10 últimas filas son:\\n ', titan.tail(10))"
   ]
  },
  {
   "cell_type": "markdown",
   "id": "073a4048",
   "metadata": {},
   "source": [
    "3. Mostrar por pantalla los datos del pasajero con identificador 148."
   ]
  },
  {
   "cell_type": "code",
   "execution_count": 3,
   "id": "c01a3e5a",
   "metadata": {},
   "outputs": [
    {
     "data": {
      "text/plain": [
       "PassengerId                                         149\n",
       "Survived                                              0\n",
       "Pclass                                                2\n",
       "Name           Navratil, Mr. Michel (\"Louis M Hoffman\")\n",
       "Sex                                                male\n",
       "Age                                                36.5\n",
       "SibSp                                                 0\n",
       "Parch                                                 2\n",
       "Ticket                                           230080\n",
       "Fare                                               26.0\n",
       "Cabin                                                F2\n",
       "Embarked                                              S\n",
       "Name: 148, dtype: object"
      ]
     },
     "execution_count": 3,
     "metadata": {},
     "output_type": "execute_result"
    }
   ],
   "source": [
    "titan.loc[148] #loc() define una selección a traves de un indice. \n",
    "#Selecciona por filas en función del indice"
   ]
  },
  {
   "cell_type": "markdown",
   "id": "698dc659",
   "metadata": {},
   "source": [
    "4. Mostrar por pantalla las filas pares del DataFrame."
   ]
  },
  {
   "cell_type": "code",
   "execution_count": 4,
   "id": "1823ecd0",
   "metadata": {},
   "outputs": [
    {
     "name": "stdout",
     "output_type": "stream",
     "text": [
      "     PassengerId  Survived  Pclass  \\\n",
      "0              1         0       3   \n",
      "2              3         1       3   \n",
      "4              5         0       3   \n",
      "6              7         0       1   \n",
      "8              9         1       3   \n",
      "..           ...       ...     ...   \n",
      "882          883         0       3   \n",
      "884          885         0       3   \n",
      "886          887         0       2   \n",
      "888          889         0       3   \n",
      "890          891         0       3   \n",
      "\n",
      "                                                  Name     Sex   Age  SibSp  \\\n",
      "0                              Braund, Mr. Owen Harris    male  22.0      1   \n",
      "2                               Heikkinen, Miss. Laina  female  26.0      0   \n",
      "4                             Allen, Mr. William Henry    male  35.0      0   \n",
      "6                              McCarthy, Mr. Timothy J    male  54.0      0   \n",
      "8    Johnson, Mrs. Oscar W (Elisabeth Vilhelmina Berg)  female  27.0      0   \n",
      "..                                                 ...     ...   ...    ...   \n",
      "882                       Dahlberg, Miss. Gerda Ulrika  female  22.0      0   \n",
      "884                             Sutehall, Mr. Henry Jr    male  25.0      0   \n",
      "886                              Montvila, Rev. Juozas    male  27.0      0   \n",
      "888           Johnston, Miss. Catherine Helen \"Carrie\"  female   NaN      1   \n",
      "890                                Dooley, Mr. Patrick    male  32.0      0   \n",
      "\n",
      "     Parch            Ticket     Fare Cabin Embarked  \n",
      "0        0         A/5 21171   7.2500   NaN        S  \n",
      "2        0  STON/O2. 3101282   7.9250   NaN        S  \n",
      "4        0            373450   8.0500   NaN        S  \n",
      "6        0             17463  51.8625   E46        S  \n",
      "8        2            347742  11.1333   NaN        S  \n",
      "..     ...               ...      ...   ...      ...  \n",
      "882      0              7552  10.5167   NaN        S  \n",
      "884      0   SOTON/OQ 392076   7.0500   NaN        S  \n",
      "886      0            211536  13.0000   NaN        S  \n",
      "888      2        W./C. 6607  23.4500   NaN        S  \n",
      "890      0            370376   7.7500   NaN        Q  \n",
      "\n",
      "[446 rows x 12 columns]\n"
     ]
    }
   ],
   "source": [
    "#Aplicamos un slicing \n",
    "#\"::\" hace referencia a cualquier argumento como Initial y End \n",
    "#que al estar en blanco conducirá al uso de valores predeterminados,\n",
    "#es decir, 0 como Initial , la longitud de la lista como End y 2 como IndexJump\n",
    "print(titan[::2]) "
   ]
  },
  {
   "cell_type": "code",
   "execution_count": 5,
   "id": "5e0ea364",
   "metadata": {},
   "outputs": [
    {
     "name": "stdout",
     "output_type": "stream",
     "text": [
      "     PassengerId  Survived  Pclass  \\\n",
      "0              1         0       3   \n",
      "2              3         1       3   \n",
      "4              5         0       3   \n",
      "6              7         0       1   \n",
      "8              9         1       3   \n",
      "..           ...       ...     ...   \n",
      "882          883         0       3   \n",
      "884          885         0       3   \n",
      "886          887         0       2   \n",
      "888          889         0       3   \n",
      "890          891         0       3   \n",
      "\n",
      "                                                  Name     Sex   Age  SibSp  \\\n",
      "0                              Braund, Mr. Owen Harris    male  22.0      1   \n",
      "2                               Heikkinen, Miss. Laina  female  26.0      0   \n",
      "4                             Allen, Mr. William Henry    male  35.0      0   \n",
      "6                              McCarthy, Mr. Timothy J    male  54.0      0   \n",
      "8    Johnson, Mrs. Oscar W (Elisabeth Vilhelmina Berg)  female  27.0      0   \n",
      "..                                                 ...     ...   ...    ...   \n",
      "882                       Dahlberg, Miss. Gerda Ulrika  female  22.0      0   \n",
      "884                             Sutehall, Mr. Henry Jr    male  25.0      0   \n",
      "886                              Montvila, Rev. Juozas    male  27.0      0   \n",
      "888           Johnston, Miss. Catherine Helen \"Carrie\"  female   NaN      1   \n",
      "890                                Dooley, Mr. Patrick    male  32.0      0   \n",
      "\n",
      "     Parch            Ticket     Fare Cabin Embarked  \n",
      "0        0         A/5 21171   7.2500   NaN        S  \n",
      "2        0  STON/O2. 3101282   7.9250   NaN        S  \n",
      "4        0            373450   8.0500   NaN        S  \n",
      "6        0             17463  51.8625   E46        S  \n",
      "8        2            347742  11.1333   NaN        S  \n",
      "..     ...               ...      ...   ...      ...  \n",
      "882      0              7552  10.5167   NaN        S  \n",
      "884      0   SOTON/OQ 392076   7.0500   NaN        S  \n",
      "886      0            211536  13.0000   NaN        S  \n",
      "888      2        W./C. 6607  23.4500   NaN        S  \n",
      "890      0            370376   7.7500   NaN        Q  \n",
      "\n",
      "[446 rows x 12 columns]\n"
     ]
    }
   ],
   "source": [
    "#iloc() es similar, pero utiliza enteros en vez de los nombres de los campos\n",
    "#indicamos que la fila inicie desde 0 y de 2 en 2 \n",
    "print(titan.iloc[::2]) #ALTERNATIVA "
   ]
  },
  {
   "cell_type": "markdown",
   "id": "1b52cf50",
   "metadata": {},
   "source": [
    "5. Mostrar por pantalla los nombres de las personas que iban en primera clase ordenadas alfabéticamente."
   ]
  },
  {
   "cell_type": "code",
   "execution_count": 6,
   "id": "ed6d2601",
   "metadata": {},
   "outputs": [
    {
     "name": "stdout",
     "output_type": "stream",
     "text": [
      "730                      Allen, Miss. Elisabeth Walton\n",
      "305                     Allison, Master. Hudson Trevor\n",
      "297                       Allison, Miss. Helen Loraine\n",
      "498    Allison, Mrs. Hudson J C (Bessie Waldo Daniels)\n",
      "460                                Anderson, Mr. Harry\n",
      "                            ...                       \n",
      "155                        Williams, Mr. Charles Duane\n",
      "351             Williams-Lambert, Mr. Fletcher Fellows\n",
      "55                                   Woolner, Mr. Hugh\n",
      "555                                 Wright, Mr. George\n",
      "325                           Young, Miss. Marie Grice\n",
      "Name: Name, Length: 216, dtype: object\n"
     ]
    }
   ],
   "source": [
    "#Indicamos el nro de la clase \n",
    "#y aplicamos un sort_values() para ordenar los nombres descendentemente\n",
    "print(titan[titan[\"Pclass\"]==1]['Name'].sort_values())"
   ]
  },
  {
   "cell_type": "markdown",
   "id": "b6b0582d",
   "metadata": {},
   "source": [
    "6. Mostrar por pantalla el porcentaje de personas que sobrevivieron y  murieron."
   ]
  },
  {
   "cell_type": "code",
   "execution_count": 7,
   "id": "c8e537e4",
   "metadata": {},
   "outputs": [
    {
     "name": "stdout",
     "output_type": "stream",
     "text": [
      "0    61.616162\n",
      "1    38.383838\n",
      "Name: Survived, dtype: float64\n"
     ]
    }
   ],
   "source": [
    "#Contamos la contidad de sobrevivientes y lo normalizamos y multiplicamos por 100 lo cual hace referencia al porcentaje \n",
    "#de sobreviventes y no sobrevivientes \n",
    "\n",
    "print(titan['Survived'].value_counts(normalize=True) * 100)"
   ]
  },
  {
   "cell_type": "code",
   "execution_count": 8,
   "id": "d933d597",
   "metadata": {},
   "outputs": [
    {
     "name": "stdout",
     "output_type": "stream",
     "text": [
      "VIVEN 38.38%\n",
      "MUEREN 61.62%\n"
     ]
    }
   ],
   "source": [
    "cantidad = len(titan)\n",
    "#calculamos el tamaño\n",
    "mueren = len(titan[titan.Survived == 0]) #0 equivale a los que murieron\n",
    "sobreviven = len(titan[titan.Survived == 1]) #1 equivalo a los sobrevivientes\n",
    "#calculamos el porcentaje los sobrevivientes y los que murieron\n",
    "pS = sobreviven / cantidad * 100\n",
    "pM = mueren / cantidad * 100\n",
    "#redondeamos la cantidad a dos decimales\n",
    "print(f'VIVEN {round(pS, 2)}%')\n",
    "print(f'MUEREN {round(pM, 2)}%')\n"
   ]
  },
  {
   "cell_type": "markdown",
   "id": "b935f014",
   "metadata": {},
   "source": [
    "7. Mostrar por pantalla el porcentaje de personas que sobrevivieron en cada clase."
   ]
  },
  {
   "cell_type": "code",
   "execution_count": 9,
   "id": "a6fcfee3",
   "metadata": {},
   "outputs": [
    {
     "name": "stdout",
     "output_type": "stream",
     "text": [
      "Pclass  Survived\n",
      "1       1           62.962963\n",
      "        0           37.037037\n",
      "2       0           52.717391\n",
      "        1           47.282609\n",
      "3       0           75.763747\n",
      "        1           24.236253\n",
      "Name: Survived, dtype: float64\n"
     ]
    }
   ],
   "source": [
    "#Para hacer agrupaciones, podemos usar groupby \n",
    "#Agrupamos los datos sobre el valor Pclass.\n",
    "#Al normalizar las variables con un rango entre 0 y 1, permite agilizar el análisis de datos.\n",
    "print(titan.groupby('Pclass')['Survived'].value_counts(normalize=True)*100)  "
   ]
  },
  {
   "cell_type": "markdown",
   "id": "8d042ec4",
   "metadata": {},
   "source": [
    "8. Eliminar del DataFrame los pasajeros con edad desconocida."
   ]
  },
  {
   "cell_type": "code",
   "execution_count": 10,
   "id": "d40cf6d7",
   "metadata": {},
   "outputs": [
    {
     "data": {
      "text/html": [
       "<div>\n",
       "<style scoped>\n",
       "    .dataframe tbody tr th:only-of-type {\n",
       "        vertical-align: middle;\n",
       "    }\n",
       "\n",
       "    .dataframe tbody tr th {\n",
       "        vertical-align: top;\n",
       "    }\n",
       "\n",
       "    .dataframe thead th {\n",
       "        text-align: right;\n",
       "    }\n",
       "</style>\n",
       "<table border=\"1\" class=\"dataframe\">\n",
       "  <thead>\n",
       "    <tr style=\"text-align: right;\">\n",
       "      <th></th>\n",
       "      <th>PassengerId</th>\n",
       "      <th>Survived</th>\n",
       "      <th>Pclass</th>\n",
       "      <th>Name</th>\n",
       "      <th>Sex</th>\n",
       "      <th>Age</th>\n",
       "      <th>SibSp</th>\n",
       "      <th>Parch</th>\n",
       "      <th>Ticket</th>\n",
       "      <th>Fare</th>\n",
       "      <th>Cabin</th>\n",
       "      <th>Embarked</th>\n",
       "    </tr>\n",
       "  </thead>\n",
       "  <tbody>\n",
       "    <tr>\n",
       "      <th>0</th>\n",
       "      <td>1</td>\n",
       "      <td>0</td>\n",
       "      <td>3</td>\n",
       "      <td>Braund, Mr. Owen Harris</td>\n",
       "      <td>male</td>\n",
       "      <td>22.0</td>\n",
       "      <td>1</td>\n",
       "      <td>0</td>\n",
       "      <td>A/5 21171</td>\n",
       "      <td>7.2500</td>\n",
       "      <td>NaN</td>\n",
       "      <td>S</td>\n",
       "    </tr>\n",
       "    <tr>\n",
       "      <th>1</th>\n",
       "      <td>2</td>\n",
       "      <td>1</td>\n",
       "      <td>1</td>\n",
       "      <td>Cumings, Mrs. John Bradley (Florence Briggs Th...</td>\n",
       "      <td>female</td>\n",
       "      <td>38.0</td>\n",
       "      <td>1</td>\n",
       "      <td>0</td>\n",
       "      <td>PC 17599</td>\n",
       "      <td>71.2833</td>\n",
       "      <td>C85</td>\n",
       "      <td>C</td>\n",
       "    </tr>\n",
       "    <tr>\n",
       "      <th>2</th>\n",
       "      <td>3</td>\n",
       "      <td>1</td>\n",
       "      <td>3</td>\n",
       "      <td>Heikkinen, Miss. Laina</td>\n",
       "      <td>female</td>\n",
       "      <td>26.0</td>\n",
       "      <td>0</td>\n",
       "      <td>0</td>\n",
       "      <td>STON/O2. 3101282</td>\n",
       "      <td>7.9250</td>\n",
       "      <td>NaN</td>\n",
       "      <td>S</td>\n",
       "    </tr>\n",
       "    <tr>\n",
       "      <th>3</th>\n",
       "      <td>4</td>\n",
       "      <td>1</td>\n",
       "      <td>1</td>\n",
       "      <td>Futrelle, Mrs. Jacques Heath (Lily May Peel)</td>\n",
       "      <td>female</td>\n",
       "      <td>35.0</td>\n",
       "      <td>1</td>\n",
       "      <td>0</td>\n",
       "      <td>113803</td>\n",
       "      <td>53.1000</td>\n",
       "      <td>C123</td>\n",
       "      <td>S</td>\n",
       "    </tr>\n",
       "    <tr>\n",
       "      <th>4</th>\n",
       "      <td>5</td>\n",
       "      <td>0</td>\n",
       "      <td>3</td>\n",
       "      <td>Allen, Mr. William Henry</td>\n",
       "      <td>male</td>\n",
       "      <td>35.0</td>\n",
       "      <td>0</td>\n",
       "      <td>0</td>\n",
       "      <td>373450</td>\n",
       "      <td>8.0500</td>\n",
       "      <td>NaN</td>\n",
       "      <td>S</td>\n",
       "    </tr>\n",
       "    <tr>\n",
       "      <th>...</th>\n",
       "      <td>...</td>\n",
       "      <td>...</td>\n",
       "      <td>...</td>\n",
       "      <td>...</td>\n",
       "      <td>...</td>\n",
       "      <td>...</td>\n",
       "      <td>...</td>\n",
       "      <td>...</td>\n",
       "      <td>...</td>\n",
       "      <td>...</td>\n",
       "      <td>...</td>\n",
       "      <td>...</td>\n",
       "    </tr>\n",
       "    <tr>\n",
       "      <th>885</th>\n",
       "      <td>886</td>\n",
       "      <td>0</td>\n",
       "      <td>3</td>\n",
       "      <td>Rice, Mrs. William (Margaret Norton)</td>\n",
       "      <td>female</td>\n",
       "      <td>39.0</td>\n",
       "      <td>0</td>\n",
       "      <td>5</td>\n",
       "      <td>382652</td>\n",
       "      <td>29.1250</td>\n",
       "      <td>NaN</td>\n",
       "      <td>Q</td>\n",
       "    </tr>\n",
       "    <tr>\n",
       "      <th>886</th>\n",
       "      <td>887</td>\n",
       "      <td>0</td>\n",
       "      <td>2</td>\n",
       "      <td>Montvila, Rev. Juozas</td>\n",
       "      <td>male</td>\n",
       "      <td>27.0</td>\n",
       "      <td>0</td>\n",
       "      <td>0</td>\n",
       "      <td>211536</td>\n",
       "      <td>13.0000</td>\n",
       "      <td>NaN</td>\n",
       "      <td>S</td>\n",
       "    </tr>\n",
       "    <tr>\n",
       "      <th>887</th>\n",
       "      <td>888</td>\n",
       "      <td>1</td>\n",
       "      <td>1</td>\n",
       "      <td>Graham, Miss. Margaret Edith</td>\n",
       "      <td>female</td>\n",
       "      <td>19.0</td>\n",
       "      <td>0</td>\n",
       "      <td>0</td>\n",
       "      <td>112053</td>\n",
       "      <td>30.0000</td>\n",
       "      <td>B42</td>\n",
       "      <td>S</td>\n",
       "    </tr>\n",
       "    <tr>\n",
       "      <th>889</th>\n",
       "      <td>890</td>\n",
       "      <td>1</td>\n",
       "      <td>1</td>\n",
       "      <td>Behr, Mr. Karl Howell</td>\n",
       "      <td>male</td>\n",
       "      <td>26.0</td>\n",
       "      <td>0</td>\n",
       "      <td>0</td>\n",
       "      <td>111369</td>\n",
       "      <td>30.0000</td>\n",
       "      <td>C148</td>\n",
       "      <td>C</td>\n",
       "    </tr>\n",
       "    <tr>\n",
       "      <th>890</th>\n",
       "      <td>891</td>\n",
       "      <td>0</td>\n",
       "      <td>3</td>\n",
       "      <td>Dooley, Mr. Patrick</td>\n",
       "      <td>male</td>\n",
       "      <td>32.0</td>\n",
       "      <td>0</td>\n",
       "      <td>0</td>\n",
       "      <td>370376</td>\n",
       "      <td>7.7500</td>\n",
       "      <td>NaN</td>\n",
       "      <td>Q</td>\n",
       "    </tr>\n",
       "  </tbody>\n",
       "</table>\n",
       "<p>714 rows × 12 columns</p>\n",
       "</div>"
      ],
      "text/plain": [
       "     PassengerId  Survived  Pclass  \\\n",
       "0              1         0       3   \n",
       "1              2         1       1   \n",
       "2              3         1       3   \n",
       "3              4         1       1   \n",
       "4              5         0       3   \n",
       "..           ...       ...     ...   \n",
       "885          886         0       3   \n",
       "886          887         0       2   \n",
       "887          888         1       1   \n",
       "889          890         1       1   \n",
       "890          891         0       3   \n",
       "\n",
       "                                                  Name     Sex   Age  SibSp  \\\n",
       "0                              Braund, Mr. Owen Harris    male  22.0      1   \n",
       "1    Cumings, Mrs. John Bradley (Florence Briggs Th...  female  38.0      1   \n",
       "2                               Heikkinen, Miss. Laina  female  26.0      0   \n",
       "3         Futrelle, Mrs. Jacques Heath (Lily May Peel)  female  35.0      1   \n",
       "4                             Allen, Mr. William Henry    male  35.0      0   \n",
       "..                                                 ...     ...   ...    ...   \n",
       "885               Rice, Mrs. William (Margaret Norton)  female  39.0      0   \n",
       "886                              Montvila, Rev. Juozas    male  27.0      0   \n",
       "887                       Graham, Miss. Margaret Edith  female  19.0      0   \n",
       "889                              Behr, Mr. Karl Howell    male  26.0      0   \n",
       "890                                Dooley, Mr. Patrick    male  32.0      0   \n",
       "\n",
       "     Parch            Ticket     Fare Cabin Embarked  \n",
       "0        0         A/5 21171   7.2500   NaN        S  \n",
       "1        0          PC 17599  71.2833   C85        C  \n",
       "2        0  STON/O2. 3101282   7.9250   NaN        S  \n",
       "3        0            113803  53.1000  C123        S  \n",
       "4        0            373450   8.0500   NaN        S  \n",
       "..     ...               ...      ...   ...      ...  \n",
       "885      5            382652  29.1250   NaN        Q  \n",
       "886      0            211536  13.0000   NaN        S  \n",
       "887      0            112053  30.0000   B42        S  \n",
       "889      0            111369  30.0000  C148        C  \n",
       "890      0            370376   7.7500   NaN        Q  \n",
       "\n",
       "[714 rows x 12 columns]"
      ]
     },
     "execution_count": 10,
     "metadata": {},
     "output_type": "execute_result"
    }
   ],
   "source": [
    "titan.dropna(subset=['Age']) #Define en qué columnas buscar valores faltantes."
   ]
  },
  {
   "cell_type": "markdown",
   "id": "3901a007",
   "metadata": {},
   "source": [
    "9. Mostrar por pantalla la edad media de las mujeres que viajaban en cada clase."
   ]
  },
  {
   "cell_type": "code",
   "execution_count": 11,
   "id": "8935f673",
   "metadata": {},
   "outputs": [
    {
     "name": "stdout",
     "output_type": "stream",
     "text": [
      "Pclass\n",
      "1    34.611765\n",
      "2    28.722973\n",
      "3    21.750000\n",
      "Name: female, dtype: float64\n"
     ]
    }
   ],
   "source": [
    "#Agrupamos con el valor Pclass la clase a la que pertenecen las mujeres y el promedio de su edad\n",
    "#La función mean() se utiliza para calcular la media/promedio\n",
    "#Unstack() gira la columna indexada\n",
    "print(titan.groupby(['Pclass','Sex'])['Age'].mean().unstack()['female'])"
   ]
  },
  {
   "cell_type": "markdown",
   "id": "a1508540",
   "metadata": {},
   "source": [
    "10. Añadir una nueva columna booleana para ver si el pasajero era menor de edad o no."
   ]
  },
  {
   "cell_type": "code",
   "execution_count": 12,
   "id": "22283831",
   "metadata": {},
   "outputs": [
    {
     "name": "stdout",
     "output_type": "stream",
     "text": [
      "     PassengerId  Survived  Pclass  \\\n",
      "0              1         0       3   \n",
      "1              2         1       1   \n",
      "2              3         1       3   \n",
      "3              4         1       1   \n",
      "4              5         0       3   \n",
      "..           ...       ...     ...   \n",
      "886          887         0       2   \n",
      "887          888         1       1   \n",
      "888          889         0       3   \n",
      "889          890         1       1   \n",
      "890          891         0       3   \n",
      "\n",
      "                                                  Name     Sex   Age  SibSp  \\\n",
      "0                              Braund, Mr. Owen Harris    male  22.0      1   \n",
      "1    Cumings, Mrs. John Bradley (Florence Briggs Th...  female  38.0      1   \n",
      "2                               Heikkinen, Miss. Laina  female  26.0      0   \n",
      "3         Futrelle, Mrs. Jacques Heath (Lily May Peel)  female  35.0      1   \n",
      "4                             Allen, Mr. William Henry    male  35.0      0   \n",
      "..                                                 ...     ...   ...    ...   \n",
      "886                              Montvila, Rev. Juozas    male  27.0      0   \n",
      "887                       Graham, Miss. Margaret Edith  female  19.0      0   \n",
      "888           Johnston, Miss. Catherine Helen \"Carrie\"  female   NaN      1   \n",
      "889                              Behr, Mr. Karl Howell    male  26.0      0   \n",
      "890                                Dooley, Mr. Patrick    male  32.0      0   \n",
      "\n",
      "     Parch            Ticket     Fare Cabin Embarked  Menor  \n",
      "0        0         A/5 21171   7.2500   NaN        S  False  \n",
      "1        0          PC 17599  71.2833   C85        C  False  \n",
      "2        0  STON/O2. 3101282   7.9250   NaN        S  False  \n",
      "3        0            113803  53.1000  C123        S  False  \n",
      "4        0            373450   8.0500   NaN        S  False  \n",
      "..     ...               ...      ...   ...      ...    ...  \n",
      "886      0            211536  13.0000   NaN        S  False  \n",
      "887      0            112053  30.0000   B42        S  False  \n",
      "888      2        W./C. 6607  23.4500   NaN        S  False  \n",
      "889      0            111369  30.0000  C148        C  False  \n",
      "890      0            370376   7.7500   NaN        Q  False  \n",
      "\n",
      "[891 rows x 13 columns]\n"
     ]
    }
   ],
   "source": [
    "#Indicamos el nombre de la colummna que queremos agregar \n",
    "#después indicamos que la edad sea menor a 18 e imprimimos\n",
    "titan['Menor'] = titan['Age'] < 18\n",
    "print(titan)"
   ]
  },
  {
   "cell_type": "markdown",
   "id": "7f9f789b",
   "metadata": {},
   "source": [
    "11. Mostrar por pantalla el porcentaje de menores y mayores de edad que sobrevivieron en cada clase."
   ]
  },
  {
   "cell_type": "code",
   "execution_count": 13,
   "id": "57f48a5c",
   "metadata": {},
   "outputs": [
    {
     "name": "stdout",
     "output_type": "stream",
     "text": [
      "Pclass  Menor  Survived\n",
      "1       False  1           61.274510\n",
      "               0           38.725490\n",
      "        True   1           91.666667\n",
      "               0            8.333333\n",
      "2       False  0           59.006211\n",
      "               1           40.993789\n",
      "        True   1           91.304348\n",
      "               0            8.695652\n",
      "3       False  0           78.208232\n",
      "               1           21.791768\n",
      "        True   0           62.820513\n",
      "               1           37.179487\n",
      "Name: Survived, dtype: float64\n"
     ]
    }
   ],
   "source": [
    "#Agrupamos sobre el valor Pclass, realizamos el conteo de los sobreviviente, para después normalizar y multiplicar por 100\n",
    "#que hace referencia al porcentaje, de tal forma que podamos obtener un valor representativo\n",
    "print(titan.groupby(['Pclass', 'Menor'])['Survived'].value_counts(normalize = True) * 100)"
   ]
  },
  {
   "cell_type": "code",
   "execution_count": null,
   "id": "33b42419",
   "metadata": {},
   "outputs": [],
   "source": []
  }
 ],
 "metadata": {
  "kernelspec": {
   "display_name": "Python 3 (ipykernel)",
   "language": "python",
   "name": "python3"
  },
  "language_info": {
   "codemirror_mode": {
    "name": "ipython",
    "version": 3
   },
   "file_extension": ".py",
   "mimetype": "text/x-python",
   "name": "python",
   "nbconvert_exporter": "python",
   "pygments_lexer": "ipython3",
   "version": "3.9.12"
  }
 },
 "nbformat": 4,
 "nbformat_minor": 5
}
